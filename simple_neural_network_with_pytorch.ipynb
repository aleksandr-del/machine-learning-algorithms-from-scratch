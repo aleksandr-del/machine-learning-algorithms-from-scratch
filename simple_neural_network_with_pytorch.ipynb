{
  "nbformat": 4,
  "nbformat_minor": 0,
  "metadata": {
    "colab": {
      "provenance": [],
      "toc_visible": true,
      "mount_file_id": "1YmepW8x27M_bWnuUfvvITErftBFWir2J",
      "authorship_tag": "ABX9TyN5zw3KCPSt2Xc4zh9zeVQn",
      "include_colab_link": true
    },
    "kernelspec": {
      "name": "python3",
      "display_name": "Python 3"
    },
    "language_info": {
      "name": "python"
    },
    "gpuClass": "standard"
  },
  "cells": [
    {
      "cell_type": "markdown",
      "metadata": {
        "id": "view-in-github",
        "colab_type": "text"
      },
      "source": [
        "<a href=\"https://colab.research.google.com/github/aleksandr-del/machine-learning-algorithms-from-scratch/blob/main/simple_neural_network_with_pytorch.ipynb\" target=\"_parent\"><img src=\"https://colab.research.google.com/assets/colab-badge.svg\" alt=\"Open In Colab\"/></a>"
      ]
    },
    {
      "cell_type": "markdown",
      "source": [
        "# Классификация изображений"
      ],
      "metadata": {
        "id": "KoIvBrUiC2uL"
      }
    },
    {
      "cell_type": "markdown",
      "source": [
        "Импортируем необходимые библиотеки:"
      ],
      "metadata": {
        "id": "wJLEmiyCGKRx"
      }
    },
    {
      "cell_type": "code",
      "source": [
        "import pandas as pd\n",
        "import numpy as np\n",
        "import matplotlib.pyplot as plt\n",
        "import seaborn as sns\n",
        "\n",
        "import torch\n",
        "import torch.nn as nn\n",
        "import torch.nn.functional as F\n",
        "from torch.nn import ReLU\n",
        "\n",
        "from sklearn.model_selection import train_test_split\n",
        "from sklearn.metrics import f1_score, accuracy_score\n",
        "\n",
        "from tqdm import tqdm"
      ],
      "metadata": {
        "id": "l50jyZnxGOpS"
      },
      "execution_count": null,
      "outputs": []
    },
    {
      "cell_type": "markdown",
      "source": [
        "## Загрузка данных"
      ],
      "metadata": {
        "id": "e2UJb7Z5Gfoh"
      }
    },
    {
      "cell_type": "markdown",
      "source": [
        "Загрузим данные с [соревнования](https://www.kaggle.com/competitions/digit-recognizer/overview) в Kaggle:"
      ],
      "metadata": {
        "id": "CvqUCyGuH5IZ"
      }
    },
    {
      "cell_type": "code",
      "source": [
        "df = pd.read_csv('/content/drive/Datasets/MNIST/train.csv')\n",
        "df"
      ],
      "metadata": {
        "colab": {
          "base_uri": "https://localhost:8080/",
          "height": 488
        },
        "id": "KsUvp1Y4ICVn",
        "outputId": "9b88c7cd-edb9-4e16-a718-020fc0d268f2"
      },
      "execution_count": null,
      "outputs": [
        {
          "output_type": "execute_result",
          "data": {
            "text/plain": [
              "       label  pixel0  pixel1  pixel2  pixel3  pixel4  pixel5  pixel6  pixel7  \\\n",
              "0          1       0       0       0       0       0       0       0       0   \n",
              "1          0       0       0       0       0       0       0       0       0   \n",
              "2          1       0       0       0       0       0       0       0       0   \n",
              "3          4       0       0       0       0       0       0       0       0   \n",
              "4          0       0       0       0       0       0       0       0       0   \n",
              "...      ...     ...     ...     ...     ...     ...     ...     ...     ...   \n",
              "41995      0       0       0       0       0       0       0       0       0   \n",
              "41996      1       0       0       0       0       0       0       0       0   \n",
              "41997      7       0       0       0       0       0       0       0       0   \n",
              "41998      6       0       0       0       0       0       0       0       0   \n",
              "41999      9       0       0       0       0       0       0       0       0   \n",
              "\n",
              "       pixel8  ...  pixel774  pixel775  pixel776  pixel777  pixel778  \\\n",
              "0           0  ...         0         0         0         0         0   \n",
              "1           0  ...         0         0         0         0         0   \n",
              "2           0  ...         0         0         0         0         0   \n",
              "3           0  ...         0         0         0         0         0   \n",
              "4           0  ...         0         0         0         0         0   \n",
              "...       ...  ...       ...       ...       ...       ...       ...   \n",
              "41995       0  ...         0         0         0         0         0   \n",
              "41996       0  ...         0         0         0         0         0   \n",
              "41997       0  ...         0         0         0         0         0   \n",
              "41998       0  ...         0         0         0         0         0   \n",
              "41999       0  ...         0         0         0         0         0   \n",
              "\n",
              "       pixel779  pixel780  pixel781  pixel782  pixel783  \n",
              "0             0         0         0         0         0  \n",
              "1             0         0         0         0         0  \n",
              "2             0         0         0         0         0  \n",
              "3             0         0         0         0         0  \n",
              "4             0         0         0         0         0  \n",
              "...         ...       ...       ...       ...       ...  \n",
              "41995         0         0         0         0         0  \n",
              "41996         0         0         0         0         0  \n",
              "41997         0         0         0         0         0  \n",
              "41998         0         0         0         0         0  \n",
              "41999         0         0         0         0         0  \n",
              "\n",
              "[42000 rows x 785 columns]"
            ],
            "text/html": [
              "\n",
              "  <div id=\"df-6284e30d-8f78-4859-bbef-6fe0fb8a57b7\">\n",
              "    <div class=\"colab-df-container\">\n",
              "      <div>\n",
              "<style scoped>\n",
              "    .dataframe tbody tr th:only-of-type {\n",
              "        vertical-align: middle;\n",
              "    }\n",
              "\n",
              "    .dataframe tbody tr th {\n",
              "        vertical-align: top;\n",
              "    }\n",
              "\n",
              "    .dataframe thead th {\n",
              "        text-align: right;\n",
              "    }\n",
              "</style>\n",
              "<table border=\"1\" class=\"dataframe\">\n",
              "  <thead>\n",
              "    <tr style=\"text-align: right;\">\n",
              "      <th></th>\n",
              "      <th>label</th>\n",
              "      <th>pixel0</th>\n",
              "      <th>pixel1</th>\n",
              "      <th>pixel2</th>\n",
              "      <th>pixel3</th>\n",
              "      <th>pixel4</th>\n",
              "      <th>pixel5</th>\n",
              "      <th>pixel6</th>\n",
              "      <th>pixel7</th>\n",
              "      <th>pixel8</th>\n",
              "      <th>...</th>\n",
              "      <th>pixel774</th>\n",
              "      <th>pixel775</th>\n",
              "      <th>pixel776</th>\n",
              "      <th>pixel777</th>\n",
              "      <th>pixel778</th>\n",
              "      <th>pixel779</th>\n",
              "      <th>pixel780</th>\n",
              "      <th>pixel781</th>\n",
              "      <th>pixel782</th>\n",
              "      <th>pixel783</th>\n",
              "    </tr>\n",
              "  </thead>\n",
              "  <tbody>\n",
              "    <tr>\n",
              "      <th>0</th>\n",
              "      <td>1</td>\n",
              "      <td>0</td>\n",
              "      <td>0</td>\n",
              "      <td>0</td>\n",
              "      <td>0</td>\n",
              "      <td>0</td>\n",
              "      <td>0</td>\n",
              "      <td>0</td>\n",
              "      <td>0</td>\n",
              "      <td>0</td>\n",
              "      <td>...</td>\n",
              "      <td>0</td>\n",
              "      <td>0</td>\n",
              "      <td>0</td>\n",
              "      <td>0</td>\n",
              "      <td>0</td>\n",
              "      <td>0</td>\n",
              "      <td>0</td>\n",
              "      <td>0</td>\n",
              "      <td>0</td>\n",
              "      <td>0</td>\n",
              "    </tr>\n",
              "    <tr>\n",
              "      <th>1</th>\n",
              "      <td>0</td>\n",
              "      <td>0</td>\n",
              "      <td>0</td>\n",
              "      <td>0</td>\n",
              "      <td>0</td>\n",
              "      <td>0</td>\n",
              "      <td>0</td>\n",
              "      <td>0</td>\n",
              "      <td>0</td>\n",
              "      <td>0</td>\n",
              "      <td>...</td>\n",
              "      <td>0</td>\n",
              "      <td>0</td>\n",
              "      <td>0</td>\n",
              "      <td>0</td>\n",
              "      <td>0</td>\n",
              "      <td>0</td>\n",
              "      <td>0</td>\n",
              "      <td>0</td>\n",
              "      <td>0</td>\n",
              "      <td>0</td>\n",
              "    </tr>\n",
              "    <tr>\n",
              "      <th>2</th>\n",
              "      <td>1</td>\n",
              "      <td>0</td>\n",
              "      <td>0</td>\n",
              "      <td>0</td>\n",
              "      <td>0</td>\n",
              "      <td>0</td>\n",
              "      <td>0</td>\n",
              "      <td>0</td>\n",
              "      <td>0</td>\n",
              "      <td>0</td>\n",
              "      <td>...</td>\n",
              "      <td>0</td>\n",
              "      <td>0</td>\n",
              "      <td>0</td>\n",
              "      <td>0</td>\n",
              "      <td>0</td>\n",
              "      <td>0</td>\n",
              "      <td>0</td>\n",
              "      <td>0</td>\n",
              "      <td>0</td>\n",
              "      <td>0</td>\n",
              "    </tr>\n",
              "    <tr>\n",
              "      <th>3</th>\n",
              "      <td>4</td>\n",
              "      <td>0</td>\n",
              "      <td>0</td>\n",
              "      <td>0</td>\n",
              "      <td>0</td>\n",
              "      <td>0</td>\n",
              "      <td>0</td>\n",
              "      <td>0</td>\n",
              "      <td>0</td>\n",
              "      <td>0</td>\n",
              "      <td>...</td>\n",
              "      <td>0</td>\n",
              "      <td>0</td>\n",
              "      <td>0</td>\n",
              "      <td>0</td>\n",
              "      <td>0</td>\n",
              "      <td>0</td>\n",
              "      <td>0</td>\n",
              "      <td>0</td>\n",
              "      <td>0</td>\n",
              "      <td>0</td>\n",
              "    </tr>\n",
              "    <tr>\n",
              "      <th>4</th>\n",
              "      <td>0</td>\n",
              "      <td>0</td>\n",
              "      <td>0</td>\n",
              "      <td>0</td>\n",
              "      <td>0</td>\n",
              "      <td>0</td>\n",
              "      <td>0</td>\n",
              "      <td>0</td>\n",
              "      <td>0</td>\n",
              "      <td>0</td>\n",
              "      <td>...</td>\n",
              "      <td>0</td>\n",
              "      <td>0</td>\n",
              "      <td>0</td>\n",
              "      <td>0</td>\n",
              "      <td>0</td>\n",
              "      <td>0</td>\n",
              "      <td>0</td>\n",
              "      <td>0</td>\n",
              "      <td>0</td>\n",
              "      <td>0</td>\n",
              "    </tr>\n",
              "    <tr>\n",
              "      <th>...</th>\n",
              "      <td>...</td>\n",
              "      <td>...</td>\n",
              "      <td>...</td>\n",
              "      <td>...</td>\n",
              "      <td>...</td>\n",
              "      <td>...</td>\n",
              "      <td>...</td>\n",
              "      <td>...</td>\n",
              "      <td>...</td>\n",
              "      <td>...</td>\n",
              "      <td>...</td>\n",
              "      <td>...</td>\n",
              "      <td>...</td>\n",
              "      <td>...</td>\n",
              "      <td>...</td>\n",
              "      <td>...</td>\n",
              "      <td>...</td>\n",
              "      <td>...</td>\n",
              "      <td>...</td>\n",
              "      <td>...</td>\n",
              "      <td>...</td>\n",
              "    </tr>\n",
              "    <tr>\n",
              "      <th>41995</th>\n",
              "      <td>0</td>\n",
              "      <td>0</td>\n",
              "      <td>0</td>\n",
              "      <td>0</td>\n",
              "      <td>0</td>\n",
              "      <td>0</td>\n",
              "      <td>0</td>\n",
              "      <td>0</td>\n",
              "      <td>0</td>\n",
              "      <td>0</td>\n",
              "      <td>...</td>\n",
              "      <td>0</td>\n",
              "      <td>0</td>\n",
              "      <td>0</td>\n",
              "      <td>0</td>\n",
              "      <td>0</td>\n",
              "      <td>0</td>\n",
              "      <td>0</td>\n",
              "      <td>0</td>\n",
              "      <td>0</td>\n",
              "      <td>0</td>\n",
              "    </tr>\n",
              "    <tr>\n",
              "      <th>41996</th>\n",
              "      <td>1</td>\n",
              "      <td>0</td>\n",
              "      <td>0</td>\n",
              "      <td>0</td>\n",
              "      <td>0</td>\n",
              "      <td>0</td>\n",
              "      <td>0</td>\n",
              "      <td>0</td>\n",
              "      <td>0</td>\n",
              "      <td>0</td>\n",
              "      <td>...</td>\n",
              "      <td>0</td>\n",
              "      <td>0</td>\n",
              "      <td>0</td>\n",
              "      <td>0</td>\n",
              "      <td>0</td>\n",
              "      <td>0</td>\n",
              "      <td>0</td>\n",
              "      <td>0</td>\n",
              "      <td>0</td>\n",
              "      <td>0</td>\n",
              "    </tr>\n",
              "    <tr>\n",
              "      <th>41997</th>\n",
              "      <td>7</td>\n",
              "      <td>0</td>\n",
              "      <td>0</td>\n",
              "      <td>0</td>\n",
              "      <td>0</td>\n",
              "      <td>0</td>\n",
              "      <td>0</td>\n",
              "      <td>0</td>\n",
              "      <td>0</td>\n",
              "      <td>0</td>\n",
              "      <td>...</td>\n",
              "      <td>0</td>\n",
              "      <td>0</td>\n",
              "      <td>0</td>\n",
              "      <td>0</td>\n",
              "      <td>0</td>\n",
              "      <td>0</td>\n",
              "      <td>0</td>\n",
              "      <td>0</td>\n",
              "      <td>0</td>\n",
              "      <td>0</td>\n",
              "    </tr>\n",
              "    <tr>\n",
              "      <th>41998</th>\n",
              "      <td>6</td>\n",
              "      <td>0</td>\n",
              "      <td>0</td>\n",
              "      <td>0</td>\n",
              "      <td>0</td>\n",
              "      <td>0</td>\n",
              "      <td>0</td>\n",
              "      <td>0</td>\n",
              "      <td>0</td>\n",
              "      <td>0</td>\n",
              "      <td>...</td>\n",
              "      <td>0</td>\n",
              "      <td>0</td>\n",
              "      <td>0</td>\n",
              "      <td>0</td>\n",
              "      <td>0</td>\n",
              "      <td>0</td>\n",
              "      <td>0</td>\n",
              "      <td>0</td>\n",
              "      <td>0</td>\n",
              "      <td>0</td>\n",
              "    </tr>\n",
              "    <tr>\n",
              "      <th>41999</th>\n",
              "      <td>9</td>\n",
              "      <td>0</td>\n",
              "      <td>0</td>\n",
              "      <td>0</td>\n",
              "      <td>0</td>\n",
              "      <td>0</td>\n",
              "      <td>0</td>\n",
              "      <td>0</td>\n",
              "      <td>0</td>\n",
              "      <td>0</td>\n",
              "      <td>...</td>\n",
              "      <td>0</td>\n",
              "      <td>0</td>\n",
              "      <td>0</td>\n",
              "      <td>0</td>\n",
              "      <td>0</td>\n",
              "      <td>0</td>\n",
              "      <td>0</td>\n",
              "      <td>0</td>\n",
              "      <td>0</td>\n",
              "      <td>0</td>\n",
              "    </tr>\n",
              "  </tbody>\n",
              "</table>\n",
              "<p>42000 rows × 785 columns</p>\n",
              "</div>\n",
              "      <button class=\"colab-df-convert\" onclick=\"convertToInteractive('df-6284e30d-8f78-4859-bbef-6fe0fb8a57b7')\"\n",
              "              title=\"Convert this dataframe to an interactive table.\"\n",
              "              style=\"display:none;\">\n",
              "        \n",
              "  <svg xmlns=\"http://www.w3.org/2000/svg\" height=\"24px\"viewBox=\"0 0 24 24\"\n",
              "       width=\"24px\">\n",
              "    <path d=\"M0 0h24v24H0V0z\" fill=\"none\"/>\n",
              "    <path d=\"M18.56 5.44l.94 2.06.94-2.06 2.06-.94-2.06-.94-.94-2.06-.94 2.06-2.06.94zm-11 1L8.5 8.5l.94-2.06 2.06-.94-2.06-.94L8.5 2.5l-.94 2.06-2.06.94zm10 10l.94 2.06.94-2.06 2.06-.94-2.06-.94-.94-2.06-.94 2.06-2.06.94z\"/><path d=\"M17.41 7.96l-1.37-1.37c-.4-.4-.92-.59-1.43-.59-.52 0-1.04.2-1.43.59L10.3 9.45l-7.72 7.72c-.78.78-.78 2.05 0 2.83L4 21.41c.39.39.9.59 1.41.59.51 0 1.02-.2 1.41-.59l7.78-7.78 2.81-2.81c.8-.78.8-2.07 0-2.86zM5.41 20L4 18.59l7.72-7.72 1.47 1.35L5.41 20z\"/>\n",
              "  </svg>\n",
              "      </button>\n",
              "      \n",
              "  <style>\n",
              "    .colab-df-container {\n",
              "      display:flex;\n",
              "      flex-wrap:wrap;\n",
              "      gap: 12px;\n",
              "    }\n",
              "\n",
              "    .colab-df-convert {\n",
              "      background-color: #E8F0FE;\n",
              "      border: none;\n",
              "      border-radius: 50%;\n",
              "      cursor: pointer;\n",
              "      display: none;\n",
              "      fill: #1967D2;\n",
              "      height: 32px;\n",
              "      padding: 0 0 0 0;\n",
              "      width: 32px;\n",
              "    }\n",
              "\n",
              "    .colab-df-convert:hover {\n",
              "      background-color: #E2EBFA;\n",
              "      box-shadow: 0px 1px 2px rgba(60, 64, 67, 0.3), 0px 1px 3px 1px rgba(60, 64, 67, 0.15);\n",
              "      fill: #174EA6;\n",
              "    }\n",
              "\n",
              "    [theme=dark] .colab-df-convert {\n",
              "      background-color: #3B4455;\n",
              "      fill: #D2E3FC;\n",
              "    }\n",
              "\n",
              "    [theme=dark] .colab-df-convert:hover {\n",
              "      background-color: #434B5C;\n",
              "      box-shadow: 0px 1px 3px 1px rgba(0, 0, 0, 0.15);\n",
              "      filter: drop-shadow(0px 1px 2px rgba(0, 0, 0, 0.3));\n",
              "      fill: #FFFFFF;\n",
              "    }\n",
              "  </style>\n",
              "\n",
              "      <script>\n",
              "        const buttonEl =\n",
              "          document.querySelector('#df-6284e30d-8f78-4859-bbef-6fe0fb8a57b7 button.colab-df-convert');\n",
              "        buttonEl.style.display =\n",
              "          google.colab.kernel.accessAllowed ? 'block' : 'none';\n",
              "\n",
              "        async function convertToInteractive(key) {\n",
              "          const element = document.querySelector('#df-6284e30d-8f78-4859-bbef-6fe0fb8a57b7');\n",
              "          const dataTable =\n",
              "            await google.colab.kernel.invokeFunction('convertToInteractive',\n",
              "                                                     [key], {});\n",
              "          if (!dataTable) return;\n",
              "\n",
              "          const docLinkHtml = 'Like what you see? Visit the ' +\n",
              "            '<a target=\"_blank\" href=https://colab.research.google.com/notebooks/data_table.ipynb>data table notebook</a>'\n",
              "            + ' to learn more about interactive tables.';\n",
              "          element.innerHTML = '';\n",
              "          dataTable['output_type'] = 'display_data';\n",
              "          await google.colab.output.renderOutput(dataTable, element);\n",
              "          const docLink = document.createElement('div');\n",
              "          docLink.innerHTML = docLinkHtml;\n",
              "          element.appendChild(docLink);\n",
              "        }\n",
              "      </script>\n",
              "    </div>\n",
              "  </div>\n",
              "  "
            ]
          },
          "metadata": {},
          "execution_count": 2
        }
      ]
    },
    {
      "cell_type": "markdown",
      "source": [
        "У нас 42 000 изображений размером 28 на 28 пикселей каждое (784 признака). Первый столбец - это метка класса: цифра от 0 до 9."
      ],
      "metadata": {
        "id": "xCjR_i10IMKi"
      }
    },
    {
      "cell_type": "markdown",
      "source": [
        "Визуализируем четвертое изображение:"
      ],
      "metadata": {
        "id": "Dil4B_w9JA5Z"
      }
    },
    {
      "cell_type": "code",
      "source": [
        "plt.imshow(df.loc[3][1:].values.reshape((28, 28)),\n",
        "           cmap='gray')\n",
        "plt.show()"
      ],
      "metadata": {
        "colab": {
          "base_uri": "https://localhost:8080/",
          "height": 265
        },
        "id": "01_ctYj8JSTy",
        "outputId": "ad2a67f3-9d94-40a3-e1e2-d4d23f77ee8d"
      },
      "execution_count": null,
      "outputs": [
        {
          "output_type": "display_data",
          "data": {
            "text/plain": [
              "<Figure size 432x288 with 1 Axes>"
            ],
            "image/png": "[encoded data removed]"
          },
          "metadata": {
            "needs_background": "light"
          }
        }
      ]
    },
    {
      "cell_type": "markdown",
      "source": [
        "## Подготовка данных"
      ],
      "metadata": {
        "id": "7dmRmL1oJabd"
      }
    },
    {
      "cell_type": "markdown",
      "source": [
        "Сохраним признаки в переменной `X`, а метку -  в `y`. Признаки нормализуем, поделив каждое значение на 255:"
      ],
      "metadata": {
        "id": "W0a7mSYpKs32"
      }
    },
    {
      "cell_type": "code",
      "source": [
        "X = df.drop(columns='label').values / 255"
      ],
      "metadata": {
        "id": "cKTBcLwtK6SK"
      },
      "execution_count": null,
      "outputs": []
    },
    {
      "cell_type": "code",
      "source": [
        "y = df['label'].values"
      ],
      "metadata": {
        "id": "XXb60-NWLOcr"
      },
      "execution_count": null,
      "outputs": []
    },
    {
      "cell_type": "markdown",
      "source": [
        "Разделим данные на обучающую и валидационную выборки:"
      ],
      "metadata": {
        "id": "4gmc5hteLX52"
      }
    },
    {
      "cell_type": "code",
      "source": [
        "train_X, valid_X, train_y, valid_y = train_test_split(X,\n",
        "                                                      y,\n",
        "                                                      random_state=42,\n",
        "                                                      test_size=0.2)"
      ],
      "metadata": {
        "id": "RVFXb6waLbnR"
      },
      "execution_count": null,
      "outputs": []
    },
    {
      "cell_type": "markdown",
      "source": [
        "Размеры выборок:"
      ],
      "metadata": {
        "id": "tjzXhmelL_lX"
      }
    },
    {
      "cell_type": "code",
      "source": [
        "print(train_X.shape, train_y.shape, valid_X.shape, valid_y.shape)"
      ],
      "metadata": {
        "colab": {
          "base_uri": "https://localhost:8080/"
        },
        "id": "-_OVnaLIMHBf",
        "outputId": "ba4b609d-e9d9-4bba-de3f-f4ab2b3d60c1"
      },
      "execution_count": null,
      "outputs": [
        {
          "output_type": "stream",
          "name": "stdout",
          "text": [
            "(33600, 784) (33600,) (8400, 784) (8400,)\n"
          ]
        }
      ]
    },
    {
      "cell_type": "markdown",
      "source": [
        "## Простая модель"
      ],
      "metadata": {
        "id": "Wb4D7Y_NMPN7"
      }
    },
    {
      "cell_type": "markdown",
      "source": [
        "Инициализируем веса. У нас на выходе 10 нейронов (соответствует 10 классам изображений), на вход подается 784 признака (каждого изображения). Получается, что нам надо оптимизировать 7 840 параметров модели:"
      ],
      "metadata": {
        "id": "XD5eqCbyM_qJ"
      }
    },
    {
      "cell_type": "code",
      "source": [
        "np.random.normal(size=(784, 10))"
      ],
      "metadata": {
        "colab": {
          "base_uri": "https://localhost:8080/"
        },
        "id": "iNRZy9DGNJlC",
        "outputId": "f9d26277-6994-4b1c-ec1b-76d6c5db1795"
      },
      "execution_count": null,
      "outputs": [
        {
          "output_type": "execute_result",
          "data": {
            "text/plain": [
              "array([[-1.61484191, -0.9732893 , -0.18389531, ..., -0.32361132,\n",
              "        -0.27274104, -0.78945919],\n",
              "       [-0.83861816, -1.0361496 , -0.33159661, ..., -0.7228115 ,\n",
              "         1.1200564 , -0.41840359],\n",
              "       [-0.42712218, -1.23212237,  0.37792964, ..., -0.09340681,\n",
              "        -1.51754905,  0.21854822],\n",
              "       ...,\n",
              "       [ 1.06750257, -1.45742622, -1.02009386, ..., -0.81548505,\n",
              "        -0.17245265,  1.07292694],\n",
              "       [ 1.57247161, -0.52761624,  0.93579744, ...,  0.53412042,\n",
              "         0.30125902,  1.47063963],\n",
              "       [-0.75798599, -2.18713772, -0.1054436 , ...,  0.61614724,\n",
              "         0.23179493,  1.03375018]])"
            ]
          },
          "metadata": {},
          "execution_count": 8
        }
      ]
    },
    {
      "cell_type": "markdown",
      "source": [
        "Для стабильности спуска нормируем значения весов:"
      ],
      "metadata": {
        "id": "klFzP4y9NXAE"
      }
    },
    {
      "cell_type": "code",
      "source": [
        "np.random.normal(size=(784, 10)) / np.sqrt(784)"
      ],
      "metadata": {
        "colab": {
          "base_uri": "https://localhost:8080/"
        },
        "id": "WdiCK4YINO_S",
        "outputId": "e7b33412-23f4-4b88-b206-462b69a9c08b"
      },
      "execution_count": null,
      "outputs": [
        {
          "output_type": "execute_result",
          "data": {
            "text/plain": [
              "array([[-0.05053053, -0.03123323,  0.02675138, ..., -0.05625828,\n",
              "         0.03163289, -0.06368265],\n",
              "       [ 0.00770369,  0.04892771,  0.02310002, ..., -0.03679837,\n",
              "         0.01817353, -0.01172231],\n",
              "       [ 0.02928925, -0.00995786,  0.0009529 , ..., -0.02650494,\n",
              "         0.00408178, -0.03401202],\n",
              "       ...,\n",
              "       [-0.00765751, -0.01953113, -0.00514539, ...,  0.01794031,\n",
              "         0.01413299, -0.0108664 ],\n",
              "       [ 0.01861644,  0.00272797, -0.00937747, ..., -0.047041  ,\n",
              "         0.04376245,  0.00402968],\n",
              "       [ 0.02789772, -0.00345349, -0.00241755, ..., -0.06373166,\n",
              "         0.05665611, -0.01092475]])"
            ]
          },
          "metadata": {},
          "execution_count": 9
        }
      ]
    },
    {
      "cell_type": "markdown",
      "source": [
        "Конвертируем в тензор:"
      ],
      "metadata": {
        "id": "PDx_sIu1OXXK"
      }
    },
    {
      "cell_type": "code",
      "source": [
        "weights = torch.tensor(np.random.normal(size=(784, 10)) / np.sqrt(784),\n",
        "                       requires_grad=True)"
      ],
      "metadata": {
        "id": "412s6-JmOdNK"
      },
      "execution_count": null,
      "outputs": []
    },
    {
      "cell_type": "markdown",
      "source": [
        "Конвертируем обучающую выборку в тензор:"
      ],
      "metadata": {
        "id": "doeDlFjOOkAR"
      }
    },
    {
      "cell_type": "code",
      "source": [
        "X_tensor = torch.tensor(train_X)\n",
        "y_tensor = torch.tensor(train_y)"
      ],
      "metadata": {
        "id": "_2X3TGXIOpBb"
      },
      "execution_count": null,
      "outputs": []
    },
    {
      "cell_type": "markdown",
      "source": [
        "Инициализируем оптимизатор:"
      ],
      "metadata": {
        "id": "8bdVCvlnO6Pa"
      }
    },
    {
      "cell_type": "code",
      "source": [
        "optimizer = torch.optim.SGD(params=[weights], lr=0.1)"
      ],
      "metadata": {
        "id": "1GX1s78iPGE5"
      },
      "execution_count": null,
      "outputs": []
    },
    {
      "cell_type": "markdown",
      "source": [
        "Запускаем цикл обучения:"
      ],
      "metadata": {
        "id": "q_XFBY6cPfWB"
      }
    },
    {
      "cell_type": "code",
      "source": [
        "%%time\n",
        "# Создаем пустой список, чтобы записывать в него результат вычислений функции потерь\n",
        "loss_history = []\n",
        "\n",
        "# 1000 шагов обучения\n",
        "for _ in range(1000):\n",
        "    # считаем произведение матрицы признаков на матрицу весов\n",
        "    prediction = X_tensor @ weights\n",
        "    # вычисляем функцию потерь, функция активации уже включена\n",
        "    loss = torch.nn.functional.cross_entropy(prediction, y_tensor) \n",
        "    # вычисляем градиент\n",
        "    loss.backward()\n",
        "    # делаем шаг градиентного спуска: обновляем веса\n",
        "    optimizer.step()\n",
        "    # записываем значение функции потерь\n",
        "    loss_history.append(loss.data.numpy())\n",
        "    # обнуляем градиенты для следующего шага\n",
        "    optimizer.zero_grad()"
      ],
      "metadata": {
        "colab": {
          "base_uri": "https://localhost:8080/"
        },
        "id": "6WGcWK0yQSZh",
        "outputId": "7d16763f-186d-4f79-ef47-c78340567d91"
      },
      "execution_count": null,
      "outputs": [
        {
          "output_type": "stream",
          "name": "stdout",
          "text": [
            "CPU times: user 3min 5s, sys: 152 ms, total: 3min 5s\n",
            "Wall time: 3min 6s\n"
          ]
        }
      ]
    },
    {
      "cell_type": "markdown",
      "source": [
        "Визуализируем, как изменялось значение функции потерь во время обучения:"
      ],
      "metadata": {
        "id": "cZNtOM3jSSRN"
      }
    },
    {
      "cell_type": "code",
      "source": [
        "plt.figure(figsize=(15, 6))\n",
        "plt.plot(loss_history)\n",
        "plt.xlabel('Шаги')\n",
        "plt.ylabel('Функция потерь')\n",
        "plt.show()"
      ],
      "metadata": {
        "colab": {
          "base_uri": "https://localhost:8080/",
          "height": 388
        },
        "id": "KaQ83nbTTL1v",
        "outputId": "aa5a252d-2cb5-4d53-f33e-ee6ea74636e8"
      },
      "execution_count": null,
      "outputs": [
        {
          "output_type": "display_data",
          "data": {
            "text/plain": [
              "<Figure size 1080x432 with 1 Axes>"
            ],
            "image/png": "[encoded data removed]"
          },
          "metadata": {
            "needs_background": "light"
          }
        }
      ]
    },
    {
      "cell_type": "markdown",
      "source": [
        "Посмотрим на нейроны:"
      ],
      "metadata": {
        "id": "27FhZpRKTaMU"
      }
    },
    {
      "cell_type": "code",
      "source": [
        "fig, axes = plt.subplots(1, 10, figsize=(30,30))\n",
        "\n",
        "for i in range(10):\n",
        "    axes[i].set_title(i)\n",
        "    img = weights[:, i].data.numpy().reshape((28, 28))\n",
        "    axes[i].imshow(img, cmap='gray')\n"
      ],
      "metadata": {
        "colab": {
          "base_uri": "https://localhost:8080/",
          "height": 121
        },
        "id": "yzT1M62QTwA7",
        "outputId": "ab08f1a2-c275-4b54-d441-b5f8b6883ff3"
      },
      "execution_count": null,
      "outputs": [
        {
          "output_type": "display_data",
          "data": {
            "text/plain": [
              "<Figure size 2160x2160 with 10 Axes>"
            ],
            "image/png": "[encoded data removed]"
          },
          "metadata": {
            "needs_background": "light"
          }
        }
      ]
    },
    {
      "cell_type": "markdown",
      "source": [
        "Пропустим выходы через сигмоиду и посчитаем метрику качества на тестовой выборке:"
      ],
      "metadata": {
        "id": "IaqImLbpT3pd"
      }
    },
    {
      "cell_type": "code",
      "source": [
        "# посчитаем логиты\n",
        "logits = (X_tensor @ weights).data\n",
        "# подадим логиты сигмоидной функции и посчитаем вероятности каждого класса\n",
        "proba = torch.sigmoid(logits).data.numpy()\n",
        "# найдем классы: для каждого изображения (состоит из строки с 10 элементами) найдем индекс, который соответствует цифре, с наибольшим значением\n",
        "prediction = np.argmax(proba, axis=1)\n",
        "# посчитаем метрику F1\n",
        "print(f'F1-score: {f1_score(train_y, prediction, average=\"macro\")}')"
      ],
      "metadata": {
        "id": "3_RCYkFcWerN",
        "colab": {
          "base_uri": "https://localhost:8080/"
        },
        "outputId": "98e983d1-c951-40c5-e47d-f06091ef01e9"
      },
      "execution_count": null,
      "outputs": [
        {
          "output_type": "stream",
          "name": "stdout",
          "text": [
            "F1-score: 0.9031964575603503\n"
          ]
        }
      ]
    },
    {
      "cell_type": "markdown",
      "source": [
        "## Усложняем сеть"
      ],
      "metadata": {
        "id": "Skg4hDt0YAQ6"
      }
    },
    {
      "cell_type": "markdown",
      "source": [
        "Создадим нейросеть с одним скрытым слоем и функцией активацей ReLU:"
      ],
      "metadata": {
        "id": "xM6ZumV5aQvz"
      }
    },
    {
      "cell_type": "code",
      "source": [
        "class MyFirstNN(nn.Module):\n",
        "    def __init__(self, hidden_neurons=200):\n",
        "        super().__init__()\n",
        "        \n",
        "        self.layer_1 = nn.Linear(784, hidden_neurons)\n",
        "        self.layer_2 = nn.Linear(hidden_neurons, 10)\n",
        "\n",
        "    def forward(self, X):\n",
        "        y = self.layer_1(X)\n",
        "        y = F.relu(y)\n",
        "        output = self.layer_2(y)\n",
        "\n",
        "        return output"
      ],
      "metadata": {
        "id": "yTqfjNx0ac0x"
      },
      "execution_count": null,
      "outputs": []
    },
    {
      "cell_type": "markdown",
      "source": [
        "Преобразуем валидационную выборку в тензор:"
      ],
      "metadata": {
        "id": "l6FYPecmfZsG"
      }
    },
    {
      "cell_type": "code",
      "source": [
        "X_valid_tensor = torch.tensor(valid_X)\n",
        "y_valid_tensor = torch.tensor(valid_y)"
      ],
      "metadata": {
        "id": "stSYei4ufZsH"
      },
      "execution_count": null,
      "outputs": []
    },
    {
      "cell_type": "markdown",
      "source": [
        "Инициализируем модель:"
      ],
      "metadata": {
        "id": "ZzdOwg-lc9mg"
      }
    },
    {
      "cell_type": "code",
      "source": [
        "model = MyFirstNN()"
      ],
      "metadata": {
        "id": "EUY2pZLpdT59"
      },
      "execution_count": null,
      "outputs": []
    },
    {
      "cell_type": "markdown",
      "source": [
        "Инициализируем оптимизатор:"
      ],
      "metadata": {
        "id": "Qy8LditedV0j"
      }
    },
    {
      "cell_type": "code",
      "source": [
        "optimizer = torch.optim.Adam(params=model.parameters(), lr=0.001)"
      ],
      "metadata": {
        "id": "_eBdINBzdaep"
      },
      "execution_count": null,
      "outputs": []
    },
    {
      "cell_type": "markdown",
      "source": [
        "Запускаем цикл обучения:"
      ],
      "metadata": {
        "id": "YUsJ587Ue8TB"
      }
    },
    {
      "cell_type": "code",
      "source": [
        "epochs = 100\n",
        "\n",
        "train_loss_history = []\n",
        "valid_loss_history = []\n",
        "\n",
        "for i in tqdm(range(epochs)):\n",
        "    # считаем произведение матрицы признаков на матрицу весов\n",
        "    prediction = model(X_tensor.to(torch.float32))\n",
        "    # вычисляем функцию потерь, функция активации уже включена\n",
        "    loss = torch.nn.functional.cross_entropy(prediction, y_tensor) \n",
        "    # вычисляем градиент\n",
        "    loss.backward()\n",
        "    # делаем шаг градиентного спуска: обновляем веса\n",
        "    optimizer.step()\n",
        "    # записываем значение функции потерь\n",
        "    train_loss_history.append(loss.item())\n",
        "    # обнуляем градиенты для следующего шага\n",
        "    optimizer.zero_grad()\n",
        "\n",
        "    #валидация на валидационной выборке\n",
        "    val_prediction = model(X_valid_tensor.to(torch.float32))\n",
        "    val_loss = torch.nn.functional.cross_entropy(val_prediction, y_valid_tensor)\n",
        "    valid_loss_history.append(val_loss.item())\n"
      ],
      "metadata": {
        "colab": {
          "base_uri": "https://localhost:8080/"
        },
        "id": "XxGiSTuFfCAj",
        "outputId": "eb65260e-afdf-4d6d-e246-e161532b998a"
      },
      "execution_count": null,
      "outputs": [
        {
          "output_type": "stream",
          "name": "stderr",
          "text": [
            "100%|██████████| 100/100 [01:57<00:00,  1.17s/it]\n"
          ]
        }
      ]
    },
    {
      "cell_type": "markdown",
      "source": [
        "Визуализируем значения функции потерь при обучении:"
      ],
      "metadata": {
        "id": "TY02vw9Aii9D"
      }
    },
    {
      "cell_type": "code",
      "source": [
        "plt.figure(figsize=(16, 8))\n",
        "plt.plot(train_loss_history, label='Loss на обучающей выборке')\n",
        "plt.plot(valid_loss_history, label='Loss на валидационной выборке')\n",
        "plt.xlabel('Шаги')\n",
        "plt.ylabel('Функция потерь')\n",
        "plt.legend()\n",
        "plt.yticks()\n",
        "plt.show()"
      ],
      "metadata": {
        "colab": {
          "base_uri": "https://localhost:8080/",
          "height": 496
        },
        "id": "mcYDDYgnjc3c",
        "outputId": "61631572-ab6a-4ff3-8585-d8474ec88c8b"
      },
      "execution_count": null,
      "outputs": [
        {
          "output_type": "display_data",
          "data": {
            "text/plain": [
              "<Figure size 1152x576 with 1 Axes>"
            ],
            "image/png": "[encoded data removed]"
          },
          "metadata": {
            "needs_background": "light"
          }
        }
      ]
    },
    {
      "cell_type": "markdown",
      "source": [
        "Пропустим выходы через сигмоиду и посчитаем метрику качества на валидационной выборке:"
      ],
      "metadata": {
        "id": "b_m3NzPYnRhN"
      }
    },
    {
      "cell_type": "code",
      "source": [
        "# посчитаем логиты\n",
        "logits = model(X_valid_tensor.to(torch.float32)).detach()\n",
        "# подадим логиты сигмоидной функции и посчитаем вероятности каждого класса\n",
        "proba = torch.sigmoid(logits).numpy()\n",
        "# найдем классы: для каждого изображения (состоит из строки с 10 элементами) найдем индекс, который соответствует цифре, с наибольшим значением\n",
        "prediction = np.argmax(proba, axis=1)\n",
        "# посчитаем метрику F1\n",
        "print(f'F1-score: {f1_score(valid_y, prediction, average=\"macro\")}')"
      ],
      "metadata": {
        "colab": {
          "base_uri": "https://localhost:8080/"
        },
        "outputId": "af843f4a-9a06-4785-9ca5-fdaf00b3a23a",
        "id": "dC9B-2yknRhu"
      },
      "execution_count": null,
      "outputs": [
        {
          "output_type": "stream",
          "name": "stdout",
          "text": [
            "F1-score: 0.9197883389802097\n"
          ]
        }
      ]
    },
    {
      "cell_type": "markdown",
      "source": [
        "## Делаем сеть еще сложнее"
      ],
      "metadata": {
        "id": "3mjOp2jAqbFl"
      }
    },
    {
      "cell_type": "markdown",
      "source": [
        "Создадим нейросеть с несколькими скрытыми слоями и функцией активации ReLU:"
      ],
      "metadata": {
        "id": "BHfuP-WEtKGA"
      }
    },
    {
      "cell_type": "code",
      "source": [
        "class MySecondNN(nn.Module):\n",
        "    def __init__(self, hidden_neurons=200):\n",
        "        super().__init__()\n",
        "        \n",
        "        self.layer_1 = nn.Linear(784, 256)\n",
        "        self.layer_2 = nn.Linear(256, hidden_neurons)\n",
        "        self.layer_3 = nn.Linear(hidden_neurons, hidden_neurons)\n",
        "        self.layer_4 = nn.Linear(hidden_neurons, 10)\n",
        "        \n",
        "\n",
        "    def forward(self, X):\n",
        "        y = F.relu(self.layer_1(X))\n",
        "        y = F.relu(self.layer_2(y))\n",
        "        y = F.relu(self.layer_3(y))\n",
        "        output = self.layer_4(y)\n",
        "\n",
        "        return output"
      ],
      "metadata": {
        "id": "HUeFg828tKGD"
      },
      "execution_count": null,
      "outputs": []
    },
    {
      "cell_type": "markdown",
      "source": [
        "Инициализируем модель:"
      ],
      "metadata": {
        "id": "WH4xIxWvujLR"
      }
    },
    {
      "cell_type": "code",
      "source": [
        "model = MySecondNN()"
      ],
      "metadata": {
        "id": "o_ZR2YtjujLT"
      },
      "execution_count": null,
      "outputs": []
    },
    {
      "cell_type": "markdown",
      "source": [
        "Инициализируем оптимизатор:"
      ],
      "metadata": {
        "id": "sgwyzWaVujLV"
      }
    },
    {
      "cell_type": "code",
      "source": [
        "optimizer = torch.optim.Adam(params=model.parameters(), lr=0.001)"
      ],
      "metadata": {
        "id": "reMlV0T-ujLW"
      },
      "execution_count": null,
      "outputs": []
    },
    {
      "cell_type": "markdown",
      "source": [
        "Запускаем цикл обучения:"
      ],
      "metadata": {
        "id": "JU52NFHwujLX"
      }
    },
    {
      "cell_type": "code",
      "source": [
        "epochs = 150\n",
        "\n",
        "train_loss_history = []\n",
        "valid_loss_history = []\n",
        "\n",
        "for i in tqdm(range(epochs)):\n",
        "    # считаем произведение матрицы признаков на матрицу весов\n",
        "    prediction = model(X_tensor.to(torch.float32))\n",
        "    # вычисляем функцию потерь, функция активации уже включена\n",
        "    loss = torch.nn.functional.cross_entropy(prediction, y_tensor) \n",
        "    # вычисляем градиент\n",
        "    loss.backward()\n",
        "    # делаем шаг градиентного спуска: обновляем веса\n",
        "    optimizer.step()\n",
        "    # логируем значение функции потерь\n",
        "    train_loss_history.append(loss.item())\n",
        "    # обнуляем градиенты для следующего шага\n",
        "    optimizer.zero_grad()\n",
        "\n",
        "    #валидация на валидационной выборке\n",
        "    val_prediction = model(X_valid_tensor.to(torch.float32))\n",
        "    val_loss = torch.nn.functional.cross_entropy(val_prediction, y_valid_tensor)\n",
        "    valid_loss_history.append(val_loss.item())\n"
      ],
      "metadata": {
        "colab": {
          "base_uri": "https://localhost:8080/"
        },
        "outputId": "2d274e13-d13d-4d12-ff6a-4a319f8041d8",
        "id": "BgHJm3hHujLY"
      },
      "execution_count": null,
      "outputs": [
        {
          "output_type": "stream",
          "name": "stderr",
          "text": [
            "100%|██████████| 150/150 [05:44<00:00,  2.30s/it]\n"
          ]
        }
      ]
    },
    {
      "cell_type": "markdown",
      "source": [
        "Визуализируем значения функции потерь при обучении:"
      ],
      "metadata": {
        "id": "74ohLTMPwT25"
      }
    },
    {
      "cell_type": "code",
      "source": [
        "plt.figure(figsize=(16, 8))\n",
        "plt.plot(train_loss_history, label='Loss на обучающей выборке')\n",
        "plt.plot(valid_loss_history, label='Loss на валидационной выборке')\n",
        "plt.xlabel('Шаги')\n",
        "plt.ylabel('Функция потерь')\n",
        "plt.legend()\n",
        "plt.yticks()\n",
        "plt.show()"
      ],
      "metadata": {
        "colab": {
          "base_uri": "https://localhost:8080/",
          "height": 496
        },
        "outputId": "48146fd6-a853-4277-afb6-9fd01d6ca1b3",
        "id": "VUCkzOu9wT3H"
      },
      "execution_count": null,
      "outputs": [
        {
          "output_type": "display_data",
          "data": {
            "text/plain": [
              "<Figure size 1152x576 with 1 Axes>"
            ],
            "image/png": "[encoded data removed]"
          },
          "metadata": {
            "needs_background": "light"
          }
        }
      ]
    },
    {
      "cell_type": "markdown",
      "source": [
        "Пропустим выходы через сигмоиду и посчитаем метрику качества на валидационной выборке:"
      ],
      "metadata": {
        "id": "svbPNcnIwT3K"
      }
    },
    {
      "cell_type": "code",
      "source": [
        "# посчитаем логиты\n",
        "logits = model(X_valid_tensor.to(torch.float32)).detach()\n",
        "# подадим логиты сигмоидной функции и посчитаем вероятности каждого класса\n",
        "proba = torch.sigmoid(logits).numpy()\n",
        "# найдем классы: для каждого изображения (состоит из строки с 10 элементами) найдем индекс, который соответствует цифре, с наибольшим значением\n",
        "prediction = np.argmax(proba, axis=1)\n",
        "# посчитаем метрику F1\n",
        "print(f'F1-score: {f1_score(valid_y, prediction, average=\"macro\")}')\n",
        "print(f'Accuracy: {accuracy_score(valid_y, prediction)}')"
      ],
      "metadata": {
        "colab": {
          "base_uri": "https://localhost:8080/"
        },
        "outputId": "7c7db9bd-f755-4ac7-9f5d-e14c11cdd413",
        "id": "L1HlJBh-wT3K"
      },
      "execution_count": null,
      "outputs": [
        {
          "output_type": "stream",
          "name": "stdout",
          "text": [
            "F1-score: 0.9571054035593569\n",
            "Accuracy: 0.9572619047619048\n"
          ]
        }
      ]
    },
    {
      "cell_type": "markdown",
      "source": [
        "## Готовим submission для Kaggle"
      ],
      "metadata": {
        "id": "x6Pnk0_pyopg"
      }
    },
    {
      "cell_type": "code",
      "source": [
        "train = pd.read_csv('/content/drive/Datasets/MNIST/train.csv')\n",
        "test = pd.read_csv('/content/drive/Datasets/MNIST/test.csv')"
      ],
      "metadata": {
        "id": "aonfSo30zMEL"
      },
      "execution_count": null,
      "outputs": []
    },
    {
      "cell_type": "markdown",
      "source": [
        "Сохраним признаки в переменных `train_X` `test_X`, а метку -  в `train_y`. Признаки нормализуем, поделив каждое значение на 255:"
      ],
      "metadata": {
        "id": "oVD49CLTzMEc"
      }
    },
    {
      "cell_type": "code",
      "source": [
        "train_X = train.drop(columns='label').values / 255\n",
        "train_y = train['label'].values"
      ],
      "metadata": {
        "id": "eKMJ9UuczMEd"
      },
      "execution_count": null,
      "outputs": []
    },
    {
      "cell_type": "code",
      "source": [
        "test_X = test.values / 255"
      ],
      "metadata": {
        "id": "zTNF2ezWzMEf"
      },
      "execution_count": null,
      "outputs": []
    },
    {
      "cell_type": "markdown",
      "source": [
        "Размеры выборок:"
      ],
      "metadata": {
        "id": "UwLr_kfmzs4k"
      }
    },
    {
      "cell_type": "code",
      "source": [
        "print(train_X.shape, train_y.shape, test_X.shape)"
      ],
      "metadata": {
        "colab": {
          "base_uri": "https://localhost:8080/"
        },
        "id": "bsgyyfX7z_9M",
        "outputId": "4fb85f92-ce71-4c16-f21f-b8238494944c"
      },
      "execution_count": null,
      "outputs": [
        {
          "output_type": "stream",
          "name": "stdout",
          "text": [
            "(42000, 784) (42000,) (28000, 784)\n"
          ]
        }
      ]
    },
    {
      "cell_type": "markdown",
      "source": [
        "Конвертируем выборки в тензоры:"
      ],
      "metadata": {
        "id": "ufO7EIP50UIP"
      }
    },
    {
      "cell_type": "code",
      "source": [
        "X_tensor = torch.tensor(train_X)\n",
        "y_tensor = torch.tensor(train_y)\n",
        "test_tensor = torch.tensor(test_X)"
      ],
      "metadata": {
        "id": "fvdA6AHN0UIR"
      },
      "execution_count": null,
      "outputs": []
    },
    {
      "cell_type": "markdown",
      "source": [
        "Инициализируем модель:"
      ],
      "metadata": {
        "id": "yXqEPWqt0xKK"
      }
    },
    {
      "cell_type": "code",
      "source": [
        "model = MySecondNN()"
      ],
      "metadata": {
        "id": "6HrpfgJo0xKL"
      },
      "execution_count": null,
      "outputs": []
    },
    {
      "cell_type": "markdown",
      "source": [
        "Инициализируем оптимизатор:"
      ],
      "metadata": {
        "id": "z3bsgJxw0xKM"
      }
    },
    {
      "cell_type": "code",
      "source": [
        "optimizer = torch.optim.Adam(params=model.parameters(), lr=0.001)"
      ],
      "metadata": {
        "id": "KOWFKJda0xKM"
      },
      "execution_count": null,
      "outputs": []
    },
    {
      "cell_type": "markdown",
      "source": [
        "Запускаем цикл обучения:"
      ],
      "metadata": {
        "id": "sZ3C0hPY0xKN"
      }
    },
    {
      "cell_type": "code",
      "source": [
        "epochs = 200\n",
        "\n",
        "train_loss_history = []\n",
        "\n",
        "for i in tqdm(range(epochs)):\n",
        "    # считаем произведение матрицы признаков на матрицу весов\n",
        "    prediction = model(X_tensor.to(torch.float32))\n",
        "    # вычисляем функцию потерь, функция активации уже включена\n",
        "    loss = torch.nn.functional.cross_entropy(prediction, y_tensor) \n",
        "    # вычисляем градиент\n",
        "    loss.backward()\n",
        "    # делаем шаг градиентного спуска: обновляем веса\n",
        "    optimizer.step()\n",
        "    # логируем значение функции потерь\n",
        "    train_loss_history.append(loss.item())\n",
        "    # обнуляем градиенты для следующего шага\n",
        "    optimizer.zero_grad()"
      ],
      "metadata": {
        "colab": {
          "base_uri": "https://localhost:8080/"
        },
        "outputId": "79ad1f6d-5a01-4f84-c7fb-13cbc11dac25",
        "id": "rF8A8UGw0xKN"
      },
      "execution_count": null,
      "outputs": [
        {
          "output_type": "stream",
          "name": "stderr",
          "text": [
            "100%|██████████| 200/200 [05:22<00:00,  1.61s/it]\n"
          ]
        }
      ]
    },
    {
      "cell_type": "markdown",
      "source": [
        "Визуализируем значения функции потерь при обучении:"
      ],
      "metadata": {
        "id": "aWnqpGYi0xKP"
      }
    },
    {
      "cell_type": "code",
      "source": [
        "plt.figure(figsize=(16, 8))\n",
        "plt.plot(train_loss_history, label='Loss на обучающей выборке')\n",
        "plt.xlabel('Шаги')\n",
        "plt.ylabel('Функция потерь')\n",
        "plt.legend()\n",
        "plt.yticks()\n",
        "plt.show()"
      ],
      "metadata": {
        "colab": {
          "base_uri": "https://localhost:8080/",
          "height": 496
        },
        "outputId": "b7743c91-63d9-4485-a132-7a53ff93bbb9",
        "id": "6I8HSEn_0xKQ"
      },
      "execution_count": null,
      "outputs": [
        {
          "output_type": "display_data",
          "data": {
            "text/plain": [
              "<Figure size 1152x576 with 1 Axes>"
            ],
            "image/png": "[encoded data removed]"
          },
          "metadata": {
            "needs_background": "light"
          }
        }
      ]
    },
    {
      "cell_type": "markdown",
      "source": [
        "Пропустим выходы через сигмоиду и предскажем классы для тестовой выборки:"
      ],
      "metadata": {
        "id": "TyHXY0rN0xKR"
      }
    },
    {
      "cell_type": "code",
      "source": [
        "# посчитаем логиты\n",
        "logits = model(test_tensor.to(torch.float32)).detach()\n",
        "# подадим логиты сигмоидной функции и посчитаем вероятности каждого класса\n",
        "proba = torch.sigmoid(logits).numpy()\n",
        "# найдем классы: для каждого изображения (состоит из строки с 10 элементами) найдем индекс, который соответствует цифре, с наибольшим значением\n",
        "prediction = np.argmax(proba, axis=1)"
      ],
      "metadata": {
        "id": "IUlIOuoZ0xKR"
      },
      "execution_count": null,
      "outputs": []
    },
    {
      "cell_type": "markdown",
      "source": [
        "Загружаем файл `sample_submission.csv` и сохраняем его в переменной `submission`:"
      ],
      "metadata": {
        "id": "1QHy8lrZ60Tu"
      }
    },
    {
      "cell_type": "code",
      "source": [
        "submission = pd.read_csv('/content/drive/Datasets/MNIST/sample_submission.csv')\n",
        "submission.head()"
      ],
      "metadata": {
        "colab": {
          "base_uri": "https://localhost:8080/",
          "height": 206
        },
        "id": "BTEUkTXC7GIk",
        "outputId": "76138675-cb38-4b69-deee-1c4be682b506"
      },
      "execution_count": null,
      "outputs": [
        {
          "output_type": "execute_result",
          "data": {
            "text/plain": [
              "   ImageId  Label\n",
              "0        1      0\n",
              "1        2      0\n",
              "2        3      0\n",
              "3        4      0\n",
              "4        5      0"
            ],
            "text/html": [
              "\n",
              "  <div id=\"df-bd0095f9-d1eb-44ed-84fe-0aa6f578416a\">\n",
              "    <div class=\"colab-df-container\">\n",
              "      <div>\n",
              "<style scoped>\n",
              "    .dataframe tbody tr th:only-of-type {\n",
              "        vertical-align: middle;\n",
              "    }\n",
              "\n",
              "    .dataframe tbody tr th {\n",
              "        vertical-align: top;\n",
              "    }\n",
              "\n",
              "    .dataframe thead th {\n",
              "        text-align: right;\n",
              "    }\n",
              "</style>\n",
              "<table border=\"1\" class=\"dataframe\">\n",
              "  <thead>\n",
              "    <tr style=\"text-align: right;\">\n",
              "      <th></th>\n",
              "      <th>ImageId</th>\n",
              "      <th>Label</th>\n",
              "    </tr>\n",
              "  </thead>\n",
              "  <tbody>\n",
              "    <tr>\n",
              "      <th>0</th>\n",
              "      <td>1</td>\n",
              "      <td>0</td>\n",
              "    </tr>\n",
              "    <tr>\n",
              "      <th>1</th>\n",
              "      <td>2</td>\n",
              "      <td>0</td>\n",
              "    </tr>\n",
              "    <tr>\n",
              "      <th>2</th>\n",
              "      <td>3</td>\n",
              "      <td>0</td>\n",
              "    </tr>\n",
              "    <tr>\n",
              "      <th>3</th>\n",
              "      <td>4</td>\n",
              "      <td>0</td>\n",
              "    </tr>\n",
              "    <tr>\n",
              "      <th>4</th>\n",
              "      <td>5</td>\n",
              "      <td>0</td>\n",
              "    </tr>\n",
              "  </tbody>\n",
              "</table>\n",
              "</div>\n",
              "      <button class=\"colab-df-convert\" onclick=\"convertToInteractive('df-bd0095f9-d1eb-44ed-84fe-0aa6f578416a')\"\n",
              "              title=\"Convert this dataframe to an interactive table.\"\n",
              "              style=\"display:none;\">\n",
              "        \n",
              "  <svg xmlns=\"http://www.w3.org/2000/svg\" height=\"24px\"viewBox=\"0 0 24 24\"\n",
              "       width=\"24px\">\n",
              "    <path d=\"M0 0h24v24H0V0z\" fill=\"none\"/>\n",
              "    <path d=\"M18.56 5.44l.94 2.06.94-2.06 2.06-.94-2.06-.94-.94-2.06-.94 2.06-2.06.94zm-11 1L8.5 8.5l.94-2.06 2.06-.94-2.06-.94L8.5 2.5l-.94 2.06-2.06.94zm10 10l.94 2.06.94-2.06 2.06-.94-2.06-.94-.94-2.06-.94 2.06-2.06.94z\"/><path d=\"M17.41 7.96l-1.37-1.37c-.4-.4-.92-.59-1.43-.59-.52 0-1.04.2-1.43.59L10.3 9.45l-7.72 7.72c-.78.78-.78 2.05 0 2.83L4 21.41c.39.39.9.59 1.41.59.51 0 1.02-.2 1.41-.59l7.78-7.78 2.81-2.81c.8-.78.8-2.07 0-2.86zM5.41 20L4 18.59l7.72-7.72 1.47 1.35L5.41 20z\"/>\n",
              "  </svg>\n",
              "      </button>\n",
              "      \n",
              "  <style>\n",
              "    .colab-df-container {\n",
              "      display:flex;\n",
              "      flex-wrap:wrap;\n",
              "      gap: 12px;\n",
              "    }\n",
              "\n",
              "    .colab-df-convert {\n",
              "      background-color: #E8F0FE;\n",
              "      border: none;\n",
              "      border-radius: 50%;\n",
              "      cursor: pointer;\n",
              "      display: none;\n",
              "      fill: #1967D2;\n",
              "      height: 32px;\n",
              "      padding: 0 0 0 0;\n",
              "      width: 32px;\n",
              "    }\n",
              "\n",
              "    .colab-df-convert:hover {\n",
              "      background-color: #E2EBFA;\n",
              "      box-shadow: 0px 1px 2px rgba(60, 64, 67, 0.3), 0px 1px 3px 1px rgba(60, 64, 67, 0.15);\n",
              "      fill: #174EA6;\n",
              "    }\n",
              "\n",
              "    [theme=dark] .colab-df-convert {\n",
              "      background-color: #3B4455;\n",
              "      fill: #D2E3FC;\n",
              "    }\n",
              "\n",
              "    [theme=dark] .colab-df-convert:hover {\n",
              "      background-color: #434B5C;\n",
              "      box-shadow: 0px 1px 3px 1px rgba(0, 0, 0, 0.15);\n",
              "      filter: drop-shadow(0px 1px 2px rgba(0, 0, 0, 0.3));\n",
              "      fill: #FFFFFF;\n",
              "    }\n",
              "  </style>\n",
              "\n",
              "      <script>\n",
              "        const buttonEl =\n",
              "          document.querySelector('#df-bd0095f9-d1eb-44ed-84fe-0aa6f578416a button.colab-df-convert');\n",
              "        buttonEl.style.display =\n",
              "          google.colab.kernel.accessAllowed ? 'block' : 'none';\n",
              "\n",
              "        async function convertToInteractive(key) {\n",
              "          const element = document.querySelector('#df-bd0095f9-d1eb-44ed-84fe-0aa6f578416a');\n",
              "          const dataTable =\n",
              "            await google.colab.kernel.invokeFunction('convertToInteractive',\n",
              "                                                     [key], {});\n",
              "          if (!dataTable) return;\n",
              "\n",
              "          const docLinkHtml = 'Like what you see? Visit the ' +\n",
              "            '<a target=\"_blank\" href=https://colab.research.google.com/notebooks/data_table.ipynb>data table notebook</a>'\n",
              "            + ' to learn more about interactive tables.';\n",
              "          element.innerHTML = '';\n",
              "          dataTable['output_type'] = 'display_data';\n",
              "          await google.colab.output.renderOutput(dataTable, element);\n",
              "          const docLink = document.createElement('div');\n",
              "          docLink.innerHTML = docLinkHtml;\n",
              "          element.appendChild(docLink);\n",
              "        }\n",
              "      </script>\n",
              "    </div>\n",
              "  </div>\n",
              "  "
            ]
          },
          "metadata": {},
          "execution_count": 172
        }
      ]
    },
    {
      "cell_type": "markdown",
      "source": [
        "Сохранаяем в столбце `Label` результаты предсказания нейросети:"
      ],
      "metadata": {
        "id": "HqRDD1eK-WuS"
      }
    },
    {
      "cell_type": "code",
      "source": [
        "submission['Label'] = prediction"
      ],
      "metadata": {
        "id": "olLofaBn7OVl"
      },
      "execution_count": null,
      "outputs": []
    },
    {
      "cell_type": "code",
      "source": [
        "submission.to_csv('nn_submission.csv', index=False)"
      ],
      "metadata": {
        "id": "o_W5ET637WnC"
      },
      "execution_count": null,
      "outputs": []
    },
    {
      "cell_type": "markdown",
      "source": [
        "Метрика `Accuracy` на тестовой выборке на платформе `Kaggle`:  **0.96375**."
      ],
      "metadata": {
        "id": "wwW6uFo6z88u"
      }
    }
  ]
}