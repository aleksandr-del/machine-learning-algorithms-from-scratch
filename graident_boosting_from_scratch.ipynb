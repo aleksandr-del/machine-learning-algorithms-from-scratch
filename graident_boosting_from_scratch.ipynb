{
  "nbformat": 4,
  "nbformat_minor": 0,
  "metadata": {
    "colab": {
      "provenance": [],
      "toc_visible": true,
      "mount_file_id": "1jCDs2fC-FHw3JY525NS0l1PfO3qf_3aK",
      "authorship_tag": "ABX9TyNLQ/hvodbYW3075kNz9KSu",
      "include_colab_link": true
    },
    "kernelspec": {
      "name": "python3",
      "display_name": "Python 3"
    },
    "language_info": {
      "name": "python"
    }
  },
  "cells": [
    {
      "cell_type": "markdown",
      "metadata": {
        "id": "view-in-github",
        "colab_type": "text"
      },
      "source": [
        "<a href=\"https://colab.research.google.com/github/aleksandr-del/gradient-boosting-from-scratch/blob/main/graident_boosting_from_scratch.ipynb\" target=\"_parent\"><img src=\"https://colab.research.google.com/assets/colab-badge.svg\" alt=\"Open In Colab\"/></a>"
      ]
    },
    {
      "cell_type": "markdown",
      "source": [
        "# Градиентный бустинг для регрессии"
      ],
      "metadata": {
        "id": "3Kyp7M0nmAWl"
      }
    },
    {
      "cell_type": "markdown",
      "source": [
        "Импортируем необходимые библиотеки, модули, функции:"
      ],
      "metadata": {
        "id": "X5VJWDfAkRC5"
      }
    },
    {
      "cell_type": "code",
      "source": [
        "import pandas as pd\n",
        "import numpy as np\n",
        "from sklearn.datasets import make_regression\n",
        "from sklearn.metrics import r2_score, mean_absolute_error, mean_squared_error\n",
        "from sklearn.tree import DecisionTreeRegressor, plot_tree\n",
        "from sklearn.model_selection import train_test_split\n",
        "from sklearn.linear_model import LinearRegression\n",
        "import matplotlib.pyplot as plt"
      ],
      "metadata": {
        "id": "cihwHdCNkmDM"
      },
      "execution_count": null,
      "outputs": []
    },
    {
      "cell_type": "markdown",
      "source": [
        "## Датасет"
      ],
      "metadata": {
        "id": "7eEI7qBwmPYB"
      }
    },
    {
      "cell_type": "markdown",
      "source": [
        "[Создаем игрушечный датасет](https://scikit-learn.org/stable/modules/generated/sklearn.datasets.make_regression.html#sklearn.datasets.make_regression):"
      ],
      "metadata": {
        "id": "jn5M4L_tk3Qp"
      }
    },
    {
      "cell_type": "code",
      "source": [
        "X, y = make_regression(n_samples=1000, n_features=10)"
      ],
      "metadata": {
        "id": "wax9eQBYk8kV"
      },
      "execution_count": null,
      "outputs": []
    },
    {
      "cell_type": "markdown",
      "source": [
        "Упакуем все в датафрейм:"
      ],
      "metadata": {
        "id": "5LdZ8c69leVR"
      }
    },
    {
      "cell_type": "code",
      "source": [
        "df = pd.DataFrame(X)\n",
        "df['y_true'] = y\n",
        "df.head()"
      ],
      "metadata": {
        "colab": {
          "base_uri": "https://localhost:8080/",
          "height": 206
        },
        "id": "1IHaCXmelyo-",
        "outputId": "b586be5b-873b-4a90-ec4a-08b2d5ba34c3"
      },
      "execution_count": null,
      "outputs": [
        {
          "output_type": "execute_result",
          "data": {
            "text/plain": [
              "          0         1         2         3         4         5         6  \\\n",
              "0  0.190191  0.102131 -0.727650  1.326866  0.956277  0.393419 -0.619942   \n",
              "1  0.802898  1.096480  0.374079 -0.491611  0.786126 -0.900230  0.172447   \n",
              "2  0.028499 -0.116362 -0.599242 -0.221276  1.391569  0.613630  2.042259   \n",
              "3 -0.041174 -0.271762 -1.171254  0.623700  1.171006 -0.719854  0.315177   \n",
              "4  1.370564  0.597851  0.124681 -0.471121  1.078215  0.530921 -0.279244   \n",
              "\n",
              "          7         8         9      y_true  \n",
              "0  1.403972  0.031264 -0.076007  160.639800  \n",
              "1  0.658444 -1.044540  1.214986  153.131733  \n",
              "2  0.320276  0.132714  0.755259  212.372696  \n",
              "3  2.608597 -1.976576  0.299630   63.394716  \n",
              "4 -0.142642  0.609977 -2.065229   84.049121  "
            ],
            "text/html": [
              "\n",
              "  <div id=\"df-a4218564-0458-47b1-9201-aad2f8b8850a\">\n",
              "    <div class=\"colab-df-container\">\n",
              "      <div>\n",
              "<style scoped>\n",
              "    .dataframe tbody tr th:only-of-type {\n",
              "        vertical-align: middle;\n",
              "    }\n",
              "\n",
              "    .dataframe tbody tr th {\n",
              "        vertical-align: top;\n",
              "    }\n",
              "\n",
              "    .dataframe thead th {\n",
              "        text-align: right;\n",
              "    }\n",
              "</style>\n",
              "<table border=\"1\" class=\"dataframe\">\n",
              "  <thead>\n",
              "    <tr style=\"text-align: right;\">\n",
              "      <th></th>\n",
              "      <th>0</th>\n",
              "      <th>1</th>\n",
              "      <th>2</th>\n",
              "      <th>3</th>\n",
              "      <th>4</th>\n",
              "      <th>5</th>\n",
              "      <th>6</th>\n",
              "      <th>7</th>\n",
              "      <th>8</th>\n",
              "      <th>9</th>\n",
              "      <th>y_true</th>\n",
              "    </tr>\n",
              "  </thead>\n",
              "  <tbody>\n",
              "    <tr>\n",
              "      <th>0</th>\n",
              "      <td>0.190191</td>\n",
              "      <td>0.102131</td>\n",
              "      <td>-0.727650</td>\n",
              "      <td>1.326866</td>\n",
              "      <td>0.956277</td>\n",
              "      <td>0.393419</td>\n",
              "      <td>-0.619942</td>\n",
              "      <td>1.403972</td>\n",
              "      <td>0.031264</td>\n",
              "      <td>-0.076007</td>\n",
              "      <td>160.639800</td>\n",
              "    </tr>\n",
              "    <tr>\n",
              "      <th>1</th>\n",
              "      <td>0.802898</td>\n",
              "      <td>1.096480</td>\n",
              "      <td>0.374079</td>\n",
              "      <td>-0.491611</td>\n",
              "      <td>0.786126</td>\n",
              "      <td>-0.900230</td>\n",
              "      <td>0.172447</td>\n",
              "      <td>0.658444</td>\n",
              "      <td>-1.044540</td>\n",
              "      <td>1.214986</td>\n",
              "      <td>153.131733</td>\n",
              "    </tr>\n",
              "    <tr>\n",
              "      <th>2</th>\n",
              "      <td>0.028499</td>\n",
              "      <td>-0.116362</td>\n",
              "      <td>-0.599242</td>\n",
              "      <td>-0.221276</td>\n",
              "      <td>1.391569</td>\n",
              "      <td>0.613630</td>\n",
              "      <td>2.042259</td>\n",
              "      <td>0.320276</td>\n",
              "      <td>0.132714</td>\n",
              "      <td>0.755259</td>\n",
              "      <td>212.372696</td>\n",
              "    </tr>\n",
              "    <tr>\n",
              "      <th>3</th>\n",
              "      <td>-0.041174</td>\n",
              "      <td>-0.271762</td>\n",
              "      <td>-1.171254</td>\n",
              "      <td>0.623700</td>\n",
              "      <td>1.171006</td>\n",
              "      <td>-0.719854</td>\n",
              "      <td>0.315177</td>\n",
              "      <td>2.608597</td>\n",
              "      <td>-1.976576</td>\n",
              "      <td>0.299630</td>\n",
              "      <td>63.394716</td>\n",
              "    </tr>\n",
              "    <tr>\n",
              "      <th>4</th>\n",
              "      <td>1.370564</td>\n",
              "      <td>0.597851</td>\n",
              "      <td>0.124681</td>\n",
              "      <td>-0.471121</td>\n",
              "      <td>1.078215</td>\n",
              "      <td>0.530921</td>\n",
              "      <td>-0.279244</td>\n",
              "      <td>-0.142642</td>\n",
              "      <td>0.609977</td>\n",
              "      <td>-2.065229</td>\n",
              "      <td>84.049121</td>\n",
              "    </tr>\n",
              "  </tbody>\n",
              "</table>\n",
              "</div>\n",
              "      <button class=\"colab-df-convert\" onclick=\"convertToInteractive('df-a4218564-0458-47b1-9201-aad2f8b8850a')\"\n",
              "              title=\"Convert this dataframe to an interactive table.\"\n",
              "              style=\"display:none;\">\n",
              "        \n",
              "  <svg xmlns=\"http://www.w3.org/2000/svg\" height=\"24px\"viewBox=\"0 0 24 24\"\n",
              "       width=\"24px\">\n",
              "    <path d=\"M0 0h24v24H0V0z\" fill=\"none\"/>\n",
              "    <path d=\"M18.56 5.44l.94 2.06.94-2.06 2.06-.94-2.06-.94-.94-2.06-.94 2.06-2.06.94zm-11 1L8.5 8.5l.94-2.06 2.06-.94-2.06-.94L8.5 2.5l-.94 2.06-2.06.94zm10 10l.94 2.06.94-2.06 2.06-.94-2.06-.94-.94-2.06-.94 2.06-2.06.94z\"/><path d=\"M17.41 7.96l-1.37-1.37c-.4-.4-.92-.59-1.43-.59-.52 0-1.04.2-1.43.59L10.3 9.45l-7.72 7.72c-.78.78-.78 2.05 0 2.83L4 21.41c.39.39.9.59 1.41.59.51 0 1.02-.2 1.41-.59l7.78-7.78 2.81-2.81c.8-.78.8-2.07 0-2.86zM5.41 20L4 18.59l7.72-7.72 1.47 1.35L5.41 20z\"/>\n",
              "  </svg>\n",
              "      </button>\n",
              "      \n",
              "  <style>\n",
              "    .colab-df-container {\n",
              "      display:flex;\n",
              "      flex-wrap:wrap;\n",
              "      gap: 12px;\n",
              "    }\n",
              "\n",
              "    .colab-df-convert {\n",
              "      background-color: #E8F0FE;\n",
              "      border: none;\n",
              "      border-radius: 50%;\n",
              "      cursor: pointer;\n",
              "      display: none;\n",
              "      fill: #1967D2;\n",
              "      height: 32px;\n",
              "      padding: 0 0 0 0;\n",
              "      width: 32px;\n",
              "    }\n",
              "\n",
              "    .colab-df-convert:hover {\n",
              "      background-color: #E2EBFA;\n",
              "      box-shadow: 0px 1px 2px rgba(60, 64, 67, 0.3), 0px 1px 3px 1px rgba(60, 64, 67, 0.15);\n",
              "      fill: #174EA6;\n",
              "    }\n",
              "\n",
              "    [theme=dark] .colab-df-convert {\n",
              "      background-color: #3B4455;\n",
              "      fill: #D2E3FC;\n",
              "    }\n",
              "\n",
              "    [theme=dark] .colab-df-convert:hover {\n",
              "      background-color: #434B5C;\n",
              "      box-shadow: 0px 1px 3px 1px rgba(0, 0, 0, 0.15);\n",
              "      filter: drop-shadow(0px 1px 2px rgba(0, 0, 0, 0.3));\n",
              "      fill: #FFFFFF;\n",
              "    }\n",
              "  </style>\n",
              "\n",
              "      <script>\n",
              "        const buttonEl =\n",
              "          document.querySelector('#df-a4218564-0458-47b1-9201-aad2f8b8850a button.colab-df-convert');\n",
              "        buttonEl.style.display =\n",
              "          google.colab.kernel.accessAllowed ? 'block' : 'none';\n",
              "\n",
              "        async function convertToInteractive(key) {\n",
              "          const element = document.querySelector('#df-a4218564-0458-47b1-9201-aad2f8b8850a');\n",
              "          const dataTable =\n",
              "            await google.colab.kernel.invokeFunction('convertToInteractive',\n",
              "                                                     [key], {});\n",
              "          if (!dataTable) return;\n",
              "\n",
              "          const docLinkHtml = 'Like what you see? Visit the ' +\n",
              "            '<a target=\"_blank\" href=https://colab.research.google.com/notebooks/data_table.ipynb>data table notebook</a>'\n",
              "            + ' to learn more about interactive tables.';\n",
              "          element.innerHTML = '';\n",
              "          dataTable['output_type'] = 'display_data';\n",
              "          await google.colab.output.renderOutput(dataTable, element);\n",
              "          const docLink = document.createElement('div');\n",
              "          docLink.innerHTML = docLinkHtml;\n",
              "          element.appendChild(docLink);\n",
              "        }\n",
              "      </script>\n",
              "    </div>\n",
              "  </div>\n",
              "  "
            ]
          },
          "metadata": {},
          "execution_count": 172
        }
      ]
    },
    {
      "cell_type": "markdown",
      "source": [
        "## Бустинг"
      ],
      "metadata": {
        "id": "3b5MX2rRl6F0"
      }
    },
    {
      "cell_type": "markdown",
      "source": [
        "### Шаг 1"
      ],
      "metadata": {
        "id": "xZhgMUXXnoTi"
      }
    },
    {
      "cell_type": "markdown",
      "source": [
        "Инициализируем модель градиентного бустинга - делаем констатнтное предсказание для всех наблюдений (среднее значение по выборке является лучшим предсказанием, если наша функция потерь - сумма квадратов ошибки):"
      ],
      "metadata": {
        "id": "lIVBPKvMns3T"
      }
    },
    {
      "cell_type": "code",
      "source": [
        "df['y_pred_0'] = df['y_true'].mean()"
      ],
      "metadata": {
        "id": "UcoaIkwkn67Y"
      },
      "execution_count": null,
      "outputs": []
    },
    {
      "cell_type": "code",
      "source": [
        "df.head()"
      ],
      "metadata": {
        "colab": {
          "base_uri": "https://localhost:8080/",
          "height": 270
        },
        "id": "lND4HVu4oHaL",
        "outputId": "304b9ad8-c3de-4133-efc3-28245569c98d"
      },
      "execution_count": null,
      "outputs": [
        {
          "output_type": "execute_result",
          "data": {
            "text/plain": [
              "          0         1         2         3         4         5         6  \\\n",
              "0 -0.727269  0.022508  0.344120 -0.526625 -1.434693  2.497329 -0.583163   \n",
              "1 -0.475321  1.108667 -0.544382 -0.780676  1.145937  0.738124  0.113520   \n",
              "2 -1.179770  0.330838  0.648259 -0.481635  0.626106 -0.276344  0.254040   \n",
              "3 -0.561148  0.582951 -0.768002  0.877364 -0.114408  0.587512 -1.693695   \n",
              "4  0.785531 -0.731873  0.049060 -0.389738  0.129809 -0.191763 -0.624931   \n",
              "\n",
              "          7         8         9      y_true   y_pred_0  \n",
              "0 -0.141302  0.075710 -0.395560   91.128983 -12.627207  \n",
              "1 -0.830364  1.792665  0.492390   74.708608 -12.627207  \n",
              "2 -1.434950 -0.713848  0.126808 -214.070264 -12.627207  \n",
              "3  1.073134 -0.178924  0.380995   64.443824 -12.627207  \n",
              "4 -0.144405 -0.132586 -0.361413 -121.783189 -12.627207  "
            ],
            "text/html": [
              "\n",
              "  <div id=\"df-d2d9f17d-5be7-48b2-a3b9-97acef614b5e\">\n",
              "    <div class=\"colab-df-container\">\n",
              "      <div>\n",
              "<style scoped>\n",
              "    .dataframe tbody tr th:only-of-type {\n",
              "        vertical-align: middle;\n",
              "    }\n",
              "\n",
              "    .dataframe tbody tr th {\n",
              "        vertical-align: top;\n",
              "    }\n",
              "\n",
              "    .dataframe thead th {\n",
              "        text-align: right;\n",
              "    }\n",
              "</style>\n",
              "<table border=\"1\" class=\"dataframe\">\n",
              "  <thead>\n",
              "    <tr style=\"text-align: right;\">\n",
              "      <th></th>\n",
              "      <th>0</th>\n",
              "      <th>1</th>\n",
              "      <th>2</th>\n",
              "      <th>3</th>\n",
              "      <th>4</th>\n",
              "      <th>5</th>\n",
              "      <th>6</th>\n",
              "      <th>7</th>\n",
              "      <th>8</th>\n",
              "      <th>9</th>\n",
              "      <th>y_true</th>\n",
              "      <th>y_pred_0</th>\n",
              "    </tr>\n",
              "  </thead>\n",
              "  <tbody>\n",
              "    <tr>\n",
              "      <th>0</th>\n",
              "      <td>-0.727269</td>\n",
              "      <td>0.022508</td>\n",
              "      <td>0.344120</td>\n",
              "      <td>-0.526625</td>\n",
              "      <td>-1.434693</td>\n",
              "      <td>2.497329</td>\n",
              "      <td>-0.583163</td>\n",
              "      <td>-0.141302</td>\n",
              "      <td>0.075710</td>\n",
              "      <td>-0.395560</td>\n",
              "      <td>91.128983</td>\n",
              "      <td>-12.627207</td>\n",
              "    </tr>\n",
              "    <tr>\n",
              "      <th>1</th>\n",
              "      <td>-0.475321</td>\n",
              "      <td>1.108667</td>\n",
              "      <td>-0.544382</td>\n",
              "      <td>-0.780676</td>\n",
              "      <td>1.145937</td>\n",
              "      <td>0.738124</td>\n",
              "      <td>0.113520</td>\n",
              "      <td>-0.830364</td>\n",
              "      <td>1.792665</td>\n",
              "      <td>0.492390</td>\n",
              "      <td>74.708608</td>\n",
              "      <td>-12.627207</td>\n",
              "    </tr>\n",
              "    <tr>\n",
              "      <th>2</th>\n",
              "      <td>-1.179770</td>\n",
              "      <td>0.330838</td>\n",
              "      <td>0.648259</td>\n",
              "      <td>-0.481635</td>\n",
              "      <td>0.626106</td>\n",
              "      <td>-0.276344</td>\n",
              "      <td>0.254040</td>\n",
              "      <td>-1.434950</td>\n",
              "      <td>-0.713848</td>\n",
              "      <td>0.126808</td>\n",
              "      <td>-214.070264</td>\n",
              "      <td>-12.627207</td>\n",
              "    </tr>\n",
              "    <tr>\n",
              "      <th>3</th>\n",
              "      <td>-0.561148</td>\n",
              "      <td>0.582951</td>\n",
              "      <td>-0.768002</td>\n",
              "      <td>0.877364</td>\n",
              "      <td>-0.114408</td>\n",
              "      <td>0.587512</td>\n",
              "      <td>-1.693695</td>\n",
              "      <td>1.073134</td>\n",
              "      <td>-0.178924</td>\n",
              "      <td>0.380995</td>\n",
              "      <td>64.443824</td>\n",
              "      <td>-12.627207</td>\n",
              "    </tr>\n",
              "    <tr>\n",
              "      <th>4</th>\n",
              "      <td>0.785531</td>\n",
              "      <td>-0.731873</td>\n",
              "      <td>0.049060</td>\n",
              "      <td>-0.389738</td>\n",
              "      <td>0.129809</td>\n",
              "      <td>-0.191763</td>\n",
              "      <td>-0.624931</td>\n",
              "      <td>-0.144405</td>\n",
              "      <td>-0.132586</td>\n",
              "      <td>-0.361413</td>\n",
              "      <td>-121.783189</td>\n",
              "      <td>-12.627207</td>\n",
              "    </tr>\n",
              "  </tbody>\n",
              "</table>\n",
              "</div>\n",
              "      <button class=\"colab-df-convert\" onclick=\"convertToInteractive('df-d2d9f17d-5be7-48b2-a3b9-97acef614b5e')\"\n",
              "              title=\"Convert this dataframe to an interactive table.\"\n",
              "              style=\"display:none;\">\n",
              "        \n",
              "  <svg xmlns=\"http://www.w3.org/2000/svg\" height=\"24px\"viewBox=\"0 0 24 24\"\n",
              "       width=\"24px\">\n",
              "    <path d=\"M0 0h24v24H0V0z\" fill=\"none\"/>\n",
              "    <path d=\"M18.56 5.44l.94 2.06.94-2.06 2.06-.94-2.06-.94-.94-2.06-.94 2.06-2.06.94zm-11 1L8.5 8.5l.94-2.06 2.06-.94-2.06-.94L8.5 2.5l-.94 2.06-2.06.94zm10 10l.94 2.06.94-2.06 2.06-.94-2.06-.94-.94-2.06-.94 2.06-2.06.94z\"/><path d=\"M17.41 7.96l-1.37-1.37c-.4-.4-.92-.59-1.43-.59-.52 0-1.04.2-1.43.59L10.3 9.45l-7.72 7.72c-.78.78-.78 2.05 0 2.83L4 21.41c.39.39.9.59 1.41.59.51 0 1.02-.2 1.41-.59l7.78-7.78 2.81-2.81c.8-.78.8-2.07 0-2.86zM5.41 20L4 18.59l7.72-7.72 1.47 1.35L5.41 20z\"/>\n",
              "  </svg>\n",
              "      </button>\n",
              "      \n",
              "  <style>\n",
              "    .colab-df-container {\n",
              "      display:flex;\n",
              "      flex-wrap:wrap;\n",
              "      gap: 12px;\n",
              "    }\n",
              "\n",
              "    .colab-df-convert {\n",
              "      background-color: #E8F0FE;\n",
              "      border: none;\n",
              "      border-radius: 50%;\n",
              "      cursor: pointer;\n",
              "      display: none;\n",
              "      fill: #1967D2;\n",
              "      height: 32px;\n",
              "      padding: 0 0 0 0;\n",
              "      width: 32px;\n",
              "    }\n",
              "\n",
              "    .colab-df-convert:hover {\n",
              "      background-color: #E2EBFA;\n",
              "      box-shadow: 0px 1px 2px rgba(60, 64, 67, 0.3), 0px 1px 3px 1px rgba(60, 64, 67, 0.15);\n",
              "      fill: #174EA6;\n",
              "    }\n",
              "\n",
              "    [theme=dark] .colab-df-convert {\n",
              "      background-color: #3B4455;\n",
              "      fill: #D2E3FC;\n",
              "    }\n",
              "\n",
              "    [theme=dark] .colab-df-convert:hover {\n",
              "      background-color: #434B5C;\n",
              "      box-shadow: 0px 1px 3px 1px rgba(0, 0, 0, 0.15);\n",
              "      filter: drop-shadow(0px 1px 2px rgba(0, 0, 0, 0.3));\n",
              "      fill: #FFFFFF;\n",
              "    }\n",
              "  </style>\n",
              "\n",
              "      <script>\n",
              "        const buttonEl =\n",
              "          document.querySelector('#df-d2d9f17d-5be7-48b2-a3b9-97acef614b5e button.colab-df-convert');\n",
              "        buttonEl.style.display =\n",
              "          google.colab.kernel.accessAllowed ? 'block' : 'none';\n",
              "\n",
              "        async function convertToInteractive(key) {\n",
              "          const element = document.querySelector('#df-d2d9f17d-5be7-48b2-a3b9-97acef614b5e');\n",
              "          const dataTable =\n",
              "            await google.colab.kernel.invokeFunction('convertToInteractive',\n",
              "                                                     [key], {});\n",
              "          if (!dataTable) return;\n",
              "\n",
              "          const docLinkHtml = 'Like what you see? Visit the ' +\n",
              "            '<a target=\"_blank\" href=https://colab.research.google.com/notebooks/data_table.ipynb>data table notebook</a>'\n",
              "            + ' to learn more about interactive tables.';\n",
              "          element.innerHTML = '';\n",
              "          dataTable['output_type'] = 'display_data';\n",
              "          await google.colab.output.renderOutput(dataTable, element);\n",
              "          const docLink = document.createElement('div');\n",
              "          docLink.innerHTML = docLinkHtml;\n",
              "          element.appendChild(docLink);\n",
              "        }\n",
              "      </script>\n",
              "    </div>\n",
              "  </div>\n",
              "  "
            ]
          },
          "metadata": {},
          "execution_count": 134
        }
      ]
    },
    {
      "cell_type": "markdown",
      "source": [
        "Посчитаем метрики качества модели:"
      ],
      "metadata": {
        "id": "S9B1zNSAoIuD"
      }
    },
    {
      "cell_type": "code",
      "source": [
        "print(f\"R2: {r2_score(df['y_true'], df['y_pred_0'])}\")\n",
        "print(f\"MSE: {mean_squared_error(df['y_true'], df['y_pred_0'])}\")\n",
        "print(f\"MAE: {mean_absolute_error(df['y_true'], df['y_pred_0'])}\")"
      ],
      "metadata": {
        "colab": {
          "base_uri": "https://localhost:8080/"
        },
        "id": "cSCaU8qUorcJ",
        "outputId": "9e5193e2-222a-4299-e3d6-5e35b0adf9a2"
      },
      "execution_count": null,
      "outputs": [
        {
          "output_type": "stream",
          "name": "stdout",
          "text": [
            "R2: 0.0\n",
            "MSE: 34118.90914751159\n",
            "MAE: 147.12716423011196\n"
          ]
        }
      ]
    },
    {
      "cell_type": "markdown",
      "source": [
        "### Шаг 2"
      ],
      "metadata": {
        "id": "gVYalL71o2wV"
      }
    },
    {
      "cell_type": "markdown",
      "source": [
        "Посчитаем остатки:"
      ],
      "metadata": {
        "id": "xGSoMWrHpjL8"
      }
    },
    {
      "cell_type": "code",
      "source": [
        "df['residuals_0'] = df['y_true'] - df['y_pred_0']\n",
        "df.head()"
      ],
      "metadata": {
        "colab": {
          "base_uri": "https://localhost:8080/",
          "height": 270
        },
        "id": "oNoEcQgyplZs",
        "outputId": "5d52490c-f6f3-4393-e4ca-20aa59d116e1"
      },
      "execution_count": null,
      "outputs": [
        {
          "output_type": "execute_result",
          "data": {
            "text/plain": [
              "          0         1         2         3         4         5         6  \\\n",
              "0 -0.727269  0.022508  0.344120 -0.526625 -1.434693  2.497329 -0.583163   \n",
              "1 -0.475321  1.108667 -0.544382 -0.780676  1.145937  0.738124  0.113520   \n",
              "2 -1.179770  0.330838  0.648259 -0.481635  0.626106 -0.276344  0.254040   \n",
              "3 -0.561148  0.582951 -0.768002  0.877364 -0.114408  0.587512 -1.693695   \n",
              "4  0.785531 -0.731873  0.049060 -0.389738  0.129809 -0.191763 -0.624931   \n",
              "\n",
              "          7         8         9      y_true   y_pred_0  residuals_0  \n",
              "0 -0.141302  0.075710 -0.395560   91.128983 -12.627207   103.756190  \n",
              "1 -0.830364  1.792665  0.492390   74.708608 -12.627207    87.335816  \n",
              "2 -1.434950 -0.713848  0.126808 -214.070264 -12.627207  -201.443056  \n",
              "3  1.073134 -0.178924  0.380995   64.443824 -12.627207    77.071031  \n",
              "4 -0.144405 -0.132586 -0.361413 -121.783189 -12.627207  -109.155982  "
            ],
            "text/html": [
              "\n",
              "  <div id=\"df-701d7c45-d0d8-48bd-a0a0-7a755203f3a1\">\n",
              "    <div class=\"colab-df-container\">\n",
              "      <div>\n",
              "<style scoped>\n",
              "    .dataframe tbody tr th:only-of-type {\n",
              "        vertical-align: middle;\n",
              "    }\n",
              "\n",
              "    .dataframe tbody tr th {\n",
              "        vertical-align: top;\n",
              "    }\n",
              "\n",
              "    .dataframe thead th {\n",
              "        text-align: right;\n",
              "    }\n",
              "</style>\n",
              "<table border=\"1\" class=\"dataframe\">\n",
              "  <thead>\n",
              "    <tr style=\"text-align: right;\">\n",
              "      <th></th>\n",
              "      <th>0</th>\n",
              "      <th>1</th>\n",
              "      <th>2</th>\n",
              "      <th>3</th>\n",
              "      <th>4</th>\n",
              "      <th>5</th>\n",
              "      <th>6</th>\n",
              "      <th>7</th>\n",
              "      <th>8</th>\n",
              "      <th>9</th>\n",
              "      <th>y_true</th>\n",
              "      <th>y_pred_0</th>\n",
              "      <th>residuals_0</th>\n",
              "    </tr>\n",
              "  </thead>\n",
              "  <tbody>\n",
              "    <tr>\n",
              "      <th>0</th>\n",
              "      <td>-0.727269</td>\n",
              "      <td>0.022508</td>\n",
              "      <td>0.344120</td>\n",
              "      <td>-0.526625</td>\n",
              "      <td>-1.434693</td>\n",
              "      <td>2.497329</td>\n",
              "      <td>-0.583163</td>\n",
              "      <td>-0.141302</td>\n",
              "      <td>0.075710</td>\n",
              "      <td>-0.395560</td>\n",
              "      <td>91.128983</td>\n",
              "      <td>-12.627207</td>\n",
              "      <td>103.756190</td>\n",
              "    </tr>\n",
              "    <tr>\n",
              "      <th>1</th>\n",
              "      <td>-0.475321</td>\n",
              "      <td>1.108667</td>\n",
              "      <td>-0.544382</td>\n",
              "      <td>-0.780676</td>\n",
              "      <td>1.145937</td>\n",
              "      <td>0.738124</td>\n",
              "      <td>0.113520</td>\n",
              "      <td>-0.830364</td>\n",
              "      <td>1.792665</td>\n",
              "      <td>0.492390</td>\n",
              "      <td>74.708608</td>\n",
              "      <td>-12.627207</td>\n",
              "      <td>87.335816</td>\n",
              "    </tr>\n",
              "    <tr>\n",
              "      <th>2</th>\n",
              "      <td>-1.179770</td>\n",
              "      <td>0.330838</td>\n",
              "      <td>0.648259</td>\n",
              "      <td>-0.481635</td>\n",
              "      <td>0.626106</td>\n",
              "      <td>-0.276344</td>\n",
              "      <td>0.254040</td>\n",
              "      <td>-1.434950</td>\n",
              "      <td>-0.713848</td>\n",
              "      <td>0.126808</td>\n",
              "      <td>-214.070264</td>\n",
              "      <td>-12.627207</td>\n",
              "      <td>-201.443056</td>\n",
              "    </tr>\n",
              "    <tr>\n",
              "      <th>3</th>\n",
              "      <td>-0.561148</td>\n",
              "      <td>0.582951</td>\n",
              "      <td>-0.768002</td>\n",
              "      <td>0.877364</td>\n",
              "      <td>-0.114408</td>\n",
              "      <td>0.587512</td>\n",
              "      <td>-1.693695</td>\n",
              "      <td>1.073134</td>\n",
              "      <td>-0.178924</td>\n",
              "      <td>0.380995</td>\n",
              "      <td>64.443824</td>\n",
              "      <td>-12.627207</td>\n",
              "      <td>77.071031</td>\n",
              "    </tr>\n",
              "    <tr>\n",
              "      <th>4</th>\n",
              "      <td>0.785531</td>\n",
              "      <td>-0.731873</td>\n",
              "      <td>0.049060</td>\n",
              "      <td>-0.389738</td>\n",
              "      <td>0.129809</td>\n",
              "      <td>-0.191763</td>\n",
              "      <td>-0.624931</td>\n",
              "      <td>-0.144405</td>\n",
              "      <td>-0.132586</td>\n",
              "      <td>-0.361413</td>\n",
              "      <td>-121.783189</td>\n",
              "      <td>-12.627207</td>\n",
              "      <td>-109.155982</td>\n",
              "    </tr>\n",
              "  </tbody>\n",
              "</table>\n",
              "</div>\n",
              "      <button class=\"colab-df-convert\" onclick=\"convertToInteractive('df-701d7c45-d0d8-48bd-a0a0-7a755203f3a1')\"\n",
              "              title=\"Convert this dataframe to an interactive table.\"\n",
              "              style=\"display:none;\">\n",
              "        \n",
              "  <svg xmlns=\"http://www.w3.org/2000/svg\" height=\"24px\"viewBox=\"0 0 24 24\"\n",
              "       width=\"24px\">\n",
              "    <path d=\"M0 0h24v24H0V0z\" fill=\"none\"/>\n",
              "    <path d=\"M18.56 5.44l.94 2.06.94-2.06 2.06-.94-2.06-.94-.94-2.06-.94 2.06-2.06.94zm-11 1L8.5 8.5l.94-2.06 2.06-.94-2.06-.94L8.5 2.5l-.94 2.06-2.06.94zm10 10l.94 2.06.94-2.06 2.06-.94-2.06-.94-.94-2.06-.94 2.06-2.06.94z\"/><path d=\"M17.41 7.96l-1.37-1.37c-.4-.4-.92-.59-1.43-.59-.52 0-1.04.2-1.43.59L10.3 9.45l-7.72 7.72c-.78.78-.78 2.05 0 2.83L4 21.41c.39.39.9.59 1.41.59.51 0 1.02-.2 1.41-.59l7.78-7.78 2.81-2.81c.8-.78.8-2.07 0-2.86zM5.41 20L4 18.59l7.72-7.72 1.47 1.35L5.41 20z\"/>\n",
              "  </svg>\n",
              "      </button>\n",
              "      \n",
              "  <style>\n",
              "    .colab-df-container {\n",
              "      display:flex;\n",
              "      flex-wrap:wrap;\n",
              "      gap: 12px;\n",
              "    }\n",
              "\n",
              "    .colab-df-convert {\n",
              "      background-color: #E8F0FE;\n",
              "      border: none;\n",
              "      border-radius: 50%;\n",
              "      cursor: pointer;\n",
              "      display: none;\n",
              "      fill: #1967D2;\n",
              "      height: 32px;\n",
              "      padding: 0 0 0 0;\n",
              "      width: 32px;\n",
              "    }\n",
              "\n",
              "    .colab-df-convert:hover {\n",
              "      background-color: #E2EBFA;\n",
              "      box-shadow: 0px 1px 2px rgba(60, 64, 67, 0.3), 0px 1px 3px 1px rgba(60, 64, 67, 0.15);\n",
              "      fill: #174EA6;\n",
              "    }\n",
              "\n",
              "    [theme=dark] .colab-df-convert {\n",
              "      background-color: #3B4455;\n",
              "      fill: #D2E3FC;\n",
              "    }\n",
              "\n",
              "    [theme=dark] .colab-df-convert:hover {\n",
              "      background-color: #434B5C;\n",
              "      box-shadow: 0px 1px 3px 1px rgba(0, 0, 0, 0.15);\n",
              "      filter: drop-shadow(0px 1px 2px rgba(0, 0, 0, 0.3));\n",
              "      fill: #FFFFFF;\n",
              "    }\n",
              "  </style>\n",
              "\n",
              "      <script>\n",
              "        const buttonEl =\n",
              "          document.querySelector('#df-701d7c45-d0d8-48bd-a0a0-7a755203f3a1 button.colab-df-convert');\n",
              "        buttonEl.style.display =\n",
              "          google.colab.kernel.accessAllowed ? 'block' : 'none';\n",
              "\n",
              "        async function convertToInteractive(key) {\n",
              "          const element = document.querySelector('#df-701d7c45-d0d8-48bd-a0a0-7a755203f3a1');\n",
              "          const dataTable =\n",
              "            await google.colab.kernel.invokeFunction('convertToInteractive',\n",
              "                                                     [key], {});\n",
              "          if (!dataTable) return;\n",
              "\n",
              "          const docLinkHtml = 'Like what you see? Visit the ' +\n",
              "            '<a target=\"_blank\" href=https://colab.research.google.com/notebooks/data_table.ipynb>data table notebook</a>'\n",
              "            + ' to learn more about interactive tables.';\n",
              "          element.innerHTML = '';\n",
              "          dataTable['output_type'] = 'display_data';\n",
              "          await google.colab.output.renderOutput(dataTable, element);\n",
              "          const docLink = document.createElement('div');\n",
              "          docLink.innerHTML = docLinkHtml;\n",
              "          element.appendChild(docLink);\n",
              "        }\n",
              "      </script>\n",
              "    </div>\n",
              "  </div>\n",
              "  "
            ]
          },
          "metadata": {},
          "execution_count": 136
        }
      ]
    },
    {
      "cell_type": "markdown",
      "source": [
        "### Шаг 3"
      ],
      "metadata": {
        "id": "L8f3TlawpwJ9"
      }
    },
    {
      "cell_type": "markdown",
      "source": [
        "Инициализируем алгоритм Дерево решений с максимальной глубиной, равной 1 (stump), то есть листов у нас будет 2:"
      ],
      "metadata": {
        "id": "wH7Y4oOzqpcT"
      }
    },
    {
      "cell_type": "code",
      "source": [
        "model_1 = DecisionTreeRegressor(max_leaf_nodes=2)"
      ],
      "metadata": {
        "id": "RuQDoCvtq9Fr"
      },
      "execution_count": null,
      "outputs": []
    },
    {
      "cell_type": "markdown",
      "source": [
        "Обучаемся на остатках:"
      ],
      "metadata": {
        "id": "dC0TAyBqrE-F"
      }
    },
    {
      "cell_type": "code",
      "source": [
        "model_1.fit(df[[0, 1, 2, 3, 4, 5, 6, 7, 8, 9]], df['residuals_0'])"
      ],
      "metadata": {
        "colab": {
          "base_uri": "https://localhost:8080/"
        },
        "id": "b4BebrO2rHW0",
        "outputId": "b6decbad-6256-4ae2-8631-92513596ed7c"
      },
      "execution_count": null,
      "outputs": [
        {
          "output_type": "execute_result",
          "data": {
            "text/plain": [
              "DecisionTreeRegressor(max_leaf_nodes=2)"
            ]
          },
          "metadata": {},
          "execution_count": 155
        }
      ]
    },
    {
      "cell_type": "markdown",
      "source": [
        "Делаем новое предсказание, суммировав предсказанные алгоритмом остатки, умноженные на скорость обучения, и первое предсказание, другими словами, мы компенсируем остатки:"
      ],
      "metadata": {
        "id": "HVjg7zRnvIlH"
      }
    },
    {
      "cell_type": "code",
      "source": [
        "df['y_pred_1'] = model_1.predict(df[[0, 1, 2, 3, 4, 5, 6, 7, 8, 9]]) * 0.1 + df['y_pred_0']"
      ],
      "metadata": {
        "id": "cyngrBv-ugkQ"
      },
      "execution_count": null,
      "outputs": []
    },
    {
      "cell_type": "markdown",
      "source": [
        "Визуализируем дерево:"
      ],
      "metadata": {
        "id": "Sxuvm9xEvuVe"
      }
    },
    {
      "cell_type": "code",
      "source": [
        "plot_tree(model_1)"
      ],
      "metadata": {
        "colab": {
          "base_uri": "https://localhost:8080/",
          "height": 300
        },
        "id": "sUPNaIAura0r",
        "outputId": "a36a6b5f-ee67-44ad-bdb3-6e76035cd501"
      },
      "execution_count": null,
      "outputs": [
        {
          "output_type": "execute_result",
          "data": {
            "text/plain": [
              "[Text(0.5, 0.75, 'X[7] <= -0.466\\nsquared_error = 34118.909\\nsamples = 1000\\nvalue = -0.0'),\n",
              " Text(0.25, 0.25, 'squared_error = 26985.13\\nsamples = 322\\nvalue = -119.508'),\n",
              " Text(0.75, 0.25, 'squared_error = 27502.513\\nsamples = 678\\nvalue = 56.758')]"
            ]
          },
          "metadata": {},
          "execution_count": 157
        },
        {
          "output_type": "display_data",
          "data": {
            "text/plain": [
              "<Figure size 432x288 with 1 Axes>"
            ],
            "image/png": "[encoded data removed]"
          },
          "metadata": {
            "needs_background": "light"
          }
        }
      ]
    },
    {
      "cell_type": "markdown",
      "source": [
        "Посчитаем метрики качества:"
      ],
      "metadata": {
        "id": "7fz5oVjssAIx"
      }
    },
    {
      "cell_type": "code",
      "source": [
        "print(f\"R2: {r2_score(df['y_true'], df['y_pred_1'])}\")\n",
        "print(f\"MSE: {mean_squared_error(df['y_true'], df['y_pred_1'])}\")\n",
        "print(f\"MAE: {mean_absolute_error(df['y_true'], df['y_pred_1'])}\")"
      ],
      "metadata": {
        "colab": {
          "base_uri": "https://localhost:8080/"
        },
        "outputId": "116f704f-72f9-4142-ebbb-f5651e57fd4d",
        "id": "EEnkFdHOv5Ao"
      },
      "execution_count": null,
      "outputs": [
        {
          "output_type": "stream",
          "name": "stdout",
          "text": [
            "R2: 0.0377728609181488\n",
            "MSE: 32830.14033760368\n",
            "MAE: 143.9675828976416\n"
          ]
        }
      ]
    },
    {
      "cell_type": "markdown",
      "source": [
        "### Шаг 4"
      ],
      "metadata": {
        "id": "aPCsbPc_v_qV"
      }
    },
    {
      "cell_type": "markdown",
      "source": [
        "Повторяем шаги 2, 3 до тех пор, пока не добьемся приемлемого качества или определенное количество деревьев. Напишем для этого функцию."
      ],
      "metadata": {
        "id": "eHT92D87xJ2J"
      }
    },
    {
      "cell_type": "markdown",
      "source": [
        " Создадим копию исходного датафрейма:"
      ],
      "metadata": {
        "id": "qajkE82HymvL"
      }
    },
    {
      "cell_type": "code",
      "source": [
        "df = df[[0, 1, 2, 3, 4, 5, 6, 7, 8, 9, 'y_true']].copy()\n",
        "df.head()"
      ],
      "metadata": {
        "colab": {
          "base_uri": "https://localhost:8080/",
          "height": 206
        },
        "id": "5VjIALpnxh01",
        "outputId": "dff4eb7d-f3d3-4748-c796-f08e7db88860"
      },
      "execution_count": null,
      "outputs": [
        {
          "output_type": "execute_result",
          "data": {
            "text/plain": [
              "          0         1         2         3         4         5         6  \\\n",
              "0  0.190191  0.102131 -0.727650  1.326866  0.956277  0.393419 -0.619942   \n",
              "1  0.802898  1.096480  0.374079 -0.491611  0.786126 -0.900230  0.172447   \n",
              "2  0.028499 -0.116362 -0.599242 -0.221276  1.391569  0.613630  2.042259   \n",
              "3 -0.041174 -0.271762 -1.171254  0.623700  1.171006 -0.719854  0.315177   \n",
              "4  1.370564  0.597851  0.124681 -0.471121  1.078215  0.530921 -0.279244   \n",
              "\n",
              "          7         8         9      y_true  \n",
              "0  1.403972  0.031264 -0.076007  160.639800  \n",
              "1  0.658444 -1.044540  1.214986  153.131733  \n",
              "2  0.320276  0.132714  0.755259  212.372696  \n",
              "3  2.608597 -1.976576  0.299630   63.394716  \n",
              "4 -0.142642  0.609977 -2.065229   84.049121  "
            ],
            "text/html": [
              "\n",
              "  <div id=\"df-3c6d6593-481d-4e5a-bd30-feeff090226f\">\n",
              "    <div class=\"colab-df-container\">\n",
              "      <div>\n",
              "<style scoped>\n",
              "    .dataframe tbody tr th:only-of-type {\n",
              "        vertical-align: middle;\n",
              "    }\n",
              "\n",
              "    .dataframe tbody tr th {\n",
              "        vertical-align: top;\n",
              "    }\n",
              "\n",
              "    .dataframe thead th {\n",
              "        text-align: right;\n",
              "    }\n",
              "</style>\n",
              "<table border=\"1\" class=\"dataframe\">\n",
              "  <thead>\n",
              "    <tr style=\"text-align: right;\">\n",
              "      <th></th>\n",
              "      <th>0</th>\n",
              "      <th>1</th>\n",
              "      <th>2</th>\n",
              "      <th>3</th>\n",
              "      <th>4</th>\n",
              "      <th>5</th>\n",
              "      <th>6</th>\n",
              "      <th>7</th>\n",
              "      <th>8</th>\n",
              "      <th>9</th>\n",
              "      <th>y_true</th>\n",
              "    </tr>\n",
              "  </thead>\n",
              "  <tbody>\n",
              "    <tr>\n",
              "      <th>0</th>\n",
              "      <td>0.190191</td>\n",
              "      <td>0.102131</td>\n",
              "      <td>-0.727650</td>\n",
              "      <td>1.326866</td>\n",
              "      <td>0.956277</td>\n",
              "      <td>0.393419</td>\n",
              "      <td>-0.619942</td>\n",
              "      <td>1.403972</td>\n",
              "      <td>0.031264</td>\n",
              "      <td>-0.076007</td>\n",
              "      <td>160.639800</td>\n",
              "    </tr>\n",
              "    <tr>\n",
              "      <th>1</th>\n",
              "      <td>0.802898</td>\n",
              "      <td>1.096480</td>\n",
              "      <td>0.374079</td>\n",
              "      <td>-0.491611</td>\n",
              "      <td>0.786126</td>\n",
              "      <td>-0.900230</td>\n",
              "      <td>0.172447</td>\n",
              "      <td>0.658444</td>\n",
              "      <td>-1.044540</td>\n",
              "      <td>1.214986</td>\n",
              "      <td>153.131733</td>\n",
              "    </tr>\n",
              "    <tr>\n",
              "      <th>2</th>\n",
              "      <td>0.028499</td>\n",
              "      <td>-0.116362</td>\n",
              "      <td>-0.599242</td>\n",
              "      <td>-0.221276</td>\n",
              "      <td>1.391569</td>\n",
              "      <td>0.613630</td>\n",
              "      <td>2.042259</td>\n",
              "      <td>0.320276</td>\n",
              "      <td>0.132714</td>\n",
              "      <td>0.755259</td>\n",
              "      <td>212.372696</td>\n",
              "    </tr>\n",
              "    <tr>\n",
              "      <th>3</th>\n",
              "      <td>-0.041174</td>\n",
              "      <td>-0.271762</td>\n",
              "      <td>-1.171254</td>\n",
              "      <td>0.623700</td>\n",
              "      <td>1.171006</td>\n",
              "      <td>-0.719854</td>\n",
              "      <td>0.315177</td>\n",
              "      <td>2.608597</td>\n",
              "      <td>-1.976576</td>\n",
              "      <td>0.299630</td>\n",
              "      <td>63.394716</td>\n",
              "    </tr>\n",
              "    <tr>\n",
              "      <th>4</th>\n",
              "      <td>1.370564</td>\n",
              "      <td>0.597851</td>\n",
              "      <td>0.124681</td>\n",
              "      <td>-0.471121</td>\n",
              "      <td>1.078215</td>\n",
              "      <td>0.530921</td>\n",
              "      <td>-0.279244</td>\n",
              "      <td>-0.142642</td>\n",
              "      <td>0.609977</td>\n",
              "      <td>-2.065229</td>\n",
              "      <td>84.049121</td>\n",
              "    </tr>\n",
              "  </tbody>\n",
              "</table>\n",
              "</div>\n",
              "      <button class=\"colab-df-convert\" onclick=\"convertToInteractive('df-3c6d6593-481d-4e5a-bd30-feeff090226f')\"\n",
              "              title=\"Convert this dataframe to an interactive table.\"\n",
              "              style=\"display:none;\">\n",
              "        \n",
              "  <svg xmlns=\"http://www.w3.org/2000/svg\" height=\"24px\"viewBox=\"0 0 24 24\"\n",
              "       width=\"24px\">\n",
              "    <path d=\"M0 0h24v24H0V0z\" fill=\"none\"/>\n",
              "    <path d=\"M18.56 5.44l.94 2.06.94-2.06 2.06-.94-2.06-.94-.94-2.06-.94 2.06-2.06.94zm-11 1L8.5 8.5l.94-2.06 2.06-.94-2.06-.94L8.5 2.5l-.94 2.06-2.06.94zm10 10l.94 2.06.94-2.06 2.06-.94-2.06-.94-.94-2.06-.94 2.06-2.06.94z\"/><path d=\"M17.41 7.96l-1.37-1.37c-.4-.4-.92-.59-1.43-.59-.52 0-1.04.2-1.43.59L10.3 9.45l-7.72 7.72c-.78.78-.78 2.05 0 2.83L4 21.41c.39.39.9.59 1.41.59.51 0 1.02-.2 1.41-.59l7.78-7.78 2.81-2.81c.8-.78.8-2.07 0-2.86zM5.41 20L4 18.59l7.72-7.72 1.47 1.35L5.41 20z\"/>\n",
              "  </svg>\n",
              "      </button>\n",
              "      \n",
              "  <style>\n",
              "    .colab-df-container {\n",
              "      display:flex;\n",
              "      flex-wrap:wrap;\n",
              "      gap: 12px;\n",
              "    }\n",
              "\n",
              "    .colab-df-convert {\n",
              "      background-color: #E8F0FE;\n",
              "      border: none;\n",
              "      border-radius: 50%;\n",
              "      cursor: pointer;\n",
              "      display: none;\n",
              "      fill: #1967D2;\n",
              "      height: 32px;\n",
              "      padding: 0 0 0 0;\n",
              "      width: 32px;\n",
              "    }\n",
              "\n",
              "    .colab-df-convert:hover {\n",
              "      background-color: #E2EBFA;\n",
              "      box-shadow: 0px 1px 2px rgba(60, 64, 67, 0.3), 0px 1px 3px 1px rgba(60, 64, 67, 0.15);\n",
              "      fill: #174EA6;\n",
              "    }\n",
              "\n",
              "    [theme=dark] .colab-df-convert {\n",
              "      background-color: #3B4455;\n",
              "      fill: #D2E3FC;\n",
              "    }\n",
              "\n",
              "    [theme=dark] .colab-df-convert:hover {\n",
              "      background-color: #434B5C;\n",
              "      box-shadow: 0px 1px 3px 1px rgba(0, 0, 0, 0.15);\n",
              "      filter: drop-shadow(0px 1px 2px rgba(0, 0, 0, 0.3));\n",
              "      fill: #FFFFFF;\n",
              "    }\n",
              "  </style>\n",
              "\n",
              "      <script>\n",
              "        const buttonEl =\n",
              "          document.querySelector('#df-3c6d6593-481d-4e5a-bd30-feeff090226f button.colab-df-convert');\n",
              "        buttonEl.style.display =\n",
              "          google.colab.kernel.accessAllowed ? 'block' : 'none';\n",
              "\n",
              "        async function convertToInteractive(key) {\n",
              "          const element = document.querySelector('#df-3c6d6593-481d-4e5a-bd30-feeff090226f');\n",
              "          const dataTable =\n",
              "            await google.colab.kernel.invokeFunction('convertToInteractive',\n",
              "                                                     [key], {});\n",
              "          if (!dataTable) return;\n",
              "\n",
              "          const docLinkHtml = 'Like what you see? Visit the ' +\n",
              "            '<a target=\"_blank\" href=https://colab.research.google.com/notebooks/data_table.ipynb>data table notebook</a>'\n",
              "            + ' to learn more about interactive tables.';\n",
              "          element.innerHTML = '';\n",
              "          dataTable['output_type'] = 'display_data';\n",
              "          await google.colab.output.renderOutput(dataTable, element);\n",
              "          const docLink = document.createElement('div');\n",
              "          docLink.innerHTML = docLinkHtml;\n",
              "          element.appendChild(docLink);\n",
              "        }\n",
              "      </script>\n",
              "    </div>\n",
              "  </div>\n",
              "  "
            ]
          },
          "metadata": {},
          "execution_count": 173
        }
      ]
    },
    {
      "cell_type": "markdown",
      "source": [
        "Создадим функцию:"
      ],
      "metadata": {
        "id": "5b0vXSp_5EVe"
      }
    },
    {
      "cell_type": "code",
      "source": [
        "def gradient_boost(df, lr=0.01, iters=100, max_leaf_nodes=2):\n",
        "    X = df.drop(columns='y_true').columns\n",
        "    df['y_pred'] = df['y_true'].mean()\n",
        "    models = []\n",
        "    r2 = []\n",
        "    MSE = []\n",
        "    MAE = []\n",
        "    \n",
        "    for i in range(iters):\n",
        "        df['residual'] = df['y_true'] - df['y_pred']\n",
        "        model = DecisionTreeRegressor(max_leaf_nodes=max_leaf_nodes)\n",
        "        model.fit(df[X], df['residual'])\n",
        "        df['y_pred'] += model.predict(df[X]) * lr\n",
        "        models.append(model)\n",
        "        r2.append(r2_score(df['y_true'], df['y_pred']))\n",
        "        MSE.append(mean_squared_error(df['y_true'], df['y_pred']))\n",
        "        MAE.append(mean_absolute_error(df['y_true'], df['y_pred']))\n",
        "    \n",
        "    return models, r2, MSE, MAE "
      ],
      "metadata": {
        "id": "NRJc1x0ryuQ2"
      },
      "execution_count": null,
      "outputs": []
    },
    {
      "cell_type": "markdown",
      "source": [
        "Запустим градиентный бустинг с 1 000 деревьев-пеньков:"
      ],
      "metadata": {
        "id": "Jcr6qIZgINjz"
      }
    },
    {
      "cell_type": "code",
      "source": [
        "models, r2, MSE, MAE = gradient_boost(df, iters=1000)"
      ],
      "metadata": {
        "id": "zZc79bv8y6KU"
      },
      "execution_count": null,
      "outputs": []
    },
    {
      "cell_type": "markdown",
      "source": [
        "Визуализуем, как улучшались метрики качества с каждой последующей итерацией:"
      ],
      "metadata": {
        "id": "KnQfI6RU2Wed"
      }
    },
    {
      "cell_type": "code",
      "source": [
        "plt.figure(figsize=(10, 5))\n",
        "plt.plot(MSE)\n",
        "plt.grid(True)\n",
        "plt.ylabel('MSE')\n",
        "plt.xlabel('Итерации')\n",
        "plt.show()"
      ],
      "metadata": {
        "colab": {
          "base_uri": "https://localhost:8080/",
          "height": 334
        },
        "id": "_AaJqvh42lu_",
        "outputId": "9674630c-aab7-42bb-b3fc-377c4506932e"
      },
      "execution_count": null,
      "outputs": [
        {
          "output_type": "display_data",
          "data": {
            "text/plain": [
              "<Figure size 720x360 with 1 Axes>"
            ],
            "image/png": "[encoded data removed]"
          },
          "metadata": {
            "needs_background": "light"
          }
        }
      ]
    },
    {
      "cell_type": "code",
      "source": [
        "plt.figure(figsize=(10, 5))\n",
        "plt.plot(MAE)\n",
        "plt.grid(True)\n",
        "plt.ylabel('MAE')\n",
        "plt.xlabel('Итерации')\n",
        "plt.show()"
      ],
      "metadata": {
        "colab": {
          "base_uri": "https://localhost:8080/",
          "height": 334
        },
        "id": "gEl9ua0P3b_n",
        "outputId": "795e3b2d-8e44-438a-85f8-f790acbb1fb6"
      },
      "execution_count": null,
      "outputs": [
        {
          "output_type": "display_data",
          "data": {
            "text/plain": [
              "<Figure size 720x360 with 1 Axes>"
            ],
            "image/png": "[encoded data removed]"
          },
          "metadata": {
            "needs_background": "light"
          }
        }
      ]
    },
    {
      "cell_type": "code",
      "source": [
        "plt.figure(figsize=(10, 5))\n",
        "plt.plot(r2)\n",
        "plt.grid(True)\n",
        "plt.ylabel('R2')\n",
        "plt.xlabel('Итерации')\n",
        "plt.show()"
      ],
      "metadata": {
        "colab": {
          "base_uri": "https://localhost:8080/",
          "height": 334
        },
        "id": "bSHsWSh-3tSl",
        "outputId": "28122b82-63f1-4d2e-a539-25c9f99f1b1b"
      },
      "execution_count": null,
      "outputs": [
        {
          "output_type": "display_data",
          "data": {
            "text/plain": [
              "<Figure size 720x360 with 1 Axes>"
            ],
            "image/png": "[encoded data removed]"
          },
          "metadata": {
            "needs_background": "light"
          }
        }
      ]
    },
    {
      "cell_type": "markdown",
      "source": [
        "## Обучение и тестирование модели\n",
        "\n",
        "Задача: предсказать длину плавника по массе тела и длине клюва"
      ],
      "metadata": {
        "id": "Jof3u6eE50Tf"
      }
    },
    {
      "cell_type": "markdown",
      "source": [
        "Загрузим датасет пингвинов:"
      ],
      "metadata": {
        "id": "0xl4QHPs85N0"
      }
    },
    {
      "cell_type": "code",
      "source": [
        "df = pd.read_csv('/content/drive/MyDrive/Colab Notebooks/AI Start/Datasets/penguins.csv')\n",
        "df.head(5)"
      ],
      "metadata": {
        "id": "tNlPZr3_9OeG",
        "colab": {
          "base_uri": "https://localhost:8080/",
          "height": 206
        },
        "outputId": "b964fd2a-e4e8-4c87-beb2-3682d9fcfa5a"
      },
      "execution_count": null,
      "outputs": [
        {
          "output_type": "execute_result",
          "data": {
            "text/plain": [
              "  species     island  culmen_length_mm  culmen_depth_mm  flipper_length_mm  \\\n",
              "0  Adelie  Torgersen              39.1             18.7              181.0   \n",
              "1  Adelie  Torgersen              39.5             17.4              186.0   \n",
              "2  Adelie  Torgersen              40.3             18.0              195.0   \n",
              "3  Adelie  Torgersen               NaN              NaN                NaN   \n",
              "4  Adelie  Torgersen              36.7             19.3              193.0   \n",
              "\n",
              "   body_mass_g     sex  \n",
              "0       3750.0    MALE  \n",
              "1       3800.0  FEMALE  \n",
              "2       3250.0  FEMALE  \n",
              "3          NaN     NaN  \n",
              "4       3450.0  FEMALE  "
            ],
            "text/html": [
              "\n",
              "  <div id=\"df-6cfafa31-76db-4f8e-a0f5-03f28a595ee2\">\n",
              "    <div class=\"colab-df-container\">\n",
              "      <div>\n",
              "<style scoped>\n",
              "    .dataframe tbody tr th:only-of-type {\n",
              "        vertical-align: middle;\n",
              "    }\n",
              "\n",
              "    .dataframe tbody tr th {\n",
              "        vertical-align: top;\n",
              "    }\n",
              "\n",
              "    .dataframe thead th {\n",
              "        text-align: right;\n",
              "    }\n",
              "</style>\n",
              "<table border=\"1\" class=\"dataframe\">\n",
              "  <thead>\n",
              "    <tr style=\"text-align: right;\">\n",
              "      <th></th>\n",
              "      <th>species</th>\n",
              "      <th>island</th>\n",
              "      <th>culmen_length_mm</th>\n",
              "      <th>culmen_depth_mm</th>\n",
              "      <th>flipper_length_mm</th>\n",
              "      <th>body_mass_g</th>\n",
              "      <th>sex</th>\n",
              "    </tr>\n",
              "  </thead>\n",
              "  <tbody>\n",
              "    <tr>\n",
              "      <th>0</th>\n",
              "      <td>Adelie</td>\n",
              "      <td>Torgersen</td>\n",
              "      <td>39.1</td>\n",
              "      <td>18.7</td>\n",
              "      <td>181.0</td>\n",
              "      <td>3750.0</td>\n",
              "      <td>MALE</td>\n",
              "    </tr>\n",
              "    <tr>\n",
              "      <th>1</th>\n",
              "      <td>Adelie</td>\n",
              "      <td>Torgersen</td>\n",
              "      <td>39.5</td>\n",
              "      <td>17.4</td>\n",
              "      <td>186.0</td>\n",
              "      <td>3800.0</td>\n",
              "      <td>FEMALE</td>\n",
              "    </tr>\n",
              "    <tr>\n",
              "      <th>2</th>\n",
              "      <td>Adelie</td>\n",
              "      <td>Torgersen</td>\n",
              "      <td>40.3</td>\n",
              "      <td>18.0</td>\n",
              "      <td>195.0</td>\n",
              "      <td>3250.0</td>\n",
              "      <td>FEMALE</td>\n",
              "    </tr>\n",
              "    <tr>\n",
              "      <th>3</th>\n",
              "      <td>Adelie</td>\n",
              "      <td>Torgersen</td>\n",
              "      <td>NaN</td>\n",
              "      <td>NaN</td>\n",
              "      <td>NaN</td>\n",
              "      <td>NaN</td>\n",
              "      <td>NaN</td>\n",
              "    </tr>\n",
              "    <tr>\n",
              "      <th>4</th>\n",
              "      <td>Adelie</td>\n",
              "      <td>Torgersen</td>\n",
              "      <td>36.7</td>\n",
              "      <td>19.3</td>\n",
              "      <td>193.0</td>\n",
              "      <td>3450.0</td>\n",
              "      <td>FEMALE</td>\n",
              "    </tr>\n",
              "  </tbody>\n",
              "</table>\n",
              "</div>\n",
              "      <button class=\"colab-df-convert\" onclick=\"convertToInteractive('df-6cfafa31-76db-4f8e-a0f5-03f28a595ee2')\"\n",
              "              title=\"Convert this dataframe to an interactive table.\"\n",
              "              style=\"display:none;\">\n",
              "        \n",
              "  <svg xmlns=\"http://www.w3.org/2000/svg\" height=\"24px\"viewBox=\"0 0 24 24\"\n",
              "       width=\"24px\">\n",
              "    <path d=\"M0 0h24v24H0V0z\" fill=\"none\"/>\n",
              "    <path d=\"M18.56 5.44l.94 2.06.94-2.06 2.06-.94-2.06-.94-.94-2.06-.94 2.06-2.06.94zm-11 1L8.5 8.5l.94-2.06 2.06-.94-2.06-.94L8.5 2.5l-.94 2.06-2.06.94zm10 10l.94 2.06.94-2.06 2.06-.94-2.06-.94-.94-2.06-.94 2.06-2.06.94z\"/><path d=\"M17.41 7.96l-1.37-1.37c-.4-.4-.92-.59-1.43-.59-.52 0-1.04.2-1.43.59L10.3 9.45l-7.72 7.72c-.78.78-.78 2.05 0 2.83L4 21.41c.39.39.9.59 1.41.59.51 0 1.02-.2 1.41-.59l7.78-7.78 2.81-2.81c.8-.78.8-2.07 0-2.86zM5.41 20L4 18.59l7.72-7.72 1.47 1.35L5.41 20z\"/>\n",
              "  </svg>\n",
              "      </button>\n",
              "      \n",
              "  <style>\n",
              "    .colab-df-container {\n",
              "      display:flex;\n",
              "      flex-wrap:wrap;\n",
              "      gap: 12px;\n",
              "    }\n",
              "\n",
              "    .colab-df-convert {\n",
              "      background-color: #E8F0FE;\n",
              "      border: none;\n",
              "      border-radius: 50%;\n",
              "      cursor: pointer;\n",
              "      display: none;\n",
              "      fill: #1967D2;\n",
              "      height: 32px;\n",
              "      padding: 0 0 0 0;\n",
              "      width: 32px;\n",
              "    }\n",
              "\n",
              "    .colab-df-convert:hover {\n",
              "      background-color: #E2EBFA;\n",
              "      box-shadow: 0px 1px 2px rgba(60, 64, 67, 0.3), 0px 1px 3px 1px rgba(60, 64, 67, 0.15);\n",
              "      fill: #174EA6;\n",
              "    }\n",
              "\n",
              "    [theme=dark] .colab-df-convert {\n",
              "      background-color: #3B4455;\n",
              "      fill: #D2E3FC;\n",
              "    }\n",
              "\n",
              "    [theme=dark] .colab-df-convert:hover {\n",
              "      background-color: #434B5C;\n",
              "      box-shadow: 0px 1px 3px 1px rgba(0, 0, 0, 0.15);\n",
              "      filter: drop-shadow(0px 1px 2px rgba(0, 0, 0, 0.3));\n",
              "      fill: #FFFFFF;\n",
              "    }\n",
              "  </style>\n",
              "\n",
              "      <script>\n",
              "        const buttonEl =\n",
              "          document.querySelector('#df-6cfafa31-76db-4f8e-a0f5-03f28a595ee2 button.colab-df-convert');\n",
              "        buttonEl.style.display =\n",
              "          google.colab.kernel.accessAllowed ? 'block' : 'none';\n",
              "\n",
              "        async function convertToInteractive(key) {\n",
              "          const element = document.querySelector('#df-6cfafa31-76db-4f8e-a0f5-03f28a595ee2');\n",
              "          const dataTable =\n",
              "            await google.colab.kernel.invokeFunction('convertToInteractive',\n",
              "                                                     [key], {});\n",
              "          if (!dataTable) return;\n",
              "\n",
              "          const docLinkHtml = 'Like what you see? Visit the ' +\n",
              "            '<a target=\"_blank\" href=https://colab.research.google.com/notebooks/data_table.ipynb>data table notebook</a>'\n",
              "            + ' to learn more about interactive tables.';\n",
              "          element.innerHTML = '';\n",
              "          dataTable['output_type'] = 'display_data';\n",
              "          await google.colab.output.renderOutput(dataTable, element);\n",
              "          const docLink = document.createElement('div');\n",
              "          docLink.innerHTML = docLinkHtml;\n",
              "          element.appendChild(docLink);\n",
              "        }\n",
              "      </script>\n",
              "    </div>\n",
              "  </div>\n",
              "  "
            ]
          },
          "metadata": {},
          "execution_count": 236
        }
      ]
    },
    {
      "cell_type": "markdown",
      "source": [
        "Переведем признаки на русский язык:"
      ],
      "metadata": {
        "id": "L7Iq5prPoLgF"
      }
    },
    {
      "cell_type": "code",
      "source": [
        "df.columns = ['вид','остров', 'длина клюва', \n",
        "              'ширина клюва', 'длина плавника', \n",
        "              'масса тела', 'пол']"
      ],
      "metadata": {
        "id": "in8Zh-WGnfDX"
      },
      "execution_count": null,
      "outputs": []
    },
    {
      "cell_type": "markdown",
      "source": [
        "Удалим строки с пропущенными значениями в признаках:"
      ],
      "metadata": {
        "id": "YXN5SGxzoA7I"
      }
    },
    {
      "cell_type": "code",
      "source": [
        "df = df.dropna().reset_index(drop=True)"
      ],
      "metadata": {
        "id": "taSozvMJoXCJ"
      },
      "execution_count": null,
      "outputs": []
    },
    {
      "cell_type": "markdown",
      "source": [
        "В таблице оставим только признаки `масса тела`, `длина клюва`, `длина плавника`, переименуем целевой признак в `y_true`:"
      ],
      "metadata": {
        "id": "FF5o76lrKbW6"
      }
    },
    {
      "cell_type": "code",
      "source": [
        "df = df[['масса тела', 'длина клюва', 'длина плавника']]"
      ],
      "metadata": {
        "id": "mYo1TtUEItBH"
      },
      "execution_count": null,
      "outputs": []
    },
    {
      "cell_type": "code",
      "source": [
        "df.columns = ['масса тела', 'длина клюва', 'y_true']"
      ],
      "metadata": {
        "id": "MM-T4NiXKy5d"
      },
      "execution_count": null,
      "outputs": []
    },
    {
      "cell_type": "markdown",
      "source": [
        "Поделим выборку на обучающую и тестовую:"
      ],
      "metadata": {
        "id": "2LgyU0Ry9lgX"
      }
    },
    {
      "cell_type": "code",
      "source": [
        "df_train, df_test = train_test_split(df, test_size=0.25, random_state=42)"
      ],
      "metadata": {
        "id": "3rshL3kE9xFS"
      },
      "execution_count": null,
      "outputs": []
    },
    {
      "cell_type": "markdown",
      "source": [
        "Обучим модель на обучающей выборке, в каждом дереве количество листов будет равно 2:"
      ],
      "metadata": {
        "id": "So0CCoO6-OnY"
      }
    },
    {
      "cell_type": "code",
      "source": [
        "models, r2, MSE, MAE = gradient_boost(df_train, \n",
        "                                      iters=1000,\n",
        "                                      max_leaf_nodes=2)"
      ],
      "metadata": {
        "id": "i3iuBEK5-aor"
      },
      "execution_count": null,
      "outputs": []
    },
    {
      "cell_type": "markdown",
      "source": [
        "Проверим модель на тестовой выборке:"
      ],
      "metadata": {
        "id": "AakBCWkM-lPU"
      }
    },
    {
      "cell_type": "code",
      "source": [
        "df_test['y_pred'] = df_train['y_true'].mean()\n",
        "\n",
        "for model in models:\n",
        "    df_test['y_pred'] += model.predict(df_test[['масса тела', 'длина клюва']]) * 0.01"
      ],
      "metadata": {
        "id": "QaVxSpmB-0fD"
      },
      "execution_count": null,
      "outputs": []
    },
    {
      "cell_type": "markdown",
      "source": [
        "Проверим метрики качества модели на тестовой выборке:"
      ],
      "metadata": {
        "id": "UA2L7kOC_WmC"
      }
    },
    {
      "cell_type": "code",
      "source": [
        "print(f\"R2: {r2_score(df_test['y_true'], df_test['y_pred'])}\")\n",
        "print(f\"MSE: {mean_squared_error(df_test['y_true'], df_test['y_pred'])}\")\n",
        "print(f\"MAE: {mean_absolute_error(df_test['y_true'], df_test['y_pred'])}\")"
      ],
      "metadata": {
        "colab": {
          "base_uri": "https://localhost:8080/"
        },
        "outputId": "2680651c-a138-4f21-9f38-aaa70176b42c",
        "id": "9mUILse0_fx7"
      },
      "execution_count": null,
      "outputs": [
        {
          "output_type": "stream",
          "name": "stdout",
          "text": [
            "R2: 0.8109899705470738\n",
            "MSE: 39.41984173792637\n",
            "MAE: 4.818773481514978\n"
          ]
        }
      ]
    },
    {
      "cell_type": "markdown",
      "source": [
        "Сравним градиентный бустинг с классической линейной регрессией:"
      ],
      "metadata": {
        "id": "qgpxHB2fE4Uc"
      }
    },
    {
      "cell_type": "code",
      "source": [
        "lr = LinearRegression()"
      ],
      "metadata": {
        "id": "APwPw9bWFBUx"
      },
      "execution_count": null,
      "outputs": []
    },
    {
      "cell_type": "code",
      "source": [
        "lr.fit(df_train[['масса тела', 'длина клюва']], df_train['y_true'])"
      ],
      "metadata": {
        "colab": {
          "base_uri": "https://localhost:8080/"
        },
        "id": "E8iw4JPUFKOz",
        "outputId": "0cd16b2f-e076-46c5-d243-c2a3cb26700c"
      },
      "execution_count": null,
      "outputs": [
        {
          "output_type": "execute_result",
          "data": {
            "text/plain": [
              "LinearRegression()"
            ]
          },
          "metadata": {},
          "execution_count": 247
        }
      ]
    },
    {
      "cell_type": "code",
      "source": [
        "df_test['y_pred_lr'] = lr.predict(df_test[['масса тела', 'длина клюва']])"
      ],
      "metadata": {
        "id": "vkOlyQ4QF3L2"
      },
      "execution_count": null,
      "outputs": []
    },
    {
      "cell_type": "code",
      "source": [
        "print(f\"R2: {r2_score(df_test['y_true'], df_test['y_pred_lr'])}\")\n",
        "print(f\"MSE: {mean_squared_error(df_test['y_true'], df_test['y_pred_lr'])}\")\n",
        "print(f\"MAE: {mean_absolute_error(df_test['y_true'], df_test['y_pred_lr'])}\")"
      ],
      "metadata": {
        "colab": {
          "base_uri": "https://localhost:8080/"
        },
        "id": "zPpORHWqFpcc",
        "outputId": "bc32b9fe-0a1c-4880-f892-df5133cf870b"
      },
      "execution_count": null,
      "outputs": [
        {
          "output_type": "stream",
          "name": "stdout",
          "text": [
            "R2: 0.7832691227158404\n",
            "MSE: 45.20128856120467\n",
            "MAE: 5.37854803176602\n"
          ]
        }
      ]
    }
  ]
}