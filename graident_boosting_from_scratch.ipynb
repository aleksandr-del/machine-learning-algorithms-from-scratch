{
  "nbformat": 4,
  "nbformat_minor": 0,
  "metadata": {
    "colab": {
      "provenance": [],
      "toc_visible": true,
      "mount_file_id": "1jCDs2fC-FHw3JY525NS0l1PfO3qf_3aK",
      "authorship_tag": "ABX9TyPyjSoZqTAQmwnh98U1OYg9",
      "include_colab_link": true
    },
    "kernelspec": {
      "name": "python3",
      "display_name": "Python 3"
    },
    "language_info": {
      "name": "python"
    }
  },
  "cells": [
    {
      "cell_type": "markdown",
      "metadata": {
        "id": "view-in-github",
        "colab_type": "text"
      },
      "source": [
        "<a href=\"https://colab.research.google.com/github/aleksandr-del/gradient-boosting-from-scratch/blob/main/graident_boosting_from_scratch.ipynb\" target=\"_parent\"><img src=\"https://colab.research.google.com/assets/colab-badge.svg\" alt=\"Open In Colab\"/></a>"
      ]
    },
    {
      "cell_type": "markdown",
      "source": [
        "# Градиентный бустинг для регрессии"
      ],
      "metadata": {
        "id": "3Kyp7M0nmAWl"
      }
    },
    {
      "cell_type": "markdown",
      "source": [
        "Импортируем необходимые библиотеки, модули, функции:"
      ],
      "metadata": {
        "id": "X5VJWDfAkRC5"
      }
    },
    {
      "cell_type": "code",
      "source": [
        "import pandas as pd\n",
        "import numpy as np\n",
        "from sklearn.datasets import make_regression\n",
        "from sklearn.metrics import r2_score, mean_absolute_error, mean_squared_error\n",
        "from sklearn.tree import DecisionTreeRegressor, plot_tree\n",
        "from sklearn.model_selection import train_test_split\n",
        "from sklearn.linear_model import LinearRegression\n",
        "import matplotlib.pyplot as plt"
      ],
      "metadata": {
        "id": "cihwHdCNkmDM"
      },
      "execution_count": 1,
      "outputs": []
    },
    {
      "cell_type": "markdown",
      "source": [
        "## Датасет"
      ],
      "metadata": {
        "id": "7eEI7qBwmPYB"
      }
    },
    {
      "cell_type": "markdown",
      "source": [
        "[Создаем игрушечный датасет](https://scikit-learn.org/stable/modules/generated/sklearn.datasets.make_regression.html#sklearn.datasets.make_regression):"
      ],
      "metadata": {
        "id": "jn5M4L_tk3Qp"
      }
    },
    {
      "cell_type": "code",
      "source": [
        "X, y = make_regression(n_samples=1000, n_features=10)"
      ],
      "metadata": {
        "id": "wax9eQBYk8kV"
      },
      "execution_count": 2,
      "outputs": []
    },
    {
      "cell_type": "markdown",
      "source": [
        "Упакуем все в датафрейм:"
      ],
      "metadata": {
        "id": "5LdZ8c69leVR"
      }
    },
    {
      "cell_type": "code",
      "source": [
        "df = pd.DataFrame(X)\n",
        "df['y_true'] = y\n",
        "df.head()"
      ],
      "metadata": {
        "colab": {
          "base_uri": "https://localhost:8080/",
          "height": 206
        },
        "id": "1IHaCXmelyo-",
        "outputId": "33ae62fc-13ab-4cd2-8d60-eef5eb7c4ff8"
      },
      "execution_count": 3,
      "outputs": [
        {
          "output_type": "execute_result",
          "data": {
            "text/plain": [
              "          0         1         2         3         4         5         6  \\\n",
              "0 -0.254475 -0.758590  1.555100 -1.277993 -0.085789 -0.276538 -0.103923   \n",
              "1  1.922980 -0.762984  1.594284 -0.051507 -2.144488  0.529371  2.989936   \n",
              "2  0.533725 -0.159133 -1.422570  0.318753  0.676215  0.542988 -0.795867   \n",
              "3 -0.621687  1.597682 -1.023580 -2.129012 -0.649626  0.553806 -1.008693   \n",
              "4 -0.678513  0.005648 -0.497487  1.010381 -0.072723 -1.220696  1.335769   \n",
              "\n",
              "          7         8         9      y_true  \n",
              "0 -0.015704 -1.339011 -0.596467 -253.471771  \n",
              "1 -0.248507  0.034008 -1.240809  -67.180753  \n",
              "2 -0.237169 -0.953369  0.063793  -22.114316  \n",
              "3  1.288557 -1.393622  0.513096  -58.755321  \n",
              "4 -1.186937  0.551663  0.053671  -74.966597  "
            ],
            "text/html": [
              "\n",
              "  <div id=\"df-98ec51d7-92fe-4a50-86f9-21f4ac185d73\">\n",
              "    <div class=\"colab-df-container\">\n",
              "      <div>\n",
              "<style scoped>\n",
              "    .dataframe tbody tr th:only-of-type {\n",
              "        vertical-align: middle;\n",
              "    }\n",
              "\n",
              "    .dataframe tbody tr th {\n",
              "        vertical-align: top;\n",
              "    }\n",
              "\n",
              "    .dataframe thead th {\n",
              "        text-align: right;\n",
              "    }\n",
              "</style>\n",
              "<table border=\"1\" class=\"dataframe\">\n",
              "  <thead>\n",
              "    <tr style=\"text-align: right;\">\n",
              "      <th></th>\n",
              "      <th>0</th>\n",
              "      <th>1</th>\n",
              "      <th>2</th>\n",
              "      <th>3</th>\n",
              "      <th>4</th>\n",
              "      <th>5</th>\n",
              "      <th>6</th>\n",
              "      <th>7</th>\n",
              "      <th>8</th>\n",
              "      <th>9</th>\n",
              "      <th>y_true</th>\n",
              "    </tr>\n",
              "  </thead>\n",
              "  <tbody>\n",
              "    <tr>\n",
              "      <th>0</th>\n",
              "      <td>-0.254475</td>\n",
              "      <td>-0.758590</td>\n",
              "      <td>1.555100</td>\n",
              "      <td>-1.277993</td>\n",
              "      <td>-0.085789</td>\n",
              "      <td>-0.276538</td>\n",
              "      <td>-0.103923</td>\n",
              "      <td>-0.015704</td>\n",
              "      <td>-1.339011</td>\n",
              "      <td>-0.596467</td>\n",
              "      <td>-253.471771</td>\n",
              "    </tr>\n",
              "    <tr>\n",
              "      <th>1</th>\n",
              "      <td>1.922980</td>\n",
              "      <td>-0.762984</td>\n",
              "      <td>1.594284</td>\n",
              "      <td>-0.051507</td>\n",
              "      <td>-2.144488</td>\n",
              "      <td>0.529371</td>\n",
              "      <td>2.989936</td>\n",
              "      <td>-0.248507</td>\n",
              "      <td>0.034008</td>\n",
              "      <td>-1.240809</td>\n",
              "      <td>-67.180753</td>\n",
              "    </tr>\n",
              "    <tr>\n",
              "      <th>2</th>\n",
              "      <td>0.533725</td>\n",
              "      <td>-0.159133</td>\n",
              "      <td>-1.422570</td>\n",
              "      <td>0.318753</td>\n",
              "      <td>0.676215</td>\n",
              "      <td>0.542988</td>\n",
              "      <td>-0.795867</td>\n",
              "      <td>-0.237169</td>\n",
              "      <td>-0.953369</td>\n",
              "      <td>0.063793</td>\n",
              "      <td>-22.114316</td>\n",
              "    </tr>\n",
              "    <tr>\n",
              "      <th>3</th>\n",
              "      <td>-0.621687</td>\n",
              "      <td>1.597682</td>\n",
              "      <td>-1.023580</td>\n",
              "      <td>-2.129012</td>\n",
              "      <td>-0.649626</td>\n",
              "      <td>0.553806</td>\n",
              "      <td>-1.008693</td>\n",
              "      <td>1.288557</td>\n",
              "      <td>-1.393622</td>\n",
              "      <td>0.513096</td>\n",
              "      <td>-58.755321</td>\n",
              "    </tr>\n",
              "    <tr>\n",
              "      <th>4</th>\n",
              "      <td>-0.678513</td>\n",
              "      <td>0.005648</td>\n",
              "      <td>-0.497487</td>\n",
              "      <td>1.010381</td>\n",
              "      <td>-0.072723</td>\n",
              "      <td>-1.220696</td>\n",
              "      <td>1.335769</td>\n",
              "      <td>-1.186937</td>\n",
              "      <td>0.551663</td>\n",
              "      <td>0.053671</td>\n",
              "      <td>-74.966597</td>\n",
              "    </tr>\n",
              "  </tbody>\n",
              "</table>\n",
              "</div>\n",
              "      <button class=\"colab-df-convert\" onclick=\"convertToInteractive('df-98ec51d7-92fe-4a50-86f9-21f4ac185d73')\"\n",
              "              title=\"Convert this dataframe to an interactive table.\"\n",
              "              style=\"display:none;\">\n",
              "        \n",
              "  <svg xmlns=\"http://www.w3.org/2000/svg\" height=\"24px\"viewBox=\"0 0 24 24\"\n",
              "       width=\"24px\">\n",
              "    <path d=\"M0 0h24v24H0V0z\" fill=\"none\"/>\n",
              "    <path d=\"M18.56 5.44l.94 2.06.94-2.06 2.06-.94-2.06-.94-.94-2.06-.94 2.06-2.06.94zm-11 1L8.5 8.5l.94-2.06 2.06-.94-2.06-.94L8.5 2.5l-.94 2.06-2.06.94zm10 10l.94 2.06.94-2.06 2.06-.94-2.06-.94-.94-2.06-.94 2.06-2.06.94z\"/><path d=\"M17.41 7.96l-1.37-1.37c-.4-.4-.92-.59-1.43-.59-.52 0-1.04.2-1.43.59L10.3 9.45l-7.72 7.72c-.78.78-.78 2.05 0 2.83L4 21.41c.39.39.9.59 1.41.59.51 0 1.02-.2 1.41-.59l7.78-7.78 2.81-2.81c.8-.78.8-2.07 0-2.86zM5.41 20L4 18.59l7.72-7.72 1.47 1.35L5.41 20z\"/>\n",
              "  </svg>\n",
              "      </button>\n",
              "      \n",
              "  <style>\n",
              "    .colab-df-container {\n",
              "      display:flex;\n",
              "      flex-wrap:wrap;\n",
              "      gap: 12px;\n",
              "    }\n",
              "\n",
              "    .colab-df-convert {\n",
              "      background-color: #E8F0FE;\n",
              "      border: none;\n",
              "      border-radius: 50%;\n",
              "      cursor: pointer;\n",
              "      display: none;\n",
              "      fill: #1967D2;\n",
              "      height: 32px;\n",
              "      padding: 0 0 0 0;\n",
              "      width: 32px;\n",
              "    }\n",
              "\n",
              "    .colab-df-convert:hover {\n",
              "      background-color: #E2EBFA;\n",
              "      box-shadow: 0px 1px 2px rgba(60, 64, 67, 0.3), 0px 1px 3px 1px rgba(60, 64, 67, 0.15);\n",
              "      fill: #174EA6;\n",
              "    }\n",
              "\n",
              "    [theme=dark] .colab-df-convert {\n",
              "      background-color: #3B4455;\n",
              "      fill: #D2E3FC;\n",
              "    }\n",
              "\n",
              "    [theme=dark] .colab-df-convert:hover {\n",
              "      background-color: #434B5C;\n",
              "      box-shadow: 0px 1px 3px 1px rgba(0, 0, 0, 0.15);\n",
              "      filter: drop-shadow(0px 1px 2px rgba(0, 0, 0, 0.3));\n",
              "      fill: #FFFFFF;\n",
              "    }\n",
              "  </style>\n",
              "\n",
              "      <script>\n",
              "        const buttonEl =\n",
              "          document.querySelector('#df-98ec51d7-92fe-4a50-86f9-21f4ac185d73 button.colab-df-convert');\n",
              "        buttonEl.style.display =\n",
              "          google.colab.kernel.accessAllowed ? 'block' : 'none';\n",
              "\n",
              "        async function convertToInteractive(key) {\n",
              "          const element = document.querySelector('#df-98ec51d7-92fe-4a50-86f9-21f4ac185d73');\n",
              "          const dataTable =\n",
              "            await google.colab.kernel.invokeFunction('convertToInteractive',\n",
              "                                                     [key], {});\n",
              "          if (!dataTable) return;\n",
              "\n",
              "          const docLinkHtml = 'Like what you see? Visit the ' +\n",
              "            '<a target=\"_blank\" href=https://colab.research.google.com/notebooks/data_table.ipynb>data table notebook</a>'\n",
              "            + ' to learn more about interactive tables.';\n",
              "          element.innerHTML = '';\n",
              "          dataTable['output_type'] = 'display_data';\n",
              "          await google.colab.output.renderOutput(dataTable, element);\n",
              "          const docLink = document.createElement('div');\n",
              "          docLink.innerHTML = docLinkHtml;\n",
              "          element.appendChild(docLink);\n",
              "        }\n",
              "      </script>\n",
              "    </div>\n",
              "  </div>\n",
              "  "
            ]
          },
          "metadata": {},
          "execution_count": 3
        }
      ]
    },
    {
      "cell_type": "markdown",
      "source": [
        "## Бустинг"
      ],
      "metadata": {
        "id": "3b5MX2rRl6F0"
      }
    },
    {
      "cell_type": "markdown",
      "source": [
        "### Шаг 1"
      ],
      "metadata": {
        "id": "xZhgMUXXnoTi"
      }
    },
    {
      "cell_type": "markdown",
      "source": [
        "Инициализируем модель градиентного бустинга - делаем констатнтное предсказание для всех наблюдений (среднее значение по выборке является лучшим предсказанием, если наша функция потерь - сумма квадратов ошибки):"
      ],
      "metadata": {
        "id": "lIVBPKvMns3T"
      }
    },
    {
      "cell_type": "code",
      "source": [
        "df['y_pred_0'] = df['y_true'].mean()"
      ],
      "metadata": {
        "id": "UcoaIkwkn67Y"
      },
      "execution_count": 4,
      "outputs": []
    },
    {
      "cell_type": "code",
      "source": [
        "df.head()"
      ],
      "metadata": {
        "colab": {
          "base_uri": "https://localhost:8080/",
          "height": 270
        },
        "id": "lND4HVu4oHaL",
        "outputId": "4e03a1ee-0155-41b5-adb8-f5b2c277526f"
      },
      "execution_count": 5,
      "outputs": [
        {
          "output_type": "execute_result",
          "data": {
            "text/plain": [
              "          0         1         2         3         4         5         6  \\\n",
              "0 -0.254475 -0.758590  1.555100 -1.277993 -0.085789 -0.276538 -0.103923   \n",
              "1  1.922980 -0.762984  1.594284 -0.051507 -2.144488  0.529371  2.989936   \n",
              "2  0.533725 -0.159133 -1.422570  0.318753  0.676215  0.542988 -0.795867   \n",
              "3 -0.621687  1.597682 -1.023580 -2.129012 -0.649626  0.553806 -1.008693   \n",
              "4 -0.678513  0.005648 -0.497487  1.010381 -0.072723 -1.220696  1.335769   \n",
              "\n",
              "          7         8         9      y_true   y_pred_0  \n",
              "0 -0.015704 -1.339011 -0.596467 -253.471771  11.579303  \n",
              "1 -0.248507  0.034008 -1.240809  -67.180753  11.579303  \n",
              "2 -0.237169 -0.953369  0.063793  -22.114316  11.579303  \n",
              "3  1.288557 -1.393622  0.513096  -58.755321  11.579303  \n",
              "4 -1.186937  0.551663  0.053671  -74.966597  11.579303  "
            ],
            "text/html": [
              "\n",
              "  <div id=\"df-6974681b-1821-48ba-a31c-eafff5f40565\">\n",
              "    <div class=\"colab-df-container\">\n",
              "      <div>\n",
              "<style scoped>\n",
              "    .dataframe tbody tr th:only-of-type {\n",
              "        vertical-align: middle;\n",
              "    }\n",
              "\n",
              "    .dataframe tbody tr th {\n",
              "        vertical-align: top;\n",
              "    }\n",
              "\n",
              "    .dataframe thead th {\n",
              "        text-align: right;\n",
              "    }\n",
              "</style>\n",
              "<table border=\"1\" class=\"dataframe\">\n",
              "  <thead>\n",
              "    <tr style=\"text-align: right;\">\n",
              "      <th></th>\n",
              "      <th>0</th>\n",
              "      <th>1</th>\n",
              "      <th>2</th>\n",
              "      <th>3</th>\n",
              "      <th>4</th>\n",
              "      <th>5</th>\n",
              "      <th>6</th>\n",
              "      <th>7</th>\n",
              "      <th>8</th>\n",
              "      <th>9</th>\n",
              "      <th>y_true</th>\n",
              "      <th>y_pred_0</th>\n",
              "    </tr>\n",
              "  </thead>\n",
              "  <tbody>\n",
              "    <tr>\n",
              "      <th>0</th>\n",
              "      <td>-0.254475</td>\n",
              "      <td>-0.758590</td>\n",
              "      <td>1.555100</td>\n",
              "      <td>-1.277993</td>\n",
              "      <td>-0.085789</td>\n",
              "      <td>-0.276538</td>\n",
              "      <td>-0.103923</td>\n",
              "      <td>-0.015704</td>\n",
              "      <td>-1.339011</td>\n",
              "      <td>-0.596467</td>\n",
              "      <td>-253.471771</td>\n",
              "      <td>11.579303</td>\n",
              "    </tr>\n",
              "    <tr>\n",
              "      <th>1</th>\n",
              "      <td>1.922980</td>\n",
              "      <td>-0.762984</td>\n",
              "      <td>1.594284</td>\n",
              "      <td>-0.051507</td>\n",
              "      <td>-2.144488</td>\n",
              "      <td>0.529371</td>\n",
              "      <td>2.989936</td>\n",
              "      <td>-0.248507</td>\n",
              "      <td>0.034008</td>\n",
              "      <td>-1.240809</td>\n",
              "      <td>-67.180753</td>\n",
              "      <td>11.579303</td>\n",
              "    </tr>\n",
              "    <tr>\n",
              "      <th>2</th>\n",
              "      <td>0.533725</td>\n",
              "      <td>-0.159133</td>\n",
              "      <td>-1.422570</td>\n",
              "      <td>0.318753</td>\n",
              "      <td>0.676215</td>\n",
              "      <td>0.542988</td>\n",
              "      <td>-0.795867</td>\n",
              "      <td>-0.237169</td>\n",
              "      <td>-0.953369</td>\n",
              "      <td>0.063793</td>\n",
              "      <td>-22.114316</td>\n",
              "      <td>11.579303</td>\n",
              "    </tr>\n",
              "    <tr>\n",
              "      <th>3</th>\n",
              "      <td>-0.621687</td>\n",
              "      <td>1.597682</td>\n",
              "      <td>-1.023580</td>\n",
              "      <td>-2.129012</td>\n",
              "      <td>-0.649626</td>\n",
              "      <td>0.553806</td>\n",
              "      <td>-1.008693</td>\n",
              "      <td>1.288557</td>\n",
              "      <td>-1.393622</td>\n",
              "      <td>0.513096</td>\n",
              "      <td>-58.755321</td>\n",
              "      <td>11.579303</td>\n",
              "    </tr>\n",
              "    <tr>\n",
              "      <th>4</th>\n",
              "      <td>-0.678513</td>\n",
              "      <td>0.005648</td>\n",
              "      <td>-0.497487</td>\n",
              "      <td>1.010381</td>\n",
              "      <td>-0.072723</td>\n",
              "      <td>-1.220696</td>\n",
              "      <td>1.335769</td>\n",
              "      <td>-1.186937</td>\n",
              "      <td>0.551663</td>\n",
              "      <td>0.053671</td>\n",
              "      <td>-74.966597</td>\n",
              "      <td>11.579303</td>\n",
              "    </tr>\n",
              "  </tbody>\n",
              "</table>\n",
              "</div>\n",
              "      <button class=\"colab-df-convert\" onclick=\"convertToInteractive('df-6974681b-1821-48ba-a31c-eafff5f40565')\"\n",
              "              title=\"Convert this dataframe to an interactive table.\"\n",
              "              style=\"display:none;\">\n",
              "        \n",
              "  <svg xmlns=\"http://www.w3.org/2000/svg\" height=\"24px\"viewBox=\"0 0 24 24\"\n",
              "       width=\"24px\">\n",
              "    <path d=\"M0 0h24v24H0V0z\" fill=\"none\"/>\n",
              "    <path d=\"M18.56 5.44l.94 2.06.94-2.06 2.06-.94-2.06-.94-.94-2.06-.94 2.06-2.06.94zm-11 1L8.5 8.5l.94-2.06 2.06-.94-2.06-.94L8.5 2.5l-.94 2.06-2.06.94zm10 10l.94 2.06.94-2.06 2.06-.94-2.06-.94-.94-2.06-.94 2.06-2.06.94z\"/><path d=\"M17.41 7.96l-1.37-1.37c-.4-.4-.92-.59-1.43-.59-.52 0-1.04.2-1.43.59L10.3 9.45l-7.72 7.72c-.78.78-.78 2.05 0 2.83L4 21.41c.39.39.9.59 1.41.59.51 0 1.02-.2 1.41-.59l7.78-7.78 2.81-2.81c.8-.78.8-2.07 0-2.86zM5.41 20L4 18.59l7.72-7.72 1.47 1.35L5.41 20z\"/>\n",
              "  </svg>\n",
              "      </button>\n",
              "      \n",
              "  <style>\n",
              "    .colab-df-container {\n",
              "      display:flex;\n",
              "      flex-wrap:wrap;\n",
              "      gap: 12px;\n",
              "    }\n",
              "\n",
              "    .colab-df-convert {\n",
              "      background-color: #E8F0FE;\n",
              "      border: none;\n",
              "      border-radius: 50%;\n",
              "      cursor: pointer;\n",
              "      display: none;\n",
              "      fill: #1967D2;\n",
              "      height: 32px;\n",
              "      padding: 0 0 0 0;\n",
              "      width: 32px;\n",
              "    }\n",
              "\n",
              "    .colab-df-convert:hover {\n",
              "      background-color: #E2EBFA;\n",
              "      box-shadow: 0px 1px 2px rgba(60, 64, 67, 0.3), 0px 1px 3px 1px rgba(60, 64, 67, 0.15);\n",
              "      fill: #174EA6;\n",
              "    }\n",
              "\n",
              "    [theme=dark] .colab-df-convert {\n",
              "      background-color: #3B4455;\n",
              "      fill: #D2E3FC;\n",
              "    }\n",
              "\n",
              "    [theme=dark] .colab-df-convert:hover {\n",
              "      background-color: #434B5C;\n",
              "      box-shadow: 0px 1px 3px 1px rgba(0, 0, 0, 0.15);\n",
              "      filter: drop-shadow(0px 1px 2px rgba(0, 0, 0, 0.3));\n",
              "      fill: #FFFFFF;\n",
              "    }\n",
              "  </style>\n",
              "\n",
              "      <script>\n",
              "        const buttonEl =\n",
              "          document.querySelector('#df-6974681b-1821-48ba-a31c-eafff5f40565 button.colab-df-convert');\n",
              "        buttonEl.style.display =\n",
              "          google.colab.kernel.accessAllowed ? 'block' : 'none';\n",
              "\n",
              "        async function convertToInteractive(key) {\n",
              "          const element = document.querySelector('#df-6974681b-1821-48ba-a31c-eafff5f40565');\n",
              "          const dataTable =\n",
              "            await google.colab.kernel.invokeFunction('convertToInteractive',\n",
              "                                                     [key], {});\n",
              "          if (!dataTable) return;\n",
              "\n",
              "          const docLinkHtml = 'Like what you see? Visit the ' +\n",
              "            '<a target=\"_blank\" href=https://colab.research.google.com/notebooks/data_table.ipynb>data table notebook</a>'\n",
              "            + ' to learn more about interactive tables.';\n",
              "          element.innerHTML = '';\n",
              "          dataTable['output_type'] = 'display_data';\n",
              "          await google.colab.output.renderOutput(dataTable, element);\n",
              "          const docLink = document.createElement('div');\n",
              "          docLink.innerHTML = docLinkHtml;\n",
              "          element.appendChild(docLink);\n",
              "        }\n",
              "      </script>\n",
              "    </div>\n",
              "  </div>\n",
              "  "
            ]
          },
          "metadata": {},
          "execution_count": 5
        }
      ]
    },
    {
      "cell_type": "markdown",
      "source": [
        "Посчитаем метрики качества модели:"
      ],
      "metadata": {
        "id": "S9B1zNSAoIuD"
      }
    },
    {
      "cell_type": "code",
      "source": [
        "print(f\"R2: {r2_score(df['y_true'], df['y_pred_0'])}\")\n",
        "print(f\"MSE: {mean_squared_error(df['y_true'], df['y_pred_0'])}\")\n",
        "print(f\"MAE: {mean_absolute_error(df['y_true'], df['y_pred_0'])}\")"
      ],
      "metadata": {
        "colab": {
          "base_uri": "https://localhost:8080/"
        },
        "id": "cSCaU8qUorcJ",
        "outputId": "9c201210-f1dd-48d8-bb35-498c08b5e252"
      },
      "execution_count": 6,
      "outputs": [
        {
          "output_type": "stream",
          "name": "stdout",
          "text": [
            "R2: 0.0\n",
            "MSE: 40879.94091266593\n",
            "MAE: 162.5928262152452\n"
          ]
        }
      ]
    },
    {
      "cell_type": "markdown",
      "source": [
        "### Шаг 2"
      ],
      "metadata": {
        "id": "gVYalL71o2wV"
      }
    },
    {
      "cell_type": "markdown",
      "source": [
        "Посчитаем остатки:"
      ],
      "metadata": {
        "id": "xGSoMWrHpjL8"
      }
    },
    {
      "cell_type": "code",
      "source": [
        "df['residuals_0'] = df['y_true'] - df['y_pred_0']\n",
        "df.head()"
      ],
      "metadata": {
        "colab": {
          "base_uri": "https://localhost:8080/",
          "height": 270
        },
        "id": "oNoEcQgyplZs",
        "outputId": "50d2f7e9-6620-4cc7-cf71-90b781c2ca46"
      },
      "execution_count": 7,
      "outputs": [
        {
          "output_type": "execute_result",
          "data": {
            "text/plain": [
              "          0         1         2         3         4         5         6  \\\n",
              "0 -0.254475 -0.758590  1.555100 -1.277993 -0.085789 -0.276538 -0.103923   \n",
              "1  1.922980 -0.762984  1.594284 -0.051507 -2.144488  0.529371  2.989936   \n",
              "2  0.533725 -0.159133 -1.422570  0.318753  0.676215  0.542988 -0.795867   \n",
              "3 -0.621687  1.597682 -1.023580 -2.129012 -0.649626  0.553806 -1.008693   \n",
              "4 -0.678513  0.005648 -0.497487  1.010381 -0.072723 -1.220696  1.335769   \n",
              "\n",
              "          7         8         9      y_true   y_pred_0  residuals_0  \n",
              "0 -0.015704 -1.339011 -0.596467 -253.471771  11.579303  -265.051074  \n",
              "1 -0.248507  0.034008 -1.240809  -67.180753  11.579303   -78.760056  \n",
              "2 -0.237169 -0.953369  0.063793  -22.114316  11.579303   -33.693619  \n",
              "3  1.288557 -1.393622  0.513096  -58.755321  11.579303   -70.334624  \n",
              "4 -1.186937  0.551663  0.053671  -74.966597  11.579303   -86.545900  "
            ],
            "text/html": [
              "\n",
              "  <div id=\"df-770d7518-45a2-454e-a1d5-b88682b468e6\">\n",
              "    <div class=\"colab-df-container\">\n",
              "      <div>\n",
              "<style scoped>\n",
              "    .dataframe tbody tr th:only-of-type {\n",
              "        vertical-align: middle;\n",
              "    }\n",
              "\n",
              "    .dataframe tbody tr th {\n",
              "        vertical-align: top;\n",
              "    }\n",
              "\n",
              "    .dataframe thead th {\n",
              "        text-align: right;\n",
              "    }\n",
              "</style>\n",
              "<table border=\"1\" class=\"dataframe\">\n",
              "  <thead>\n",
              "    <tr style=\"text-align: right;\">\n",
              "      <th></th>\n",
              "      <th>0</th>\n",
              "      <th>1</th>\n",
              "      <th>2</th>\n",
              "      <th>3</th>\n",
              "      <th>4</th>\n",
              "      <th>5</th>\n",
              "      <th>6</th>\n",
              "      <th>7</th>\n",
              "      <th>8</th>\n",
              "      <th>9</th>\n",
              "      <th>y_true</th>\n",
              "      <th>y_pred_0</th>\n",
              "      <th>residuals_0</th>\n",
              "    </tr>\n",
              "  </thead>\n",
              "  <tbody>\n",
              "    <tr>\n",
              "      <th>0</th>\n",
              "      <td>-0.254475</td>\n",
              "      <td>-0.758590</td>\n",
              "      <td>1.555100</td>\n",
              "      <td>-1.277993</td>\n",
              "      <td>-0.085789</td>\n",
              "      <td>-0.276538</td>\n",
              "      <td>-0.103923</td>\n",
              "      <td>-0.015704</td>\n",
              "      <td>-1.339011</td>\n",
              "      <td>-0.596467</td>\n",
              "      <td>-253.471771</td>\n",
              "      <td>11.579303</td>\n",
              "      <td>-265.051074</td>\n",
              "    </tr>\n",
              "    <tr>\n",
              "      <th>1</th>\n",
              "      <td>1.922980</td>\n",
              "      <td>-0.762984</td>\n",
              "      <td>1.594284</td>\n",
              "      <td>-0.051507</td>\n",
              "      <td>-2.144488</td>\n",
              "      <td>0.529371</td>\n",
              "      <td>2.989936</td>\n",
              "      <td>-0.248507</td>\n",
              "      <td>0.034008</td>\n",
              "      <td>-1.240809</td>\n",
              "      <td>-67.180753</td>\n",
              "      <td>11.579303</td>\n",
              "      <td>-78.760056</td>\n",
              "    </tr>\n",
              "    <tr>\n",
              "      <th>2</th>\n",
              "      <td>0.533725</td>\n",
              "      <td>-0.159133</td>\n",
              "      <td>-1.422570</td>\n",
              "      <td>0.318753</td>\n",
              "      <td>0.676215</td>\n",
              "      <td>0.542988</td>\n",
              "      <td>-0.795867</td>\n",
              "      <td>-0.237169</td>\n",
              "      <td>-0.953369</td>\n",
              "      <td>0.063793</td>\n",
              "      <td>-22.114316</td>\n",
              "      <td>11.579303</td>\n",
              "      <td>-33.693619</td>\n",
              "    </tr>\n",
              "    <tr>\n",
              "      <th>3</th>\n",
              "      <td>-0.621687</td>\n",
              "      <td>1.597682</td>\n",
              "      <td>-1.023580</td>\n",
              "      <td>-2.129012</td>\n",
              "      <td>-0.649626</td>\n",
              "      <td>0.553806</td>\n",
              "      <td>-1.008693</td>\n",
              "      <td>1.288557</td>\n",
              "      <td>-1.393622</td>\n",
              "      <td>0.513096</td>\n",
              "      <td>-58.755321</td>\n",
              "      <td>11.579303</td>\n",
              "      <td>-70.334624</td>\n",
              "    </tr>\n",
              "    <tr>\n",
              "      <th>4</th>\n",
              "      <td>-0.678513</td>\n",
              "      <td>0.005648</td>\n",
              "      <td>-0.497487</td>\n",
              "      <td>1.010381</td>\n",
              "      <td>-0.072723</td>\n",
              "      <td>-1.220696</td>\n",
              "      <td>1.335769</td>\n",
              "      <td>-1.186937</td>\n",
              "      <td>0.551663</td>\n",
              "      <td>0.053671</td>\n",
              "      <td>-74.966597</td>\n",
              "      <td>11.579303</td>\n",
              "      <td>-86.545900</td>\n",
              "    </tr>\n",
              "  </tbody>\n",
              "</table>\n",
              "</div>\n",
              "      <button class=\"colab-df-convert\" onclick=\"convertToInteractive('df-770d7518-45a2-454e-a1d5-b88682b468e6')\"\n",
              "              title=\"Convert this dataframe to an interactive table.\"\n",
              "              style=\"display:none;\">\n",
              "        \n",
              "  <svg xmlns=\"http://www.w3.org/2000/svg\" height=\"24px\"viewBox=\"0 0 24 24\"\n",
              "       width=\"24px\">\n",
              "    <path d=\"M0 0h24v24H0V0z\" fill=\"none\"/>\n",
              "    <path d=\"M18.56 5.44l.94 2.06.94-2.06 2.06-.94-2.06-.94-.94-2.06-.94 2.06-2.06.94zm-11 1L8.5 8.5l.94-2.06 2.06-.94-2.06-.94L8.5 2.5l-.94 2.06-2.06.94zm10 10l.94 2.06.94-2.06 2.06-.94-2.06-.94-.94-2.06-.94 2.06-2.06.94z\"/><path d=\"M17.41 7.96l-1.37-1.37c-.4-.4-.92-.59-1.43-.59-.52 0-1.04.2-1.43.59L10.3 9.45l-7.72 7.72c-.78.78-.78 2.05 0 2.83L4 21.41c.39.39.9.59 1.41.59.51 0 1.02-.2 1.41-.59l7.78-7.78 2.81-2.81c.8-.78.8-2.07 0-2.86zM5.41 20L4 18.59l7.72-7.72 1.47 1.35L5.41 20z\"/>\n",
              "  </svg>\n",
              "      </button>\n",
              "      \n",
              "  <style>\n",
              "    .colab-df-container {\n",
              "      display:flex;\n",
              "      flex-wrap:wrap;\n",
              "      gap: 12px;\n",
              "    }\n",
              "\n",
              "    .colab-df-convert {\n",
              "      background-color: #E8F0FE;\n",
              "      border: none;\n",
              "      border-radius: 50%;\n",
              "      cursor: pointer;\n",
              "      display: none;\n",
              "      fill: #1967D2;\n",
              "      height: 32px;\n",
              "      padding: 0 0 0 0;\n",
              "      width: 32px;\n",
              "    }\n",
              "\n",
              "    .colab-df-convert:hover {\n",
              "      background-color: #E2EBFA;\n",
              "      box-shadow: 0px 1px 2px rgba(60, 64, 67, 0.3), 0px 1px 3px 1px rgba(60, 64, 67, 0.15);\n",
              "      fill: #174EA6;\n",
              "    }\n",
              "\n",
              "    [theme=dark] .colab-df-convert {\n",
              "      background-color: #3B4455;\n",
              "      fill: #D2E3FC;\n",
              "    }\n",
              "\n",
              "    [theme=dark] .colab-df-convert:hover {\n",
              "      background-color: #434B5C;\n",
              "      box-shadow: 0px 1px 3px 1px rgba(0, 0, 0, 0.15);\n",
              "      filter: drop-shadow(0px 1px 2px rgba(0, 0, 0, 0.3));\n",
              "      fill: #FFFFFF;\n",
              "    }\n",
              "  </style>\n",
              "\n",
              "      <script>\n",
              "        const buttonEl =\n",
              "          document.querySelector('#df-770d7518-45a2-454e-a1d5-b88682b468e6 button.colab-df-convert');\n",
              "        buttonEl.style.display =\n",
              "          google.colab.kernel.accessAllowed ? 'block' : 'none';\n",
              "\n",
              "        async function convertToInteractive(key) {\n",
              "          const element = document.querySelector('#df-770d7518-45a2-454e-a1d5-b88682b468e6');\n",
              "          const dataTable =\n",
              "            await google.colab.kernel.invokeFunction('convertToInteractive',\n",
              "                                                     [key], {});\n",
              "          if (!dataTable) return;\n",
              "\n",
              "          const docLinkHtml = 'Like what you see? Visit the ' +\n",
              "            '<a target=\"_blank\" href=https://colab.research.google.com/notebooks/data_table.ipynb>data table notebook</a>'\n",
              "            + ' to learn more about interactive tables.';\n",
              "          element.innerHTML = '';\n",
              "          dataTable['output_type'] = 'display_data';\n",
              "          await google.colab.output.renderOutput(dataTable, element);\n",
              "          const docLink = document.createElement('div');\n",
              "          docLink.innerHTML = docLinkHtml;\n",
              "          element.appendChild(docLink);\n",
              "        }\n",
              "      </script>\n",
              "    </div>\n",
              "  </div>\n",
              "  "
            ]
          },
          "metadata": {},
          "execution_count": 7
        }
      ]
    },
    {
      "cell_type": "markdown",
      "source": [
        "### Шаг 3"
      ],
      "metadata": {
        "id": "L8f3TlawpwJ9"
      }
    },
    {
      "cell_type": "markdown",
      "source": [
        "Инициализируем алгоритм Дерево решений с максимальной глубиной, равной 1 (stump), то есть листов у нас будет 2:"
      ],
      "metadata": {
        "id": "wH7Y4oOzqpcT"
      }
    },
    {
      "cell_type": "code",
      "source": [
        "model_1 = DecisionTreeRegressor(max_leaf_nodes=2)"
      ],
      "metadata": {
        "id": "RuQDoCvtq9Fr"
      },
      "execution_count": 8,
      "outputs": []
    },
    {
      "cell_type": "markdown",
      "source": [
        "Обучаемся на остатках:"
      ],
      "metadata": {
        "id": "dC0TAyBqrE-F"
      }
    },
    {
      "cell_type": "code",
      "source": [
        "model_1.fit(df[[0, 1, 2, 3, 4, 5, 6, 7, 8, 9]], df['residuals_0'])"
      ],
      "metadata": {
        "colab": {
          "base_uri": "https://localhost:8080/"
        },
        "id": "b4BebrO2rHW0",
        "outputId": "dac73613-af00-4102-cac0-169d1e0c0740"
      },
      "execution_count": 9,
      "outputs": [
        {
          "output_type": "execute_result",
          "data": {
            "text/plain": [
              "DecisionTreeRegressor(max_leaf_nodes=2)"
            ]
          },
          "metadata": {},
          "execution_count": 9
        }
      ]
    },
    {
      "cell_type": "markdown",
      "source": [
        "Делаем новое предсказание, суммировав предсказанные алгоритмом остатки, умноженные на скорость обучения, и первое предсказание, другими словами, мы компенсируем остатки:"
      ],
      "metadata": {
        "id": "HVjg7zRnvIlH"
      }
    },
    {
      "cell_type": "code",
      "source": [
        "df['y_pred_1'] = model_1.predict(df[[0, 1, 2, 3, 4, 5, 6, 7, 8, 9]]) * 0.1 + df['y_pred_0']"
      ],
      "metadata": {
        "id": "cyngrBv-ugkQ"
      },
      "execution_count": 10,
      "outputs": []
    },
    {
      "cell_type": "markdown",
      "source": [
        "Визуализируем дерево:"
      ],
      "metadata": {
        "id": "Sxuvm9xEvuVe"
      }
    },
    {
      "cell_type": "code",
      "source": [
        "plot_tree(model_1)"
      ],
      "metadata": {
        "colab": {
          "base_uri": "https://localhost:8080/",
          "height": 300
        },
        "id": "sUPNaIAura0r",
        "outputId": "bc98b1b7-9a21-4199-e8b1-c72129a193a8"
      },
      "execution_count": 11,
      "outputs": [
        {
          "output_type": "execute_result",
          "data": {
            "text/plain": [
              "[Text(0.5, 0.75, 'X[7] <= 0.299\\nsquared_error = 40879.941\\nsamples = 1000\\nvalue = -0.0'),\n",
              " Text(0.25, 0.25, 'squared_error = 35354.898\\nsamples = 593\\nvalue = -65.096'),\n",
              " Text(0.75, 0.25, 'squared_error = 33760.202\\nsamples = 407\\nvalue = 94.845')]"
            ]
          },
          "metadata": {},
          "execution_count": 11
        },
        {
          "output_type": "display_data",
          "data": {
            "text/plain": [
              "<Figure size 432x288 with 1 Axes>"
            ],
            "image/png": "[encoded data removed]"
          },
          "metadata": {
            "needs_background": "light"
          }
        }
      ]
    },
    {
      "cell_type": "markdown",
      "source": [
        "Посчитаем метрики качества:"
      ],
      "metadata": {
        "id": "7fz5oVjssAIx"
      }
    },
    {
      "cell_type": "code",
      "source": [
        "print(f\"R2: {r2_score(df['y_true'], df['y_pred_1'])}\")\n",
        "print(f\"MSE: {mean_squared_error(df['y_true'], df['y_pred_1'])}\")\n",
        "print(f\"MAE: {mean_absolute_error(df['y_true'], df['y_pred_1'])}\")"
      ],
      "metadata": {
        "colab": {
          "base_uri": "https://localhost:8080/"
        },
        "outputId": "431b1bd2-3d40-4035-fd5a-793c5443358f",
        "id": "EEnkFdHOv5Ao"
      },
      "execution_count": 12,
      "outputs": [
        {
          "output_type": "stream",
          "name": "stdout",
          "text": [
            "R2: 0.028695637820626452\n",
            "MSE: 39706.86493410746\n",
            "MAE: 160.20915902508773\n"
          ]
        }
      ]
    },
    {
      "cell_type": "markdown",
      "source": [
        "### Шаг 4"
      ],
      "metadata": {
        "id": "aPCsbPc_v_qV"
      }
    },
    {
      "cell_type": "markdown",
      "source": [
        "Повторяем шаги 2, 3 до тех пор, пока не добьемся приемлемого качества или определенное количество деревьев. Создадим для этого новый класс."
      ],
      "metadata": {
        "id": "eHT92D87xJ2J"
      }
    },
    {
      "cell_type": "markdown",
      "source": [
        "Реализуем класс градиентного бустинга:"
      ],
      "metadata": {
        "id": "5b0vXSp_5EVe"
      }
    },
    {
      "cell_type": "code",
      "source": [
        "class MyGradientBoosting():\n",
        "    def __init__(self, lr=0.01, iters=1000, max_depth=4):\n",
        "        self.lr = lr\n",
        "        self.iters = iters\n",
        "        self.max_depth = max_depth\n",
        "        self.models_ = None\n",
        "        self.constant_prediction_ = None\n",
        "        self.MAE_ = None\n",
        "\n",
        "    def fit(self, X, y):\n",
        "        X = X.values\n",
        "        y = y.values\n",
        "        prediction = np.full((y.shape), np.mean(y)) # инициализируем модель константным предсказанием: среднее значение таргета обучающей выборки\n",
        "        models = [] # в этом списке будем хранить модели Решающего дерева\n",
        "        MAE = [] # в этом списке будем хранить значение МАЕ каждой итерации\n",
        "\n",
        "        for _ in range(self.iters):\n",
        "            residual = y - prediction # считаем остатки\n",
        "            model = DecisionTreeRegressor(max_depth=self.max_depth, random_state=130223) # инициализируем модель Решающего дерева\n",
        "            model.fit(X, residual) # обучаемся на остатках\n",
        "            prediction += model.predict(X) * self.lr # корректируем константное предсказание, компенсируя остатки\n",
        "            models.append(model) # сохраняем модель в список моделей\n",
        "            MAE.append(mean_absolute_error(y, prediction)) # сохраняем метрику МАЕ\n",
        "           \n",
        "        self.models_ = models\n",
        "        self.constant_prediction_ = np.mean(y)\n",
        "        self.MAE_ = MAE\n",
        "\n",
        "    def predict(self, X):\n",
        "        X = X.values\n",
        "        prediction = np.full((X.shape[0]), self.constant_prediction_)\n",
        "\n",
        "        for model in self.models_:\n",
        "            prediction += model.predict(X) * self.lr\n",
        "    \n",
        "        return prediction   \n"
      ],
      "metadata": {
        "id": "NRJc1x0ryuQ2"
      },
      "execution_count": 13,
      "outputs": []
    },
    {
      "cell_type": "markdown",
      "source": [
        "Иницилизируем объект класса `MyGradientBoosting`:"
      ],
      "metadata": {
        "id": "Jcr6qIZgINjz"
      }
    },
    {
      "cell_type": "code",
      "source": [
        "mgb = MyGradientBoosting()"
      ],
      "metadata": {
        "id": "zZc79bv8y6KU"
      },
      "execution_count": 14,
      "outputs": []
    },
    {
      "cell_type": "markdown",
      "source": [
        "Обучим модель градиентного бустинга:"
      ],
      "metadata": {
        "id": "yEK9kaLMq6UL"
      }
    },
    {
      "cell_type": "code",
      "source": [
        "mgb.fit(df.loc[:, 0:9], df['y_true'])"
      ],
      "metadata": {
        "id": "bMFMmna4rBdj"
      },
      "execution_count": 25,
      "outputs": []
    },
    {
      "cell_type": "markdown",
      "source": [
        "Визуализуем, как улучшались метрика качества МАЕ с каждой последующей итерацией:"
      ],
      "metadata": {
        "id": "KnQfI6RU2Wed"
      }
    },
    {
      "cell_type": "code",
      "source": [
        "plt.figure(figsize=(10, 5))\n",
        "plt.plot(mgb.MAE_)\n",
        "plt.grid(True)\n",
        "plt.ylabel('МАЕ')\n",
        "plt.xlabel('Итерации')\n",
        "plt.show()"
      ],
      "metadata": {
        "colab": {
          "base_uri": "https://localhost:8080/",
          "height": 334
        },
        "id": "_AaJqvh42lu_",
        "outputId": "08ff097b-a42a-47b8-a5d1-b38cb7fefa0e"
      },
      "execution_count": 26,
      "outputs": [
        {
          "output_type": "display_data",
          "data": {
            "text/plain": [
              "<Figure size 720x360 with 1 Axes>"
            ],
            "image/png": "[encoded data removed]"
          },
          "metadata": {
            "needs_background": "light"
          }
        }
      ]
    },
    {
      "cell_type": "markdown",
      "source": [
        "## Обучение и тестирование алгоритма `MyGradientBoosting`\n",
        "\n",
        "Задача: предсказать длину плавника по массе тела и длине клюва"
      ],
      "metadata": {
        "id": "Jof3u6eE50Tf"
      }
    },
    {
      "cell_type": "markdown",
      "source": [
        "Загрузим датасет пингвинов:"
      ],
      "metadata": {
        "id": "0xl4QHPs85N0"
      }
    },
    {
      "cell_type": "code",
      "source": [
        "df = pd.read_csv('/content/drive/MyDrive/Colab Notebooks/AI Start/Datasets/penguins.csv')\n",
        "df.head(5)"
      ],
      "metadata": {
        "id": "tNlPZr3_9OeG",
        "colab": {
          "base_uri": "https://localhost:8080/",
          "height": 206
        },
        "outputId": "f6ab239b-f1ac-4908-d62e-c68d01635518"
      },
      "execution_count": 32,
      "outputs": [
        {
          "output_type": "execute_result",
          "data": {
            "text/plain": [
              "  species     island  culmen_length_mm  culmen_depth_mm  flipper_length_mm  \\\n",
              "0  Adelie  Torgersen              39.1             18.7              181.0   \n",
              "1  Adelie  Torgersen              39.5             17.4              186.0   \n",
              "2  Adelie  Torgersen              40.3             18.0              195.0   \n",
              "3  Adelie  Torgersen               NaN              NaN                NaN   \n",
              "4  Adelie  Torgersen              36.7             19.3              193.0   \n",
              "\n",
              "   body_mass_g     sex  \n",
              "0       3750.0    MALE  \n",
              "1       3800.0  FEMALE  \n",
              "2       3250.0  FEMALE  \n",
              "3          NaN     NaN  \n",
              "4       3450.0  FEMALE  "
            ],
            "text/html": [
              "\n",
              "  <div id=\"df-fb2966e8-ffc5-4d65-9569-8edfc066028e\">\n",
              "    <div class=\"colab-df-container\">\n",
              "      <div>\n",
              "<style scoped>\n",
              "    .dataframe tbody tr th:only-of-type {\n",
              "        vertical-align: middle;\n",
              "    }\n",
              "\n",
              "    .dataframe tbody tr th {\n",
              "        vertical-align: top;\n",
              "    }\n",
              "\n",
              "    .dataframe thead th {\n",
              "        text-align: right;\n",
              "    }\n",
              "</style>\n",
              "<table border=\"1\" class=\"dataframe\">\n",
              "  <thead>\n",
              "    <tr style=\"text-align: right;\">\n",
              "      <th></th>\n",
              "      <th>species</th>\n",
              "      <th>island</th>\n",
              "      <th>culmen_length_mm</th>\n",
              "      <th>culmen_depth_mm</th>\n",
              "      <th>flipper_length_mm</th>\n",
              "      <th>body_mass_g</th>\n",
              "      <th>sex</th>\n",
              "    </tr>\n",
              "  </thead>\n",
              "  <tbody>\n",
              "    <tr>\n",
              "      <th>0</th>\n",
              "      <td>Adelie</td>\n",
              "      <td>Torgersen</td>\n",
              "      <td>39.1</td>\n",
              "      <td>18.7</td>\n",
              "      <td>181.0</td>\n",
              "      <td>3750.0</td>\n",
              "      <td>MALE</td>\n",
              "    </tr>\n",
              "    <tr>\n",
              "      <th>1</th>\n",
              "      <td>Adelie</td>\n",
              "      <td>Torgersen</td>\n",
              "      <td>39.5</td>\n",
              "      <td>17.4</td>\n",
              "      <td>186.0</td>\n",
              "      <td>3800.0</td>\n",
              "      <td>FEMALE</td>\n",
              "    </tr>\n",
              "    <tr>\n",
              "      <th>2</th>\n",
              "      <td>Adelie</td>\n",
              "      <td>Torgersen</td>\n",
              "      <td>40.3</td>\n",
              "      <td>18.0</td>\n",
              "      <td>195.0</td>\n",
              "      <td>3250.0</td>\n",
              "      <td>FEMALE</td>\n",
              "    </tr>\n",
              "    <tr>\n",
              "      <th>3</th>\n",
              "      <td>Adelie</td>\n",
              "      <td>Torgersen</td>\n",
              "      <td>NaN</td>\n",
              "      <td>NaN</td>\n",
              "      <td>NaN</td>\n",
              "      <td>NaN</td>\n",
              "      <td>NaN</td>\n",
              "    </tr>\n",
              "    <tr>\n",
              "      <th>4</th>\n",
              "      <td>Adelie</td>\n",
              "      <td>Torgersen</td>\n",
              "      <td>36.7</td>\n",
              "      <td>19.3</td>\n",
              "      <td>193.0</td>\n",
              "      <td>3450.0</td>\n",
              "      <td>FEMALE</td>\n",
              "    </tr>\n",
              "  </tbody>\n",
              "</table>\n",
              "</div>\n",
              "      <button class=\"colab-df-convert\" onclick=\"convertToInteractive('df-fb2966e8-ffc5-4d65-9569-8edfc066028e')\"\n",
              "              title=\"Convert this dataframe to an interactive table.\"\n",
              "              style=\"display:none;\">\n",
              "        \n",
              "  <svg xmlns=\"http://www.w3.org/2000/svg\" height=\"24px\"viewBox=\"0 0 24 24\"\n",
              "       width=\"24px\">\n",
              "    <path d=\"M0 0h24v24H0V0z\" fill=\"none\"/>\n",
              "    <path d=\"M18.56 5.44l.94 2.06.94-2.06 2.06-.94-2.06-.94-.94-2.06-.94 2.06-2.06.94zm-11 1L8.5 8.5l.94-2.06 2.06-.94-2.06-.94L8.5 2.5l-.94 2.06-2.06.94zm10 10l.94 2.06.94-2.06 2.06-.94-2.06-.94-.94-2.06-.94 2.06-2.06.94z\"/><path d=\"M17.41 7.96l-1.37-1.37c-.4-.4-.92-.59-1.43-.59-.52 0-1.04.2-1.43.59L10.3 9.45l-7.72 7.72c-.78.78-.78 2.05 0 2.83L4 21.41c.39.39.9.59 1.41.59.51 0 1.02-.2 1.41-.59l7.78-7.78 2.81-2.81c.8-.78.8-2.07 0-2.86zM5.41 20L4 18.59l7.72-7.72 1.47 1.35L5.41 20z\"/>\n",
              "  </svg>\n",
              "      </button>\n",
              "      \n",
              "  <style>\n",
              "    .colab-df-container {\n",
              "      display:flex;\n",
              "      flex-wrap:wrap;\n",
              "      gap: 12px;\n",
              "    }\n",
              "\n",
              "    .colab-df-convert {\n",
              "      background-color: #E8F0FE;\n",
              "      border: none;\n",
              "      border-radius: 50%;\n",
              "      cursor: pointer;\n",
              "      display: none;\n",
              "      fill: #1967D2;\n",
              "      height: 32px;\n",
              "      padding: 0 0 0 0;\n",
              "      width: 32px;\n",
              "    }\n",
              "\n",
              "    .colab-df-convert:hover {\n",
              "      background-color: #E2EBFA;\n",
              "      box-shadow: 0px 1px 2px rgba(60, 64, 67, 0.3), 0px 1px 3px 1px rgba(60, 64, 67, 0.15);\n",
              "      fill: #174EA6;\n",
              "    }\n",
              "\n",
              "    [theme=dark] .colab-df-convert {\n",
              "      background-color: #3B4455;\n",
              "      fill: #D2E3FC;\n",
              "    }\n",
              "\n",
              "    [theme=dark] .colab-df-convert:hover {\n",
              "      background-color: #434B5C;\n",
              "      box-shadow: 0px 1px 3px 1px rgba(0, 0, 0, 0.15);\n",
              "      filter: drop-shadow(0px 1px 2px rgba(0, 0, 0, 0.3));\n",
              "      fill: #FFFFFF;\n",
              "    }\n",
              "  </style>\n",
              "\n",
              "      <script>\n",
              "        const buttonEl =\n",
              "          document.querySelector('#df-fb2966e8-ffc5-4d65-9569-8edfc066028e button.colab-df-convert');\n",
              "        buttonEl.style.display =\n",
              "          google.colab.kernel.accessAllowed ? 'block' : 'none';\n",
              "\n",
              "        async function convertToInteractive(key) {\n",
              "          const element = document.querySelector('#df-fb2966e8-ffc5-4d65-9569-8edfc066028e');\n",
              "          const dataTable =\n",
              "            await google.colab.kernel.invokeFunction('convertToInteractive',\n",
              "                                                     [key], {});\n",
              "          if (!dataTable) return;\n",
              "\n",
              "          const docLinkHtml = 'Like what you see? Visit the ' +\n",
              "            '<a target=\"_blank\" href=https://colab.research.google.com/notebooks/data_table.ipynb>data table notebook</a>'\n",
              "            + ' to learn more about interactive tables.';\n",
              "          element.innerHTML = '';\n",
              "          dataTable['output_type'] = 'display_data';\n",
              "          await google.colab.output.renderOutput(dataTable, element);\n",
              "          const docLink = document.createElement('div');\n",
              "          docLink.innerHTML = docLinkHtml;\n",
              "          element.appendChild(docLink);\n",
              "        }\n",
              "      </script>\n",
              "    </div>\n",
              "  </div>\n",
              "  "
            ]
          },
          "metadata": {},
          "execution_count": 32
        }
      ]
    },
    {
      "cell_type": "markdown",
      "source": [
        "Переведем признаки на русский язык:"
      ],
      "metadata": {
        "id": "L7Iq5prPoLgF"
      }
    },
    {
      "cell_type": "code",
      "source": [
        "df.columns = ['вид','остров', 'длина клюва', \n",
        "              'ширина клюва', 'длина плавника', \n",
        "              'масса тела', 'пол']"
      ],
      "metadata": {
        "id": "in8Zh-WGnfDX"
      },
      "execution_count": 33,
      "outputs": []
    },
    {
      "cell_type": "markdown",
      "source": [
        "Удалим строки с пропущенными значениями в признаках:"
      ],
      "metadata": {
        "id": "YXN5SGxzoA7I"
      }
    },
    {
      "cell_type": "code",
      "source": [
        "df = df.dropna().reset_index(drop=True)"
      ],
      "metadata": {
        "id": "taSozvMJoXCJ"
      },
      "execution_count": 34,
      "outputs": []
    },
    {
      "cell_type": "markdown",
      "source": [
        "В таблице оставим только признаки `масса тела`, `длина клюва`, `длина плавника`:"
      ],
      "metadata": {
        "id": "FF5o76lrKbW6"
      }
    },
    {
      "cell_type": "code",
      "source": [
        "df = df[['масса тела', 'длина клюва', 'длина плавника']]"
      ],
      "metadata": {
        "id": "mYo1TtUEItBH"
      },
      "execution_count": 35,
      "outputs": []
    },
    {
      "cell_type": "markdown",
      "source": [
        "Поделим выборку на обучающую и тестовую:"
      ],
      "metadata": {
        "id": "2LgyU0Ry9lgX"
      }
    },
    {
      "cell_type": "code",
      "source": [
        "df_train, df_test = train_test_split(df, test_size=0.25, random_state=42)"
      ],
      "metadata": {
        "id": "3rshL3kE9xFS"
      },
      "execution_count": 40,
      "outputs": []
    },
    {
      "cell_type": "markdown",
      "source": [
        "Обучим модель на обучающей выборке, глубину каждого дерева оставим по умолчанию (=4):"
      ],
      "metadata": {
        "id": "So0CCoO6-OnY"
      }
    },
    {
      "cell_type": "code",
      "source": [
        "model = MyGradientBoosting()"
      ],
      "metadata": {
        "id": "i3iuBEK5-aor"
      },
      "execution_count": 45,
      "outputs": []
    },
    {
      "cell_type": "code",
      "source": [
        "model.fit(df_train[['масса тела', 'длина клюва']], \n",
        "          df_train['длина плавника'])"
      ],
      "metadata": {
        "id": "2mVC9T0OsfT4"
      },
      "execution_count": 46,
      "outputs": []
    },
    {
      "cell_type": "markdown",
      "source": [
        "Проверим модель на тестовой выборке:"
      ],
      "metadata": {
        "id": "AakBCWkM-lPU"
      }
    },
    {
      "cell_type": "code",
      "source": [
        "predictions = model.predict(df_test[['масса тела', 'длина клюва']])"
      ],
      "metadata": {
        "id": "QaVxSpmB-0fD"
      },
      "execution_count": 47,
      "outputs": []
    },
    {
      "cell_type": "markdown",
      "source": [
        "Проверим метрики качества модели на тестовой выборке:"
      ],
      "metadata": {
        "id": "UA2L7kOC_WmC"
      }
    },
    {
      "cell_type": "code",
      "source": [
        "print(f\"R2: {r2_score(df_test['длина плавника'], predictions)}\")\n",
        "print(f\"MSE: {mean_squared_error(df_test['длина плавника'], predictions)}\")\n",
        "print(f\"MAE: {mean_absolute_error(df_test['длина плавника'], predictions)}\")"
      ],
      "metadata": {
        "colab": {
          "base_uri": "https://localhost:8080/"
        },
        "outputId": "a9e35225-3b78-445b-bcd3-01e9bd06ec3a",
        "id": "9mUILse0_fx7"
      },
      "execution_count": 48,
      "outputs": [
        {
          "output_type": "stream",
          "name": "stdout",
          "text": [
            "R2: 0.816847000012525\n",
            "MSE: 38.198302461673514\n",
            "MAE: 4.830263490310071\n"
          ]
        }
      ]
    },
    {
      "cell_type": "markdown",
      "source": [
        "Сравним градиентный бустинг с классической линейной регрессией:"
      ],
      "metadata": {
        "id": "qgpxHB2fE4Uc"
      }
    },
    {
      "cell_type": "code",
      "source": [
        "lr = LinearRegression()"
      ],
      "metadata": {
        "id": "APwPw9bWFBUx"
      },
      "execution_count": 49,
      "outputs": []
    },
    {
      "cell_type": "code",
      "source": [
        "lr.fit(df_train[['масса тела', 'длина клюва']], \n",
        "       df_train['длина плавника'])"
      ],
      "metadata": {
        "colab": {
          "base_uri": "https://localhost:8080/"
        },
        "id": "E8iw4JPUFKOz",
        "outputId": "16291e74-c7e0-475e-e35f-239ce3a77b09"
      },
      "execution_count": 51,
      "outputs": [
        {
          "output_type": "execute_result",
          "data": {
            "text/plain": [
              "LinearRegression()"
            ]
          },
          "metadata": {},
          "execution_count": 51
        }
      ]
    },
    {
      "cell_type": "code",
      "source": [
        "lr_predictions = lr.predict(df_test[['масса тела', 'длина клюва']])"
      ],
      "metadata": {
        "id": "vkOlyQ4QF3L2"
      },
      "execution_count": 52,
      "outputs": []
    },
    {
      "cell_type": "code",
      "source": [
        "print(f\"R2: {r2_score(df_test['длина плавника'], lr_predictions)}\")\n",
        "print(f\"MSE: {mean_squared_error(df_test['длина плавника'], lr_predictions)}\")\n",
        "print(f\"MAE: {mean_absolute_error(df_test['длина плавника'], lr_predictions)}\")"
      ],
      "metadata": {
        "colab": {
          "base_uri": "https://localhost:8080/"
        },
        "id": "zPpORHWqFpcc",
        "outputId": "25168c98-39fa-4e61-8ca7-510959a54d57"
      },
      "execution_count": 53,
      "outputs": [
        {
          "output_type": "stream",
          "name": "stdout",
          "text": [
            "R2: 0.7832691227158404\n",
            "MSE: 45.20128856120467\n",
            "MAE: 5.37854803176602\n"
          ]
        }
      ]
    }
  ]
}