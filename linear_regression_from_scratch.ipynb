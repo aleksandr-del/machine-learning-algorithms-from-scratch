{
  "nbformat": 4,
  "nbformat_minor": 0,
  "metadata": {
    "colab": {
      "provenance": [],
      "toc_visible": true,
      "mount_file_id": "1FCjeSiuNt0aCobqo4mddXAOh8AVYgobg",
      "authorship_tag": "ABX9TyMsJEKf9+UJqqpkapLNU0IQ",
      "include_colab_link": true
    },
    "kernelspec": {
      "name": "python3",
      "display_name": "Python 3"
    },
    "language_info": {
      "name": "python"
    }
  },
  "cells": [
    {
      "cell_type": "markdown",
      "metadata": {
        "id": "view-in-github",
        "colab_type": "text"
      },
      "source": [
        "<a href=\"https://colab.research.google.com/github/aleksandr-del/machine-learning-algorithms-from-scratch/blob/main/linear_regression_from_scratch.ipynb\" target=\"_parent\"><img src=\"https://colab.research.google.com/assets/colab-badge.svg\" alt=\"Open In Colab\"/></a>"
      ]
    },
    {
      "cell_type": "markdown",
      "source": [
        "# Линейная регрессия с помощью градиентного спуска"
      ],
      "metadata": {
        "id": "3Kyp7M0nmAWl"
      }
    },
    {
      "cell_type": "markdown",
      "source": [
        "Импортируем необходимые библиотеки, модули, функции:"
      ],
      "metadata": {
        "id": "X5VJWDfAkRC5"
      }
    },
    {
      "cell_type": "code",
      "source": [
        "import pandas as pd\n",
        "import numpy as np\n",
        "from sklearn.metrics import r2_score, mean_squared_error\n",
        "from sklearn.model_selection import train_test_split\n",
        "from sklearn.linear_model import LinearRegression\n",
        "import matplotlib.pyplot as plt\n",
        "from sklearn.preprocessing import StandardScaler\n",
        "from sklearn.datasets import load_boston\n",
        "import warnings\n",
        "warnings.filterwarnings(\"ignore\")"
      ],
      "metadata": {
        "id": "cihwHdCNkmDM"
      },
      "execution_count": 6,
      "outputs": []
    },
    {
      "cell_type": "markdown",
      "source": [
        "## Датасет"
      ],
      "metadata": {
        "id": "7eEI7qBwmPYB"
      }
    },
    {
      "cell_type": "markdown",
      "source": [
        "Из библиотеки `sklearn` скачаем данные о домах в Бостоне. В данных 506 наблюдений, 13 признаков и целевая переменная. Необходимо спрогнозировать стоимость дома:"
      ],
      "metadata": {
        "id": "8iJ9Y20JSAHl"
      }
    },
    {
      "cell_type": "code",
      "source": [
        "data = load_boston()"
      ],
      "metadata": {
        "id": "wax9eQBYk8kV"
      },
      "execution_count": 7,
      "outputs": []
    },
    {
      "cell_type": "markdown",
      "source": [
        "Признаки упакуем в датафрейм и сохраним в переменной `X`:"
      ],
      "metadata": {
        "id": "5LdZ8c69leVR"
      }
    },
    {
      "cell_type": "code",
      "source": [
        "X = pd.DataFrame(data['data'], columns=data['feature_names'])\n",
        "X.head()"
      ],
      "metadata": {
        "colab": {
          "base_uri": "https://localhost:8080/",
          "height": 206
        },
        "id": "1IHaCXmelyo-",
        "outputId": "f1a62f1d-2a24-4bf2-a50c-35d1cf591713"
      },
      "execution_count": 10,
      "outputs": [
        {
          "output_type": "execute_result",
          "data": {
            "text/plain": [
              "      CRIM    ZN  INDUS  CHAS    NOX     RM   AGE     DIS  RAD    TAX  \\\n",
              "0  0.00632  18.0   2.31   0.0  0.538  6.575  65.2  4.0900  1.0  296.0   \n",
              "1  0.02731   0.0   7.07   0.0  0.469  6.421  78.9  4.9671  2.0  242.0   \n",
              "2  0.02729   0.0   7.07   0.0  0.469  7.185  61.1  4.9671  2.0  242.0   \n",
              "3  0.03237   0.0   2.18   0.0  0.458  6.998  45.8  6.0622  3.0  222.0   \n",
              "4  0.06905   0.0   2.18   0.0  0.458  7.147  54.2  6.0622  3.0  222.0   \n",
              "\n",
              "   PTRATIO       B  LSTAT  \n",
              "0     15.3  396.90   4.98  \n",
              "1     17.8  396.90   9.14  \n",
              "2     17.8  392.83   4.03  \n",
              "3     18.7  394.63   2.94  \n",
              "4     18.7  396.90   5.33  "
            ],
            "text/html": [
              "\n",
              "  <div id=\"df-0c5276ee-6cba-4b4b-9087-1c5290794c6e\">\n",
              "    <div class=\"colab-df-container\">\n",
              "      <div>\n",
              "<style scoped>\n",
              "    .dataframe tbody tr th:only-of-type {\n",
              "        vertical-align: middle;\n",
              "    }\n",
              "\n",
              "    .dataframe tbody tr th {\n",
              "        vertical-align: top;\n",
              "    }\n",
              "\n",
              "    .dataframe thead th {\n",
              "        text-align: right;\n",
              "    }\n",
              "</style>\n",
              "<table border=\"1\" class=\"dataframe\">\n",
              "  <thead>\n",
              "    <tr style=\"text-align: right;\">\n",
              "      <th></th>\n",
              "      <th>CRIM</th>\n",
              "      <th>ZN</th>\n",
              "      <th>INDUS</th>\n",
              "      <th>CHAS</th>\n",
              "      <th>NOX</th>\n",
              "      <th>RM</th>\n",
              "      <th>AGE</th>\n",
              "      <th>DIS</th>\n",
              "      <th>RAD</th>\n",
              "      <th>TAX</th>\n",
              "      <th>PTRATIO</th>\n",
              "      <th>B</th>\n",
              "      <th>LSTAT</th>\n",
              "    </tr>\n",
              "  </thead>\n",
              "  <tbody>\n",
              "    <tr>\n",
              "      <th>0</th>\n",
              "      <td>0.00632</td>\n",
              "      <td>18.0</td>\n",
              "      <td>2.31</td>\n",
              "      <td>0.0</td>\n",
              "      <td>0.538</td>\n",
              "      <td>6.575</td>\n",
              "      <td>65.2</td>\n",
              "      <td>4.0900</td>\n",
              "      <td>1.0</td>\n",
              "      <td>296.0</td>\n",
              "      <td>15.3</td>\n",
              "      <td>396.90</td>\n",
              "      <td>4.98</td>\n",
              "    </tr>\n",
              "    <tr>\n",
              "      <th>1</th>\n",
              "      <td>0.02731</td>\n",
              "      <td>0.0</td>\n",
              "      <td>7.07</td>\n",
              "      <td>0.0</td>\n",
              "      <td>0.469</td>\n",
              "      <td>6.421</td>\n",
              "      <td>78.9</td>\n",
              "      <td>4.9671</td>\n",
              "      <td>2.0</td>\n",
              "      <td>242.0</td>\n",
              "      <td>17.8</td>\n",
              "      <td>396.90</td>\n",
              "      <td>9.14</td>\n",
              "    </tr>\n",
              "    <tr>\n",
              "      <th>2</th>\n",
              "      <td>0.02729</td>\n",
              "      <td>0.0</td>\n",
              "      <td>7.07</td>\n",
              "      <td>0.0</td>\n",
              "      <td>0.469</td>\n",
              "      <td>7.185</td>\n",
              "      <td>61.1</td>\n",
              "      <td>4.9671</td>\n",
              "      <td>2.0</td>\n",
              "      <td>242.0</td>\n",
              "      <td>17.8</td>\n",
              "      <td>392.83</td>\n",
              "      <td>4.03</td>\n",
              "    </tr>\n",
              "    <tr>\n",
              "      <th>3</th>\n",
              "      <td>0.03237</td>\n",
              "      <td>0.0</td>\n",
              "      <td>2.18</td>\n",
              "      <td>0.0</td>\n",
              "      <td>0.458</td>\n",
              "      <td>6.998</td>\n",
              "      <td>45.8</td>\n",
              "      <td>6.0622</td>\n",
              "      <td>3.0</td>\n",
              "      <td>222.0</td>\n",
              "      <td>18.7</td>\n",
              "      <td>394.63</td>\n",
              "      <td>2.94</td>\n",
              "    </tr>\n",
              "    <tr>\n",
              "      <th>4</th>\n",
              "      <td>0.06905</td>\n",
              "      <td>0.0</td>\n",
              "      <td>2.18</td>\n",
              "      <td>0.0</td>\n",
              "      <td>0.458</td>\n",
              "      <td>7.147</td>\n",
              "      <td>54.2</td>\n",
              "      <td>6.0622</td>\n",
              "      <td>3.0</td>\n",
              "      <td>222.0</td>\n",
              "      <td>18.7</td>\n",
              "      <td>396.90</td>\n",
              "      <td>5.33</td>\n",
              "    </tr>\n",
              "  </tbody>\n",
              "</table>\n",
              "</div>\n",
              "      <button class=\"colab-df-convert\" onclick=\"convertToInteractive('df-0c5276ee-6cba-4b4b-9087-1c5290794c6e')\"\n",
              "              title=\"Convert this dataframe to an interactive table.\"\n",
              "              style=\"display:none;\">\n",
              "        \n",
              "  <svg xmlns=\"http://www.w3.org/2000/svg\" height=\"24px\"viewBox=\"0 0 24 24\"\n",
              "       width=\"24px\">\n",
              "    <path d=\"M0 0h24v24H0V0z\" fill=\"none\"/>\n",
              "    <path d=\"M18.56 5.44l.94 2.06.94-2.06 2.06-.94-2.06-.94-.94-2.06-.94 2.06-2.06.94zm-11 1L8.5 8.5l.94-2.06 2.06-.94-2.06-.94L8.5 2.5l-.94 2.06-2.06.94zm10 10l.94 2.06.94-2.06 2.06-.94-2.06-.94-.94-2.06-.94 2.06-2.06.94z\"/><path d=\"M17.41 7.96l-1.37-1.37c-.4-.4-.92-.59-1.43-.59-.52 0-1.04.2-1.43.59L10.3 9.45l-7.72 7.72c-.78.78-.78 2.05 0 2.83L4 21.41c.39.39.9.59 1.41.59.51 0 1.02-.2 1.41-.59l7.78-7.78 2.81-2.81c.8-.78.8-2.07 0-2.86zM5.41 20L4 18.59l7.72-7.72 1.47 1.35L5.41 20z\"/>\n",
              "  </svg>\n",
              "      </button>\n",
              "      \n",
              "  <style>\n",
              "    .colab-df-container {\n",
              "      display:flex;\n",
              "      flex-wrap:wrap;\n",
              "      gap: 12px;\n",
              "    }\n",
              "\n",
              "    .colab-df-convert {\n",
              "      background-color: #E8F0FE;\n",
              "      border: none;\n",
              "      border-radius: 50%;\n",
              "      cursor: pointer;\n",
              "      display: none;\n",
              "      fill: #1967D2;\n",
              "      height: 32px;\n",
              "      padding: 0 0 0 0;\n",
              "      width: 32px;\n",
              "    }\n",
              "\n",
              "    .colab-df-convert:hover {\n",
              "      background-color: #E2EBFA;\n",
              "      box-shadow: 0px 1px 2px rgba(60, 64, 67, 0.3), 0px 1px 3px 1px rgba(60, 64, 67, 0.15);\n",
              "      fill: #174EA6;\n",
              "    }\n",
              "\n",
              "    [theme=dark] .colab-df-convert {\n",
              "      background-color: #3B4455;\n",
              "      fill: #D2E3FC;\n",
              "    }\n",
              "\n",
              "    [theme=dark] .colab-df-convert:hover {\n",
              "      background-color: #434B5C;\n",
              "      box-shadow: 0px 1px 3px 1px rgba(0, 0, 0, 0.15);\n",
              "      filter: drop-shadow(0px 1px 2px rgba(0, 0, 0, 0.3));\n",
              "      fill: #FFFFFF;\n",
              "    }\n",
              "  </style>\n",
              "\n",
              "      <script>\n",
              "        const buttonEl =\n",
              "          document.querySelector('#df-0c5276ee-6cba-4b4b-9087-1c5290794c6e button.colab-df-convert');\n",
              "        buttonEl.style.display =\n",
              "          google.colab.kernel.accessAllowed ? 'block' : 'none';\n",
              "\n",
              "        async function convertToInteractive(key) {\n",
              "          const element = document.querySelector('#df-0c5276ee-6cba-4b4b-9087-1c5290794c6e');\n",
              "          const dataTable =\n",
              "            await google.colab.kernel.invokeFunction('convertToInteractive',\n",
              "                                                     [key], {});\n",
              "          if (!dataTable) return;\n",
              "\n",
              "          const docLinkHtml = 'Like what you see? Visit the ' +\n",
              "            '<a target=\"_blank\" href=https://colab.research.google.com/notebooks/data_table.ipynb>data table notebook</a>'\n",
              "            + ' to learn more about interactive tables.';\n",
              "          element.innerHTML = '';\n",
              "          dataTable['output_type'] = 'display_data';\n",
              "          await google.colab.output.renderOutput(dataTable, element);\n",
              "          const docLink = document.createElement('div');\n",
              "          docLink.innerHTML = docLinkHtml;\n",
              "          element.appendChild(docLink);\n",
              "        }\n",
              "      </script>\n",
              "    </div>\n",
              "  </div>\n",
              "  "
            ]
          },
          "metadata": {},
          "execution_count": 10
        }
      ]
    },
    {
      "cell_type": "markdown",
      "source": [
        "Целевую переменную сохраним в `y`:"
      ],
      "metadata": {
        "id": "gzQy2ad4Uwmi"
      }
    },
    {
      "cell_type": "code",
      "source": [
        "y = data['target']\n",
        "y[:5]"
      ],
      "metadata": {
        "colab": {
          "base_uri": "https://localhost:8080/"
        },
        "id": "WMCQs0slUw_k",
        "outputId": "ac6fb7a3-ee98-46a7-c19c-6a8bcf58577e"
      },
      "execution_count": 13,
      "outputs": [
        {
          "output_type": "execute_result",
          "data": {
            "text/plain": [
              "array([24. , 21.6, 34.7, 33.4, 36.2])"
            ]
          },
          "metadata": {},
          "execution_count": 13
        }
      ]
    },
    {
      "cell_type": "markdown",
      "source": [
        "Разделим данные на обучающую и тестовую выборки:"
      ],
      "metadata": {
        "id": "dDn2sAtvUxJB"
      }
    },
    {
      "cell_type": "code",
      "source": [
        "X_train, X_test, y_train, y_test = train_test_split(X, y, test_size=0.25, random_state=42)"
      ],
      "metadata": {
        "id": "dsP449LjUxTA"
      },
      "execution_count": 14,
      "outputs": []
    },
    {
      "cell_type": "markdown",
      "source": [
        "Нормализуем значения признаков:"
      ],
      "metadata": {
        "id": "jB-BjlZvUxce"
      }
    },
    {
      "cell_type": "code",
      "source": [
        "scaler = StandardScaler()"
      ],
      "metadata": {
        "id": "1t1nN_nSUxmw"
      },
      "execution_count": 15,
      "outputs": []
    },
    {
      "cell_type": "code",
      "source": [
        "X_train = scaler.fit_transform(X_train)"
      ],
      "metadata": {
        "id": "yiBzdyBUUxw-"
      },
      "execution_count": 17,
      "outputs": []
    },
    {
      "cell_type": "code",
      "source": [
        "X_test = scaler.transform(X_test)"
      ],
      "metadata": {
        "id": "kMA8MImcUx7G"
      },
      "execution_count": 18,
      "outputs": []
    },
    {
      "cell_type": "markdown",
      "source": [
        "## Градиентный спуск\n",
        "\n",
        "Смысл градиентного спуска в поиске минимума функции в точке, в которой производная этой функции будет равна нулю (аналитически, найдя корень производной функции) или очень близка к нулю (численно).\n",
        "\n",
        "Знак производной функции в точке показывает, возрастает функция в этой точке или убывает (ну или имеет экстремум, если производная функции равна нулю или не определена). \n",
        "\n",
        "Если производная в точке $x$ на нашем графике будет $> 0$, функция в этой точке возрастает, а это значит, что минимум функции находится левее точки $x$. Получается, если мы уменьшим $x$ на некоторую величину, то мы можем приблизиться к точке минимума.\n",
        "\n",
        "Тогда поиск точки минимума сводится к следующему:\n",
        "\n",
        "1. берем случайную точку $x$ функции $F$;\n",
        "2. вычисляем производную $F'(x)$\n",
        "3. если $F'(x) > 0$, уменьшаем $x$ ( функция возрастает); если $F'(x) < 0$ (функция убывает), увеличиваем $x$;\n",
        "4. повторяем шаги 2-3, пока не приблизимся к минимуму функции. \n",
        "\n",
        "Уменьшать или увеличивать $x$ будем очень маленькими шагами, чтобы не перескочить точку минимума.\n",
        "\n",
        "Для линейной регрессии мы будем оптимизировать, то есть искать минимум, функцию потерь  `mean squared error`:\n",
        "\n",
        "$$MSE  = \\frac{1}{n}\\sum_{i=1}^{n}\\left(y_{pred} - y_{true}\\right)^2$$\n",
        "\n",
        "А производная этой функции потерь выглядит так:\n",
        "\n",
        "$$\\frac{\\partial{MSE}}{\\partial{w}} = \\frac{2}{n}(y_{pred} - Y) X $$\n",
        "\n",
        "Будем искать такое значение $w$, при котором $MSE$ будет равна или очень близка к нулю.\n"
      ],
      "metadata": {
        "id": "3b5MX2rRl6F0"
      }
    },
    {
      "cell_type": "markdown",
      "source": [
        "### Шаг 1\n",
        "\n",
        "#### Берем случайную величину $w$"
      ],
      "metadata": {
        "id": "xZhgMUXXnoTi"
      }
    },
    {
      "cell_type": "markdown",
      "source": [
        "Инициализируем случайные веса признаков. Весов у нас будет на 1 больше, чем признаков, так как нам нужен еще и свободный член в уравнении линейной регрессии:"
      ],
      "metadata": {
        "id": "lIVBPKvMns3T"
      }
    },
    {
      "cell_type": "code",
      "source": [
        "w = np.random.randn(X.shape[1] + 1)\n",
        "w"
      ],
      "metadata": {
        "id": "UcoaIkwkn67Y",
        "colab": {
          "base_uri": "https://localhost:8080/"
        },
        "outputId": "9761a4fe-9bba-46fb-ea11-e57361ce7ab4"
      },
      "execution_count": 75,
      "outputs": [
        {
          "output_type": "execute_result",
          "data": {
            "text/plain": [
              "array([-0.28128993,  0.48226699,  0.66916029,  2.11942799, -0.94491985,\n",
              "       -2.84444412,  1.06350122,  1.66383934,  0.67354859,  0.12335694,\n",
              "       -0.94153276, -1.26368643,  0.56885558,  1.54543897])"
            ]
          },
          "metadata": {},
          "execution_count": 75
        }
      ]
    },
    {
      "cell_type": "markdown",
      "source": [
        "### Шаг 2\n",
        "\n",
        "#### Вычисляем производную функции потерь"
      ],
      "metadata": {
        "id": "gVYalL71o2wV"
      }
    },
    {
      "cell_type": "markdown",
      "source": [
        "Найдем градиент, то есть вектор частных производных нашей функции потерь:"
      ],
      "metadata": {
        "id": "xGSoMWrHpjL8"
      }
    },
    {
      "cell_type": "code",
      "source": [
        "gradient = 2 * ((np.hstack([np.ones([X.shape[0], 1]), X]) @ w) - y).reshape(-1, 1) * np.hstack([np.ones([X.shape[0], 1]), X])\n",
        "gradient = np.mean(gradient, axis=0)\n",
        "gradient"
      ],
      "metadata": {
        "colab": {
          "base_uri": "https://localhost:8080/"
        },
        "id": "oNoEcQgyplZs",
        "outputId": "9d9af5f7-05cb-410f-d4a2-a0c532943b64"
      },
      "execution_count": 76,
      "outputs": [
        {
          "output_type": "execute_result",
          "data": {
            "text/plain": [
              "array([-1.04463047e+02, -1.77453594e+03,  3.76603103e+02, -2.33662571e+03,\n",
              "       -2.14335149e+00, -7.59337815e+01, -6.16261816e+02, -9.26491531e+03,\n",
              "       -1.54397611e+02, -3.29404387e+03, -9.01055144e+04, -2.20231803e+03,\n",
              "       -1.92723231e+04, -2.13316130e+03])"
            ]
          },
          "metadata": {},
          "execution_count": 76
        }
      ]
    },
    {
      "cell_type": "markdown",
      "source": [
        "### Шаг 3\n",
        "\n",
        "### Обновляем веса $w$"
      ],
      "metadata": {
        "id": "L8f3TlawpwJ9"
      }
    },
    {
      "cell_type": "markdown",
      "source": [
        "Если $F'(x) > 0$, уменьшаем $w$. Если $F'(x) < 0$, увеличиваем $w$. Не забываем о скорости обучения:"
      ],
      "metadata": {
        "id": "wH7Y4oOzqpcT"
      }
    },
    {
      "cell_type": "code",
      "source": [
        "w -= gradient * 0.01\n",
        "w"
      ],
      "metadata": {
        "id": "RuQDoCvtq9Fr",
        "colab": {
          "base_uri": "https://localhost:8080/"
        },
        "outputId": "a51509b1-e392-4954-a5bf-b9e0951de67e"
      },
      "execution_count": 77,
      "outputs": [
        {
          "output_type": "execute_result",
          "data": {
            "text/plain": [
              "array([ 7.63340541e-01,  1.82276264e+01, -3.09687074e+00,  2.54856851e+01,\n",
              "       -9.23486338e-01, -2.08510630e+00,  7.22611937e+00,  9.43129925e+01,\n",
              "        2.21752470e+00,  3.30637957e+01,  9.00113611e+02,  2.07594939e+01,\n",
              "        1.93292087e+02,  2.28770520e+01])"
            ]
          },
          "metadata": {},
          "execution_count": 77
        }
      ]
    },
    {
      "cell_type": "markdown",
      "source": [
        "## Класс линейной регрессии"
      ],
      "metadata": {
        "id": "aPCsbPc_v_qV"
      }
    },
    {
      "cell_type": "markdown",
      "source": [
        "Повторяем шаги 2, 3 до тех пор, пока не добьемся приемлемого качества или определенное количество итераций. Создадим для этого новый класс."
      ],
      "metadata": {
        "id": "eHT92D87xJ2J"
      }
    },
    {
      "cell_type": "markdown",
      "source": [
        "Реализуем класс линейной регрессии с помощью градиентного спуска:"
      ],
      "metadata": {
        "id": "5b0vXSp_5EVe"
      }
    },
    {
      "cell_type": "code",
      "source": [
        "class MyLinearRegression():\n",
        "    def __init__(self, lr=0.1, iters=1000):\n",
        "        self.lr = lr # скорость обучения\n",
        "        self.iters = iters # количество итераций\n",
        "        self.weights_ = None # веса признаков\n",
        "        self.intercept_ = None # свободный член\n",
        "        self.MSE_ = None # будем хранить значения MSE каждой итерации\n",
        "\n",
        "    def fit(self, X, y): # на вход принимает таблицу с признаками и целевую переменную\n",
        "        X = np.hstack([np.ones([X.shape[0], 1]), X]) # к таблице (массиву) признаков добавляем столбец для свободного члена\n",
        "        y = y\n",
        "        w = np.random.randn(X.shape[1]) # инициализируем случайне веса\n",
        "        MSE = []\n",
        "\n",
        "        for i in range(self.iters): # запускаем цикл\n",
        "            error = np.mean((X @ w - y) ** 2) # считаем MSE\n",
        "            MSE.append(error) # сохраняем среднеквадратическую ошибку в списке\n",
        "            gradient = 2 * X.T @ (X @ w - y) / X.shape[0] # считаем градиент\n",
        "            # в шаге 2 мы делали это двумя строками кода, можно и одной, если матрицу признаков транспонирвать и переставить множители местами \n",
        "            w -= gradient * self.lr / ((i + 1) ** 0.5) # обновляем веса\n",
        "            # с каждой последующей итерацией скорость обучения будет снижаться\n",
        "            \n",
        "        self.weights_ = w[1:] # веса признаков\n",
        "        self.intercept_ = w[0] # свободный член\n",
        "        self.MSE_ = MSE # все MSE всех итераций\n",
        "\n",
        "    def predict(self, X):\n",
        "        X = X\n",
        "        prediction = X @ self.weights_ + self.intercept_ # предсказываем\n",
        "    \n",
        "        return prediction   \n"
      ],
      "metadata": {
        "id": "NRJc1x0ryuQ2"
      },
      "execution_count": 68,
      "outputs": []
    },
    {
      "cell_type": "markdown",
      "source": [
        "Иницилизируем объект класса `MyLinearRegression`:"
      ],
      "metadata": {
        "id": "Jcr6qIZgINjz"
      }
    },
    {
      "cell_type": "code",
      "source": [
        "mlr = MyLinearRegression()"
      ],
      "metadata": {
        "id": "zZc79bv8y6KU"
      },
      "execution_count": 69,
      "outputs": []
    },
    {
      "cell_type": "markdown",
      "source": [
        "Обучим модель линейной регрессии:"
      ],
      "metadata": {
        "id": "yEK9kaLMq6UL"
      }
    },
    {
      "cell_type": "code",
      "source": [
        "mlr.fit(X_train, y_train)"
      ],
      "metadata": {
        "id": "bMFMmna4rBdj"
      },
      "execution_count": 70,
      "outputs": []
    },
    {
      "cell_type": "markdown",
      "source": [
        "Визуализуем, как улучшались метрика качества MSE с каждой последующей итерацией на обучающей выборке:"
      ],
      "metadata": {
        "id": "KnQfI6RU2Wed"
      }
    },
    {
      "cell_type": "code",
      "source": [
        "plt.figure(figsize=(10, 5))\n",
        "plt.plot(mlr.MSE_)\n",
        "plt.grid(True)\n",
        "plt.ylabel('MSE')\n",
        "plt.xlabel('Итерации')\n",
        "plt.show()"
      ],
      "metadata": {
        "colab": {
          "base_uri": "https://localhost:8080/",
          "height": 334
        },
        "id": "_AaJqvh42lu_",
        "outputId": "59739cf9-e65f-4aba-9094-13210b427288"
      },
      "execution_count": 71,
      "outputs": [
        {
          "output_type": "display_data",
          "data": {
            "text/plain": [
              "<Figure size 720x360 with 1 Axes>"
            ],
            "image/png": "[encoded data removed]"
          },
          "metadata": {
            "needs_background": "light"
          }
        }
      ]
    },
    {
      "cell_type": "markdown",
      "source": [
        "Посмотрим на величины весов признаков. Чем больше по модулю вес признака, тем он важнее:"
      ],
      "metadata": {
        "id": "HnhhMaSfn-B7"
      }
    },
    {
      "cell_type": "code",
      "source": [
        "plt.figure(figsize=(15, 6))\n",
        "plt.bar(data['feature_names'], mlr.weights_)\n",
        "plt.xticks(rotation=45, ha='right')\n",
        "plt.grid(True)\n",
        "plt.show()"
      ],
      "metadata": {
        "id": "ePxTQJ5YTkrp",
        "colab": {
          "base_uri": "https://localhost:8080/",
          "height": 400
        },
        "outputId": "e8cb3dc1-1c54-4f2b-e1d7-ce80f6d46877"
      },
      "execution_count": 72,
      "outputs": [
        {
          "output_type": "display_data",
          "data": {
            "text/plain": [
              "<Figure size 1080x432 with 1 Axes>"
            ],
            "image/png": "[encoded data removed]"
          },
          "metadata": {
            "needs_background": "light"
          }
        }
      ]
    },
    {
      "cell_type": "markdown",
      "source": [
        "Проверим метрики качества модели на тестовой выборке:"
      ],
      "metadata": {
        "id": "UA2L7kOC_WmC"
      }
    },
    {
      "cell_type": "code",
      "source": [
        "print(f\"R2: {r2_score(y_test, mlr.predict(X_test))}\")\n",
        "print(f\"MSE: {mean_squared_error(y_test, mlr.predict(X_test))}\")"
      ],
      "metadata": {
        "colab": {
          "base_uri": "https://localhost:8080/"
        },
        "outputId": "85c9eb0b-8e15-4938-909c-1f17c0917f5f",
        "id": "9mUILse0_fx7"
      },
      "execution_count": 73,
      "outputs": [
        {
          "output_type": "stream",
          "name": "stdout",
          "text": [
            "R2: 0.6801475316404914\n",
            "MSE: 22.398354749989693\n"
          ]
        }
      ]
    },
    {
      "cell_type": "markdown",
      "source": [
        "Сравним с алгоритмом линейной регрессией из библиотеки `sklearn`:"
      ],
      "metadata": {
        "id": "qgpxHB2fE4Uc"
      }
    },
    {
      "cell_type": "code",
      "source": [
        "lr = LinearRegression()"
      ],
      "metadata": {
        "id": "APwPw9bWFBUx"
      },
      "execution_count": 59,
      "outputs": []
    },
    {
      "cell_type": "code",
      "source": [
        "lr.fit(X_train, y_train)"
      ],
      "metadata": {
        "colab": {
          "base_uri": "https://localhost:8080/"
        },
        "id": "E8iw4JPUFKOz",
        "outputId": "22558694-b7b1-476f-aa8e-847b7227be98"
      },
      "execution_count": 60,
      "outputs": [
        {
          "output_type": "execute_result",
          "data": {
            "text/plain": [
              "LinearRegression()"
            ]
          },
          "metadata": {},
          "execution_count": 60
        }
      ]
    },
    {
      "cell_type": "code",
      "source": [
        "print(f\"R2: {r2_score(y_test, lr.predict(X_test))}\")\n",
        "print(f\"MSE: {mean_squared_error(y_test, lr.predict(X_test))}\")"
      ],
      "metadata": {
        "colab": {
          "base_uri": "https://localhost:8080/"
        },
        "id": "zPpORHWqFpcc",
        "outputId": "1dd25cc4-358d-4c0e-d30b-17982fdf6de6"
      },
      "execution_count": 61,
      "outputs": [
        {
          "output_type": "stream",
          "name": "stdout",
          "text": [
            "R2: 0.6844267283527132\n",
            "MSE: 22.098694827097976\n"
          ]
        }
      ]
    }
  ]
}